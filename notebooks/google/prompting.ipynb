{
 "cells": [
  {
   "metadata": {},
   "cell_type": "markdown",
   "source": [
    "# Google GenAI - Prompting\n",
    "\n",
    "Explore different prompting techniques through Google AI Studio.\n",
    "\n",
    "Resources:\n",
    "- [Kaggle | Day 1 - Prompting](https://www.kaggle.com/code/markishere/day-1-prompting)\n",
    "\n",
    "NOTE: Setup a Google AI Studio API Key"
   ],
   "id": "be26c99df921261e"
  },
  {
   "metadata": {},
   "cell_type": "markdown",
   "source": "# Setup Notebook",
   "id": "68d745c602b0eb58"
  },
  {
   "metadata": {},
   "cell_type": "markdown",
   "source": "## Imports",
   "id": "32106f5ff5e0246d"
  },
  {
   "metadata": {
    "ExecuteTime": {
     "end_time": "2024-11-12T10:33:25.742627Z",
     "start_time": "2024-11-12T10:33:25.722308Z"
    }
   },
   "cell_type": "code",
   "source": [
    "# Import Standard Libraries\n",
    "import os\n",
    "import google.generativeai as genai\n",
    "from dotenv import load_dotenv\n",
    "from IPython.display import HTML, Markdown, display"
   ],
   "id": "8fba22dfb6626f2f",
   "outputs": [],
   "execution_count": 4
  },
  {
   "metadata": {},
   "cell_type": "markdown",
   "source": "## Load Environment Variables",
   "id": "d20cbfdadb79e33d"
  },
  {
   "metadata": {
    "ExecuteTime": {
     "end_time": "2024-11-12T10:33:42.465332Z",
     "start_time": "2024-11-12T10:33:42.456286Z"
    }
   },
   "cell_type": "code",
   "source": [
    "# Load environment variables\n",
    "load_dotenv('./../../.env')"
   ],
   "id": "74d0200bf10e8442",
   "outputs": [
    {
     "data": {
      "text/plain": [
       "True"
      ]
     },
     "execution_count": 5,
     "metadata": {},
     "output_type": "execute_result"
    }
   ],
   "execution_count": 5
  },
  {
   "metadata": {
    "ExecuteTime": {
     "end_time": "2024-11-12T10:35:35.246414Z",
     "start_time": "2024-11-12T10:35:35.241517Z"
    }
   },
   "cell_type": "code",
   "source": [
    "# Read environment varialbes\n",
    "google_api_key = os.getenv('GOOGLE_API_KEY')"
   ],
   "id": "ed7c93686004202",
   "outputs": [],
   "execution_count": 6
  },
  {
   "metadata": {},
   "cell_type": "markdown",
   "source": "",
   "id": "51869e1faa9b7b61"
  },
  {
   "metadata": {},
   "cell_type": "markdown",
   "source": "## Configure Authentication",
   "id": "c8be47ec42c1424b"
  },
  {
   "metadata": {
    "ExecuteTime": {
     "end_time": "2024-11-12T10:45:19.418061Z",
     "start_time": "2024-11-12T10:45:19.413762Z"
    }
   },
   "cell_type": "code",
   "source": [
    "# Set the Google AI Studio API Key for genai SDK\n",
    "genai.configure(api_key=google_api_key)"
   ],
   "id": "4570814030d5f598",
   "outputs": [],
   "execution_count": 7
  },
  {
   "metadata": {},
   "cell_type": "markdown",
   "source": "# General Prompting",
   "id": "58bff18308ed98fd"
  },
  {
   "metadata": {},
   "cell_type": "markdown",
   "source": "## Usage Example",
   "id": "13eb5d793d4da7f6"
  },
  {
   "metadata": {
    "ExecuteTime": {
     "end_time": "2024-11-12T10:46:01.416571Z",
     "start_time": "2024-11-12T10:45:58.534549Z"
    }
   },
   "cell_type": "code",
   "source": [
    "# Instance model\n",
    "model = genai.GenerativeModel('gemini-1.5-flash')\n",
    "\n",
    "# Inference\n",
    "response = model.generate_content(\"What's an LLM?\")\n",
    "\n",
    "# Print response\n",
    "Markdown(response.text)"
   ],
   "id": "62fecc8e564634e6",
   "outputs": [
    {
     "data": {
      "text/plain": [
       "<IPython.core.display.Markdown object>"
      ],
      "text/markdown": "LLM stands for **Large Language Model**. It's a type of artificial intelligence (AI) that excels at understanding and generating human-like text. \n\nHere's a breakdown:\n\n* **Large:** LLMs are trained on massive amounts of text data, often scraped from the internet. This allows them to learn complex patterns and nuances of language.\n* **Language:** LLMs focus on language, specifically text. They can process, understand, and generate text in various forms, including articles, stories, poems, code, and more.\n* **Model:** LLMs are statistical models, meaning they learn from data and make predictions based on what they've learned. They don't \"think\" like humans, but they can mimic human language in surprising ways.\n\n**Think of LLMs as AI that can do the following:**\n\n* **Understand your requests:** You can ask them questions, give them instructions, or even have a conversation with them.\n* **Generate text:** They can write summaries, create stories, translate languages, and even compose different creative forms of text.\n* **Learn and adapt:** With more data and training, LLMs continue to improve their abilities.\n\n**Examples of LLMs:**\n\n* **GPT-3:** Developed by OpenAI, it's known for its ability to write creative and informative text.\n* **LaMDA:** Developed by Google, it's focused on generating dialogue and conversation.\n* **BERT:** Developed by Google, it excels at understanding the meaning of words in context.\n\n**Applications of LLMs:**\n\n* **Chatbots and virtual assistants:** Providing personalized interactions and answering questions.\n* **Content creation:** Generating articles, stories, and even poems.\n* **Translation:** Translating text between languages.\n* **Code generation:** Helping developers write code more efficiently.\n* **Personalized learning:** Tailoring educational materials to individual needs.\n\nLLMs are a rapidly evolving field with incredible potential to transform how we interact with technology and information. They are still under development, but they are already having a significant impact on various industries and aspects of our lives.\n"
     },
     "execution_count": 8,
     "metadata": {},
     "output_type": "execute_result"
    }
   ],
   "execution_count": 8
  }
 ],
 "metadata": {
  "kernelspec": {
   "display_name": "nexusllm",
   "language": "python",
   "name": "nexusllm"
  },
  "language_info": {
   "codemirror_mode": {
    "name": "ipython",
    "version": 2
   },
   "file_extension": ".py",
   "mimetype": "text/x-python",
   "name": "python",
   "nbconvert_exporter": "python",
   "pygments_lexer": "ipython2",
   "version": "2.7.6"
  }
 },
 "nbformat": 4,
 "nbformat_minor": 5
}
