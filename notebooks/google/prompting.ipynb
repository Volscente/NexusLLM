{
 "cells": [
  {
   "metadata": {},
   "cell_type": "markdown",
   "source": [
    "# Google GenAI - Prompting\n",
    "\n",
    "Explore different prompting techniques through Google AI Studio.\n",
    "\n",
    "Resources:\n",
    "- [Kaggle | Day 1 - Prompting](https://www.kaggle.com/code/markishere/day-1-prompting)\n",
    "\n",
    "NOTE: Setup a Google AI Studio API Key"
   ],
   "id": "be26c99df921261e"
  },
  {
   "metadata": {},
   "cell_type": "markdown",
   "source": "# Setup Notebook",
   "id": "68d745c602b0eb58"
  },
  {
   "metadata": {},
   "cell_type": "markdown",
   "source": "## Imports",
   "id": "32106f5ff5e0246d"
  },
  {
   "metadata": {
    "ExecuteTime": {
     "end_time": "2024-11-12T10:30:35.900087Z",
     "start_time": "2024-11-12T10:30:31.990335Z"
    }
   },
   "cell_type": "code",
   "source": [
    "# Import Standard Libraries\n",
    "import os\n",
    "import google.generativeai as genai"
   ],
   "id": "8fba22dfb6626f2f",
   "outputs": [],
   "execution_count": 2
  },
  {
   "metadata": {},
   "cell_type": "code",
   "outputs": [],
   "execution_count": null,
   "source": "",
   "id": "74d0200bf10e8442"
  }
 ],
 "metadata": {
  "kernelspec": {
   "display_name": "nexusllm",
   "language": "python",
   "name": "nexusllm"
  },
  "language_info": {
   "codemirror_mode": {
    "name": "ipython",
    "version": 2
   },
   "file_extension": ".py",
   "mimetype": "text/x-python",
   "name": "python",
   "nbconvert_exporter": "python",
   "pygments_lexer": "ipython2",
   "version": "2.7.6"
  }
 },
 "nbformat": 4,
 "nbformat_minor": 5
}
