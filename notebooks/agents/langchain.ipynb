{
 "cells": [
  {
   "metadata": {},
   "cell_type": "markdown",
   "source": [
    "# LangChain Experimentation\n",
    "\n",
    "Experiment with LangChain Agents through Open Source models."
   ],
   "id": "f96fd75532a86adc"
  },
  {
   "metadata": {},
   "cell_type": "markdown",
   "source": "# Notebook Setup",
   "id": "375caa5582b97781"
  },
  {
   "metadata": {},
   "cell_type": "markdown",
   "source": "## Imports",
   "id": "75d58392caa0e555"
  },
  {
   "cell_type": "code",
   "id": "initial_id",
   "metadata": {
    "collapsed": true,
    "ExecuteTime": {
     "end_time": "2025-04-17T14:14:52.069841Z",
     "start_time": "2025-04-17T14:14:51.082042Z"
    }
   },
   "source": [
    "# Import standard Libraries\n",
    "from langchain_core.prompts import PromptTemplate\n",
    "from langchain_huggingface import Hugg"
   ],
   "outputs": [],
   "execution_count": 1
  },
  {
   "metadata": {},
   "cell_type": "code",
   "outputs": [],
   "execution_count": null,
   "source": "",
   "id": "f28e7013ffcf1bc5"
  }
 ],
 "metadata": {
  "kernelspec": {
   "display_name": "Python 3",
   "language": "python",
   "name": "python3"
  },
  "language_info": {
   "codemirror_mode": {
    "name": "ipython",
    "version": 2
   },
   "file_extension": ".py",
   "mimetype": "text/x-python",
   "name": "python",
   "nbconvert_exporter": "python",
   "pygments_lexer": "ipython2",
   "version": "2.7.6"
  }
 },
 "nbformat": 4,
 "nbformat_minor": 5
}
