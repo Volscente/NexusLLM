{
 "cells": [
  {
   "metadata": {},
   "cell_type": "markdown",
   "source": [
    "# Agents\n",
    "\n",
    "Explore the Agent definition with different technologies."
   ],
   "id": "25f9b5f4633c05e3"
  },
  {
   "metadata": {},
   "cell_type": "markdown",
   "source": "# Setup Notebook",
   "id": "cd281877b38c9878"
  },
  {
   "metadata": {},
   "cell_type": "markdown",
   "source": "## Imports",
   "id": "88a916f6843f7c17"
  },
  {
   "metadata": {
    "ExecuteTime": {
     "end_time": "2024-11-14T14:30:19.888808Z",
     "start_time": "2024-11-14T14:30:19.886744Z"
    }
   },
   "cell_type": "code",
   "source": [
    "# Import Standard Libraries\n",
    "import os\n",
    "import sqlite3\n",
    "import google.generativeai as genai\n",
    "from dotenv import load_dotenv\n",
    "from google.api_core import retry\n",
    "from IPython.display import Markdown"
   ],
   "id": "28c54d0dcdb0cdd2",
   "outputs": [],
   "execution_count": 11
  },
  {
   "metadata": {},
   "cell_type": "markdown",
   "source": "## Load Environment Variables",
   "id": "d11d9ca42fb7361"
  },
  {
   "metadata": {
    "ExecuteTime": {
     "end_time": "2024-11-14T14:33:28.013637Z",
     "start_time": "2024-11-14T14:33:28.010154Z"
    }
   },
   "cell_type": "code",
   "source": [
    "# Load environment variables\n",
    "load_dotenv('./../../.env')\n",
    "\n",
    "# Read environment variables\n",
    "google_api_key = os.getenv('GOOGLE_API_KEY')"
   ],
   "id": "6b653756d7daa610",
   "outputs": [],
   "execution_count": 14
  },
  {
   "metadata": {},
   "cell_type": "markdown",
   "source": "## Configure Authentication",
   "id": "e38272290ed9bb24"
  },
  {
   "metadata": {
    "ExecuteTime": {
     "end_time": "2024-11-14T14:33:39.815560Z",
     "start_time": "2024-11-14T14:33:39.810872Z"
    }
   },
   "cell_type": "code",
   "source": [
    "# Set the Google AI Studio API Key for genai SDK\n",
    "genai.configure(api_key=google_api_key)"
   ],
   "id": "2b56d769f22a5e3b",
   "outputs": [],
   "execution_count": 15
  },
  {
   "metadata": {},
   "cell_type": "markdown",
   "source": "# Read Data",
   "id": "8cd67db77172188"
  },
  {
   "metadata": {},
   "cell_type": "markdown",
   "source": [
    "## Create Local Database\n",
    "\n",
    "Create a local database to showcase Agent Tools usage capabilities."
   ],
   "id": "9601cdab2b3a7b3f"
  },
  {
   "metadata": {
    "ExecuteTime": {
     "end_time": "2024-11-14T14:24:42.185210Z",
     "start_time": "2024-11-14T14:24:41.026547Z"
    }
   },
   "cell_type": "code",
   "source": [
    "%load_ext sql\n",
    "%sql sqlite:///sample.db"
   ],
   "id": "727f0db401e02cc5",
   "outputs": [],
   "execution_count": 6
  },
  {
   "metadata": {
    "ExecuteTime": {
     "end_time": "2024-11-14T14:24:42.200774Z",
     "start_time": "2024-11-14T14:24:42.190028Z"
    }
   },
   "cell_type": "code",
   "source": [
    "%%sql\n",
    "-- Create the 'products' table\n",
    "CREATE TABLE IF NOT EXISTS products (\n",
    "  \tproduct_id INTEGER PRIMARY KEY AUTOINCREMENT,\n",
    "  \tproduct_name VARCHAR(255) NOT NULL,\n",
    "  \tprice DECIMAL(10, 2) NOT NULL\n",
    "  );\n",
    "\n",
    "-- Create the 'staff' table\n",
    "CREATE TABLE IF NOT EXISTS staff (\n",
    "  \tstaff_id INTEGER PRIMARY KEY AUTOINCREMENT,\n",
    "  \tfirst_name VARCHAR(255) NOT NULL,\n",
    "  \tlast_name VARCHAR(255) NOT NULL\n",
    "  );\n",
    "\n",
    "-- Create the 'orders' table\n",
    "CREATE TABLE IF NOT EXISTS orders (\n",
    "  \torder_id INTEGER PRIMARY KEY AUTOINCREMENT,\n",
    "  \tcustomer_name VARCHAR(255) NOT NULL,\n",
    "  \tstaff_id INTEGER NOT NULL,\n",
    "  \tproduct_id INTEGER NOT NULL,\n",
    "  \tFOREIGN KEY (staff_id) REFERENCES staff (staff_id),\n",
    "  \tFOREIGN KEY (product_id) REFERENCES products (product_id)\n",
    "  );\n",
    "\n",
    "-- Insert data into the 'products' table\n",
    "INSERT INTO products (product_name, price) VALUES\n",
    "  \t('Laptop', 799.99),\n",
    "  \t('Keyboard', 129.99),\n",
    "  \t('Mouse', 29.99);\n",
    "\n",
    "-- Insert data into the 'staff' table\n",
    "INSERT INTO staff (first_name, last_name) VALUES\n",
    "  \t('Alice', 'Smith'),\n",
    "  \t('Bob', 'Johnson'),\n",
    "  \t('Charlie', 'Williams');\n",
    "\n",
    "-- Insert data into the 'orders' table\n",
    "INSERT INTO orders (customer_name, staff_id, product_id) VALUES\n",
    "  \t('David Lee', 1, 1),\n",
    "  \t('Emily Chen', 2, 2),\n",
    "  \t('Frank Brown', 1, 3);"
   ],
   "id": "49b4d6131ceeb970",
   "outputs": [
    {
     "name": "stdout",
     "output_type": "stream",
     "text": [
      " * sqlite:///sample.db\n",
      "Done.\n",
      "Done.\n",
      "Done.\n",
      "Done.\n",
      "Done.\n",
      "Done.\n"
     ]
    },
    {
     "data": {
      "text/plain": [
       "[]"
      ]
     },
     "execution_count": 7,
     "metadata": {},
     "output_type": "execute_result"
    }
   ],
   "execution_count": 7
  },
  {
   "metadata": {},
   "cell_type": "markdown",
   "source": "# Tools",
   "id": "39fe1929d5f462a8"
  },
  {
   "metadata": {},
   "cell_type": "markdown",
   "source": "## Data Stores",
   "id": "b482d1f201c3b63"
  },
  {
   "metadata": {},
   "cell_type": "markdown",
   "source": "### SQLite Data Stores with Gemini",
   "id": "17b9726b070acf8b"
  },
  {
   "metadata": {
    "ExecuteTime": {
     "end_time": "2024-11-14T14:28:28.430733Z",
     "start_time": "2024-11-14T14:28:28.427674Z"
    }
   },
   "cell_type": "code",
   "source": [
    "# Connect to DB\n",
    "db_file = \"sample.db\"\n",
    "db_conn = sqlite3.connect(db_file)"
   ],
   "id": "86de8162802c83f2",
   "outputs": [],
   "execution_count": 9
  },
  {
   "metadata": {
    "ExecuteTime": {
     "end_time": "2024-11-14T14:28:48.418088Z",
     "start_time": "2024-11-14T14:28:48.414313Z"
    }
   },
   "cell_type": "code",
   "source": [
    "# DB helper functions\n",
    "def list_tables() -> list[str]:\n",
    "    \"\"\"Retrieve the names of all tables in the database.\"\"\"\n",
    "    # Include print logging statements so you can see when functions are being called.\n",
    "    print(' - DB CALL: list_tables')\n",
    "\n",
    "    cursor = db_conn.cursor()\n",
    "\n",
    "    # Fetch the table names.\n",
    "    cursor.execute(\"SELECT name FROM sqlite_master WHERE type='table';\")\n",
    "\n",
    "    tables = cursor.fetchall()\n",
    "    return [t[0] for t in tables]\n",
    "\n",
    "def describe_table(table_name: str) -> list[tuple[str, str]]:\n",
    "    \"\"\"Look up the table schema.\n",
    "\n",
    "    Returns:\n",
    "      List of columns, where each entry is a tuple of (column, type).\n",
    "    \"\"\"\n",
    "    print(' - DB CALL: describe_table')\n",
    "\n",
    "    cursor = db_conn.cursor()\n",
    "\n",
    "    cursor.execute(f\"PRAGMA table_info({table_name});\")\n",
    "\n",
    "    schema = cursor.fetchall()\n",
    "    # [column index, column name, column type, ...]\n",
    "    return [(col[1], col[2]) for col in schema]\n",
    "\n",
    "def execute_query(sql: str) -> list[list[str]]:\n",
    "    \"\"\"Execute a SELECT statement, returning the results.\"\"\"\n",
    "    print(' - DB CALL: execute_query')\n",
    "\n",
    "    cursor = db_conn.cursor()\n",
    "\n",
    "    cursor.execute(sql)\n",
    "    return cursor.fetchall()"
   ],
   "id": "60a0eca3d189aa30",
   "outputs": [],
   "execution_count": 10
  },
  {
   "metadata": {
    "ExecuteTime": {
     "end_time": "2024-11-14T14:33:47.458252Z",
     "start_time": "2024-11-14T14:33:47.449756Z"
    }
   },
   "cell_type": "code",
   "source": [
    "# Define the Agent tools\n",
    "db_tools = [list_tables, describe_table, execute_query]\n",
    "\n",
    "# Define system prompt\n",
    "instruction = \"\"\"You are a helpful chatbot that can interact with an SQL database for a computer\n",
    "store. You will take the users questions and turn them into SQL queries using the tools\n",
    "available. Once you have the information you need, you will answer the user's question using\n",
    "the data returned. Use list_tables to see what tables are present, describe_table to understand\n",
    "the schema, and execute_query to issue an SQL SELECT query.\"\"\"\n",
    "\n",
    "# Define Agent LLM's model\n",
    "model = genai.GenerativeModel(\n",
    "    \"models/gemini-1.5-flash-latest\", tools=db_tools, system_instruction=instruction\n",
    ")\n",
    "\n",
    "# Define a retry policy\n",
    "retry_policy = {\"retry\": retry.Retry(predicate=retry.if_transient_error)}\n",
    "\n",
    "# Start a chat\n",
    "chat = model.start_chat(enable_automatic_function_calling=True)"
   ],
   "id": "2599b5b7250b06c0",
   "outputs": [],
   "execution_count": 16
  },
  {
   "metadata": {
    "ExecuteTime": {
     "end_time": "2024-11-14T14:33:49.724771Z",
     "start_time": "2024-11-14T14:33:47.677061Z"
    }
   },
   "cell_type": "code",
   "source": [
    "# Inference\n",
    "resp = chat.send_message(\"What is the cheapest product?\", request_options=retry_policy)\n",
    "Markdown(resp.text)"
   ],
   "id": "1e8495087a375274",
   "outputs": [
    {
     "name": "stdout",
     "output_type": "stream",
     "text": [
      " - DB CALL: list_tables\n",
      " - DB CALL: describe_table\n",
      " - DB CALL: execute_query\n"
     ]
    },
    {
     "data": {
      "text/plain": [
       "<IPython.core.display.Markdown object>"
      ],
      "text/markdown": "The cheapest product is a Mouse. \n"
     },
     "execution_count": 17,
     "metadata": {},
     "output_type": "execute_result"
    }
   ],
   "execution_count": 17
  },
  {
   "metadata": {
    "ExecuteTime": {
     "end_time": "2024-11-14T14:34:11.964266Z",
     "start_time": "2024-11-14T14:34:10.845334Z"
    }
   },
   "cell_type": "code",
   "source": [
    "response = chat.send_message('Which salesperson sold the cheapest product?', request_options=retry_policy)\n",
    "Markdown(response.text)"
   ],
   "id": "db388f9218ea758e",
   "outputs": [
    {
     "name": "stdout",
     "output_type": "stream",
     "text": [
      " - DB CALL: execute_query\n"
     ]
    },
    {
     "data": {
      "text/plain": [
       "<IPython.core.display.Markdown object>"
      ],
      "text/markdown": "The salesperson with id 1 sold the cheapest product. \n"
     },
     "execution_count": 18,
     "metadata": {},
     "output_type": "execute_result"
    }
   ],
   "execution_count": 18
  },
  {
   "metadata": {},
   "cell_type": "code",
   "outputs": [],
   "execution_count": null,
   "source": "",
   "id": "376284b342cb9f80"
  }
 ],
 "metadata": {
  "kernelspec": {
   "display_name": "nexusllm",
   "language": "python",
   "name": "nexusllm"
  },
  "language_info": {
   "codemirror_mode": {
    "name": "ipython",
    "version": 2
   },
   "file_extension": ".py",
   "mimetype": "text/x-python",
   "name": "python",
   "nbconvert_exporter": "python",
   "pygments_lexer": "ipython2",
   "version": "2.7.6"
  }
 },
 "nbformat": 4,
 "nbformat_minor": 5
}
