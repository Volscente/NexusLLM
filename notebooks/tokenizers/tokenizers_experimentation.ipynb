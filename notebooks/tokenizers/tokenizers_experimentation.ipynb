{
 "cells": [
  {
   "metadata": {},
   "cell_type": "markdown",
   "source": [
    "# Tokenizers Experimentation\n",
    "\n",
    "The goal is to experiment with different Tokenizers and evaluate the results."
   ],
   "id": "f503d72d48a91fc1"
  },
  {
   "metadata": {},
   "cell_type": "markdown",
   "source": "# Setup Notebook",
   "id": "a8fa23029db8b73d"
  },
  {
   "metadata": {},
   "cell_type": "markdown",
   "source": "## Imports",
   "id": "312a693cf6ccdf3b"
  },
  {
   "metadata": {
    "ExecuteTime": {
     "end_time": "2025-03-04T11:18:22.620431Z",
     "start_time": "2025-03-04T11:18:22.510485Z"
    }
   },
   "cell_type": "code",
   "source": [
    "# Import Standard Libraries\n",
    "import tiktoken"
   ],
   "id": "6dcef3556c74b4ef",
   "outputs": [],
   "execution_count": 1
  },
  {
   "metadata": {},
   "cell_type": "markdown",
   "source": "# Experimentation",
   "id": "49df21445c9592a5"
  },
  {
   "metadata": {},
   "cell_type": "markdown",
   "source": [
    "## TikToken\n",
    "\n",
    "It is a library with many different Tokenizers defined."
   ],
   "id": "8b7dc128bbc83398"
  },
  {
   "metadata": {
    "ExecuteTime": {
     "end_time": "2025-03-04T11:20:57.540144Z",
     "start_time": "2025-03-04T11:20:52.883509Z"
    }
   },
   "cell_type": "code",
   "source": [
    "# Define the sentence to encode\n",
    "sentence = '    Hello World!!!'\n",
    "\n",
    "# Instance a 'GPT-2' tokenizer\n",
    "tokenizer = tiktoken.get_encoding('gpt2')\n",
    "\n",
    "print('Sentence:', sentence)\n",
    "print('GPT-2 Tokenizer: ', tokenizer.encode(sentence))\n",
    "\n",
    "# Instance the GPT-4 Tokenizer: cl100k_base\n",
    "tokenizer = tiktoken.get_encoding('cl100k_base')\n",
    "\n",
    "print('Sentence:', sentence)\n",
    "print('GPT-2 Tokenizer: ', tokenizer.encode(sentence))"
   ],
   "id": "c3271d6d61f1e494",
   "outputs": [
    {
     "name": "stdout",
     "output_type": "stream",
     "text": [
      "Sentence:     Hello World!!!\n",
      "GPT-2 Tokenizer:  [220, 220, 220, 18435, 2159, 10185]\n",
      "Sentence:     Hello World!!!\n",
      "GPT-2 Tokenizer:  [262, 22691, 4435, 12340]\n"
     ]
    }
   ],
   "execution_count": 2
  },
  {
   "metadata": {},
   "cell_type": "markdown",
   "source": [
    "- In the GPT-4 Tokenizer, the white spaces are merged together with the other words.\n",
    "- This is due to the fact that the REGEX for splitting the words has changed"
   ],
   "id": "a0fb18d08da1bc16"
  },
  {
   "metadata": {},
   "cell_type": "code",
   "outputs": [],
   "execution_count": null,
   "source": "",
   "id": "1e245ab5d3e36975"
  }
 ],
 "metadata": {
  "kernelspec": {
   "display_name": "Python 3",
   "language": "python",
   "name": "python3"
  },
  "language_info": {
   "codemirror_mode": {
    "name": "ipython",
    "version": 2
   },
   "file_extension": ".py",
   "mimetype": "text/x-python",
   "name": "python",
   "nbconvert_exporter": "python",
   "pygments_lexer": "ipython2",
   "version": "2.7.6"
  }
 },
 "nbformat": 4,
 "nbformat_minor": 5
}
