{
 "cells": [
  {
   "metadata": {},
   "cell_type": "markdown",
   "source": [
    "# Tokenizers Experimentation\n",
    "\n",
    "The goal is to experiment with different Tokenizers and evaluate the results."
   ],
   "id": "f503d72d48a91fc1"
  },
  {
   "metadata": {},
   "cell_type": "markdown",
   "source": "# Setup Notebook",
   "id": "a8fa23029db8b73d"
  },
  {
   "metadata": {},
   "cell_type": "markdown",
   "source": "## Imports",
   "id": "312a693cf6ccdf3b"
  },
  {
   "metadata": {
    "ExecuteTime": {
     "end_time": "2025-04-16T13:31:06.591060Z",
     "start_time": "2025-04-16T13:31:03.851604Z"
    }
   },
   "cell_type": "code",
   "source": [
    "# Import Standard Libraries\n",
    "import tiktoken\n",
    "from transformers import AutoTokenizer, AutoModelForSequenceClassification"
   ],
   "id": "6dcef3556c74b4ef",
   "outputs": [],
   "execution_count": 1
  },
  {
   "metadata": {},
   "cell_type": "markdown",
   "source": "# Experimentation",
   "id": "49df21445c9592a5"
  },
  {
   "metadata": {},
   "cell_type": "markdown",
   "source": [
    "## TikToken\n",
    "\n",
    "It is a library with many different Tokenizers defined."
   ],
   "id": "8b7dc128bbc83398"
  },
  {
   "metadata": {
    "ExecuteTime": {
     "end_time": "2025-03-04T11:20:57.540144Z",
     "start_time": "2025-03-04T11:20:52.883509Z"
    }
   },
   "cell_type": "code",
   "source": [
    "# Define the sentence to encode\n",
    "sentence = '    Hello World!!!'\n",
    "\n",
    "# Instance a 'GPT-2' tokenizer\n",
    "tokenizer = tiktoken.get_encoding('gpt2')\n",
    "\n",
    "print('Sentence:', sentence)\n",
    "print('GPT-2 Tokenizer: ', tokenizer.encode(sentence))\n",
    "\n",
    "# Instance the GPT-4 Tokenizer: cl100k_base\n",
    "tokenizer = tiktoken.get_encoding('cl100k_base')\n",
    "\n",
    "print('Sentence:', sentence)\n",
    "print('GPT-2 Tokenizer: ', tokenizer.encode(sentence))"
   ],
   "id": "c3271d6d61f1e494",
   "outputs": [
    {
     "name": "stdout",
     "output_type": "stream",
     "text": [
      "Sentence:     Hello World!!!\n",
      "GPT-2 Tokenizer:  [220, 220, 220, 18435, 2159, 10185]\n",
      "Sentence:     Hello World!!!\n",
      "GPT-2 Tokenizer:  [262, 22691, 4435, 12340]\n"
     ]
    }
   ],
   "execution_count": 2
  },
  {
   "metadata": {},
   "cell_type": "markdown",
   "source": [
    "- In the GPT-4 Tokenizer, the white spaces are merged together with the other words.\n",
    "- This is due to the fact that the REGEX for splitting the words has changed"
   ],
   "id": "a0fb18d08da1bc16"
  },
  {
   "metadata": {},
   "cell_type": "markdown",
   "source": "## AutoModelForSequenceClassification",
   "id": "5e114222710796b7"
  },
  {
   "metadata": {
    "ExecuteTime": {
     "end_time": "2025-04-16T13:41:43.230180Z",
     "start_time": "2025-04-16T13:41:42.929488Z"
    }
   },
   "cell_type": "code",
   "source": [
    "sentence = \"Using a Transformer network is simple\"\n",
    "\n",
    "model_name = \"distilbert/distilbert-base-uncased-finetuned-sst-2-english\"\n",
    "model = AutoModelForSequenceClassification.from_pretrained(model_name)\n",
    "tokenizer = AutoTokenizer.from_pretrained(model_name)\n",
    "\n",
    "print('Sentence:', sentence)\n",
    "\n",
    "# Feed forward the sentence into the Tokenizer\n",
    "output = tokenizer(sentence)\n",
    "\n",
    "print('Token IDs:', output['input_ids'])\n",
    "print('Attention Mask:', output['attention_mask'], \"[1] = Important / [0] = Ignore\")\n",
    "\n",
    "# Generate tokens\n",
    "tokens = tokenizer.tokenize(sentence)\n",
    "\n",
    "# Compute token IDs\n",
    "token_ids = tokenizer.convert_tokens_to_ids(tokens)\n",
    "\n",
    "print('Tokens:', tokens)\n",
    "print('Token IDs (Without Special Tokens)', token_ids)\n",
    "print('Decoded Sentence:', tokenizer.decode(token_ids))"
   ],
   "id": "1e245ab5d3e36975",
   "outputs": [
    {
     "name": "stdout",
     "output_type": "stream",
     "text": [
      "Sentence: Using a Transformer network is simple\n",
      "Token IDs: [101, 2478, 1037, 10938, 2121, 2897, 2003, 3722, 102]\n",
      "Attention Mask: [1, 1, 1, 1, 1, 1, 1, 1, 1] [1] = Important / [0] = Ignore\n",
      "Tokens: ['using', 'a', 'transform', '##er', 'network', 'is', 'simple']\n",
      "Token IDs (Without Special Tokens) [2478, 1037, 10938, 2121, 2897, 2003, 3722]\n",
      "Decoded Sentence: using a transformer network is simple\n"
     ]
    }
   ],
   "execution_count": 10
  },
  {
   "metadata": {},
   "cell_type": "code",
   "outputs": [],
   "execution_count": null,
   "source": "",
   "id": "a7dff726f2f4e2d0"
  }
 ],
 "metadata": {
  "kernelspec": {
   "display_name": "Python 3",
   "language": "python",
   "name": "python3"
  },
  "language_info": {
   "codemirror_mode": {
    "name": "ipython",
    "version": 2
   },
   "file_extension": ".py",
   "mimetype": "text/x-python",
   "name": "python",
   "nbconvert_exporter": "python",
   "pygments_lexer": "ipython2",
   "version": "2.7.6"
  }
 },
 "nbformat": 4,
 "nbformat_minor": 5
}
