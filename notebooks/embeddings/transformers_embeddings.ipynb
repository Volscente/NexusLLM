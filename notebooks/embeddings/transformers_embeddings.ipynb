{
 "cells": [
  {
   "metadata": {},
   "cell_type": "markdown",
   "source": [
    "# Transformers - Embeddings\n",
    "\n",
    "This notebook includes experimentation with the Embeddings through the usage of the Transformers."
   ],
   "id": "d376cbbbb1aa2535"
  },
  {
   "metadata": {},
   "cell_type": "markdown",
   "source": "# Setup Notebook",
   "id": "5d6cb2bf6c3b3634"
  },
  {
   "metadata": {},
   "cell_type": "markdown",
   "source": "## Imports",
   "id": "f2f0ab6053a9fe4a"
  },
  {
   "metadata": {
    "ExecuteTime": {
     "end_time": "2025-04-18T13:13:50.604309Z",
     "start_time": "2025-04-18T13:13:50.158868Z"
    }
   },
   "cell_type": "code",
   "source": [
    "# Import Standard Libraries\n",
    "import numpy as np\n",
    "import json\n",
    "import torch\n",
    "import torch.nn.functional as F\n",
    "from transformers import AutoTokenizer, AutoModel\n",
    "from sklearn.metrics.pairwise import cosine_similarity\n",
    "from sentence_transformers import SentenceTransformer"
   ],
   "id": "b72cd9efd6f46013",
   "outputs": [
    {
     "ename": "ModuleNotFoundError",
     "evalue": "No module named '_lzma'",
     "output_type": "error",
     "traceback": [
      "\u001B[31m---------------------------------------------------------------------------\u001B[39m",
      "\u001B[31mModuleNotFoundError\u001B[39m                       Traceback (most recent call last)",
      "\u001B[36mCell\u001B[39m\u001B[36m \u001B[39m\u001B[32mIn[2]\u001B[39m\u001B[32m, line 8\u001B[39m\n\u001B[32m      6\u001B[39m \u001B[38;5;28;01mfrom\u001B[39;00m\u001B[38;5;250m \u001B[39m\u001B[34;01mtransformers\u001B[39;00m\u001B[38;5;250m \u001B[39m\u001B[38;5;28;01mimport\u001B[39;00m AutoTokenizer, AutoModel\n\u001B[32m      7\u001B[39m \u001B[38;5;28;01mfrom\u001B[39;00m\u001B[38;5;250m \u001B[39m\u001B[34;01msklearn\u001B[39;00m\u001B[34;01m.\u001B[39;00m\u001B[34;01mmetrics\u001B[39;00m\u001B[34;01m.\u001B[39;00m\u001B[34;01mpairwise\u001B[39;00m\u001B[38;5;250m \u001B[39m\u001B[38;5;28;01mimport\u001B[39;00m cosine_similarity\n\u001B[32m----> \u001B[39m\u001B[32m8\u001B[39m \u001B[38;5;28;01mfrom\u001B[39;00m\u001B[38;5;250m \u001B[39m\u001B[34;01msentence_transformers\u001B[39;00m\u001B[38;5;250m \u001B[39m\u001B[38;5;28;01mimport\u001B[39;00m SentenceTransformer\n",
      "\u001B[36mFile \u001B[39m\u001B[32m~/Projects/NexusLLM/.venv/lib/python3.12/site-packages/sentence_transformers/__init__.py:14\u001B[39m\n\u001B[32m      7\u001B[39m \u001B[38;5;28;01mimport\u001B[39;00m\u001B[38;5;250m \u001B[39m\u001B[34;01mos\u001B[39;00m\n\u001B[32m      9\u001B[39m \u001B[38;5;28;01mfrom\u001B[39;00m\u001B[38;5;250m \u001B[39m\u001B[34;01msentence_transformers\u001B[39;00m\u001B[34;01m.\u001B[39;00m\u001B[34;01mbackend\u001B[39;00m\u001B[38;5;250m \u001B[39m\u001B[38;5;28;01mimport\u001B[39;00m (\n\u001B[32m     10\u001B[39m     export_dynamic_quantized_onnx_model,\n\u001B[32m     11\u001B[39m     export_optimized_onnx_model,\n\u001B[32m     12\u001B[39m     export_static_quantized_openvino_model,\n\u001B[32m     13\u001B[39m )\n\u001B[32m---> \u001B[39m\u001B[32m14\u001B[39m \u001B[38;5;28;01mfrom\u001B[39;00m\u001B[38;5;250m \u001B[39m\u001B[34;01msentence_transformers\u001B[39;00m\u001B[34;01m.\u001B[39;00m\u001B[34;01mcross_encoder\u001B[39;00m\u001B[34;01m.\u001B[39;00m\u001B[34;01mCrossEncoder\u001B[39;00m\u001B[38;5;250m \u001B[39m\u001B[38;5;28;01mimport\u001B[39;00m CrossEncoder\n\u001B[32m     15\u001B[39m \u001B[38;5;28;01mfrom\u001B[39;00m\u001B[38;5;250m \u001B[39m\u001B[34;01msentence_transformers\u001B[39;00m\u001B[34;01m.\u001B[39;00m\u001B[34;01mdatasets\u001B[39;00m\u001B[38;5;250m \u001B[39m\u001B[38;5;28;01mimport\u001B[39;00m ParallelSentencesDataset, SentencesDataset\n\u001B[32m     16\u001B[39m \u001B[38;5;28;01mfrom\u001B[39;00m\u001B[38;5;250m \u001B[39m\u001B[34;01msentence_transformers\u001B[39;00m\u001B[34;01m.\u001B[39;00m\u001B[34;01mLoggingHandler\u001B[39;00m\u001B[38;5;250m \u001B[39m\u001B[38;5;28;01mimport\u001B[39;00m LoggingHandler\n",
      "\u001B[36mFile \u001B[39m\u001B[32m~/Projects/NexusLLM/.venv/lib/python3.12/site-packages/sentence_transformers/cross_encoder/__init__.py:3\u001B[39m\n\u001B[32m      1\u001B[39m \u001B[38;5;28;01mfrom\u001B[39;00m\u001B[38;5;250m \u001B[39m\u001B[34;01m__future__\u001B[39;00m\u001B[38;5;250m \u001B[39m\u001B[38;5;28;01mimport\u001B[39;00m annotations\n\u001B[32m----> \u001B[39m\u001B[32m3\u001B[39m \u001B[38;5;28;01mfrom\u001B[39;00m\u001B[38;5;250m \u001B[39m\u001B[34;01m.\u001B[39;00m\u001B[34;01mCrossEncoder\u001B[39;00m\u001B[38;5;250m \u001B[39m\u001B[38;5;28;01mimport\u001B[39;00m CrossEncoder\n\u001B[32m      5\u001B[39m __all__ = [\u001B[33m\"\u001B[39m\u001B[33mCrossEncoder\u001B[39m\u001B[33m\"\u001B[39m]\n",
      "\u001B[36mFile \u001B[39m\u001B[32m~/Projects/NexusLLM/.venv/lib/python3.12/site-packages/sentence_transformers/cross_encoder/CrossEncoder.py:20\u001B[39m\n\u001B[32m     18\u001B[39m \u001B[38;5;28;01mfrom\u001B[39;00m\u001B[38;5;250m \u001B[39m\u001B[34;01msentence_transformers\u001B[39;00m\u001B[34;01m.\u001B[39;00m\u001B[34;01mevaluation\u001B[39;00m\u001B[34;01m.\u001B[39;00m\u001B[34;01mSentenceEvaluator\u001B[39;00m\u001B[38;5;250m \u001B[39m\u001B[38;5;28;01mimport\u001B[39;00m SentenceEvaluator\n\u001B[32m     19\u001B[39m \u001B[38;5;28;01mfrom\u001B[39;00m\u001B[38;5;250m \u001B[39m\u001B[34;01msentence_transformers\u001B[39;00m\u001B[34;01m.\u001B[39;00m\u001B[34;01mreaders\u001B[39;00m\u001B[38;5;250m \u001B[39m\u001B[38;5;28;01mimport\u001B[39;00m InputExample\n\u001B[32m---> \u001B[39m\u001B[32m20\u001B[39m \u001B[38;5;28;01mfrom\u001B[39;00m\u001B[38;5;250m \u001B[39m\u001B[34;01msentence_transformers\u001B[39;00m\u001B[34;01m.\u001B[39;00m\u001B[34;01mSentenceTransformer\u001B[39;00m\u001B[38;5;250m \u001B[39m\u001B[38;5;28;01mimport\u001B[39;00m SentenceTransformer\n\u001B[32m     21\u001B[39m \u001B[38;5;28;01mfrom\u001B[39;00m\u001B[38;5;250m \u001B[39m\u001B[34;01msentence_transformers\u001B[39;00m\u001B[34;01m.\u001B[39;00m\u001B[34;01mutil\u001B[39;00m\u001B[38;5;250m \u001B[39m\u001B[38;5;28;01mimport\u001B[39;00m fullname, get_device_name, import_from_string\n\u001B[32m     23\u001B[39m logger = logging.getLogger(\u001B[34m__name__\u001B[39m)\n",
      "\u001B[36mFile \u001B[39m\u001B[32m~/Projects/NexusLLM/.venv/lib/python3.12/site-packages/sentence_transformers/SentenceTransformer.py:33\u001B[39m\n\u001B[32m     30\u001B[39m \u001B[38;5;28;01mfrom\u001B[39;00m\u001B[38;5;250m \u001B[39m\u001B[34;01mtransformers\u001B[39;00m\u001B[38;5;250m \u001B[39m\u001B[38;5;28;01mimport\u001B[39;00m is_torch_npu_available\n\u001B[32m     31\u001B[39m \u001B[38;5;28;01mfrom\u001B[39;00m\u001B[38;5;250m \u001B[39m\u001B[34;01mtransformers\u001B[39;00m\u001B[34;01m.\u001B[39;00m\u001B[34;01mdynamic_module_utils\u001B[39;00m\u001B[38;5;250m \u001B[39m\u001B[38;5;28;01mimport\u001B[39;00m get_class_from_dynamic_module, get_relative_import_files\n\u001B[32m---> \u001B[39m\u001B[32m33\u001B[39m \u001B[38;5;28;01mfrom\u001B[39;00m\u001B[38;5;250m \u001B[39m\u001B[34;01msentence_transformers\u001B[39;00m\u001B[34;01m.\u001B[39;00m\u001B[34;01mmodel_card\u001B[39;00m\u001B[38;5;250m \u001B[39m\u001B[38;5;28;01mimport\u001B[39;00m SentenceTransformerModelCardData, generate_model_card\n\u001B[32m     34\u001B[39m \u001B[38;5;28;01mfrom\u001B[39;00m\u001B[38;5;250m \u001B[39m\u001B[34;01msentence_transformers\u001B[39;00m\u001B[34;01m.\u001B[39;00m\u001B[34;01msimilarity_functions\u001B[39;00m\u001B[38;5;250m \u001B[39m\u001B[38;5;28;01mimport\u001B[39;00m SimilarityFunction\n\u001B[32m     36\u001B[39m \u001B[38;5;28;01mfrom\u001B[39;00m\u001B[38;5;250m \u001B[39m\u001B[34;01m.\u001B[39;00m\u001B[38;5;250m \u001B[39m\u001B[38;5;28;01mimport\u001B[39;00m __MODEL_HUB_ORGANIZATION__, __version__\n",
      "\u001B[36mFile \u001B[39m\u001B[32m~/Projects/NexusLLM/.venv/lib/python3.12/site-packages/sentence_transformers/model_card.py:35\u001B[39m\n\u001B[32m     32\u001B[39m \u001B[38;5;28;01mfrom\u001B[39;00m\u001B[38;5;250m \u001B[39m\u001B[34;01msentence_transformers\u001B[39;00m\u001B[34;01m.\u001B[39;00m\u001B[34;01mutil\u001B[39;00m\u001B[38;5;250m \u001B[39m\u001B[38;5;28;01mimport\u001B[39;00m fullname, is_accelerate_available, is_datasets_available\n\u001B[32m     34\u001B[39m \u001B[38;5;28;01mif\u001B[39;00m is_datasets_available():\n\u001B[32m---> \u001B[39m\u001B[32m35\u001B[39m     \u001B[38;5;28;01mfrom\u001B[39;00m\u001B[38;5;250m \u001B[39m\u001B[34;01mdatasets\u001B[39;00m\u001B[38;5;250m \u001B[39m\u001B[38;5;28;01mimport\u001B[39;00m Dataset, DatasetDict, IterableDataset, IterableDatasetDict, Value\n\u001B[32m     37\u001B[39m logger = logging.getLogger(\u001B[34m__name__\u001B[39m)\n\u001B[32m     39\u001B[39m \u001B[38;5;28;01mif\u001B[39;00m TYPE_CHECKING:\n",
      "\u001B[36mFile \u001B[39m\u001B[32m~/Projects/NexusLLM/.venv/lib/python3.12/site-packages/datasets/__init__.py:17\u001B[39m\n\u001B[32m      1\u001B[39m \u001B[38;5;66;03m# Copyright 2020 The HuggingFace Datasets Authors and the TensorFlow Datasets Authors.\u001B[39;00m\n\u001B[32m      2\u001B[39m \u001B[38;5;66;03m#\u001B[39;00m\n\u001B[32m      3\u001B[39m \u001B[38;5;66;03m# Licensed under the Apache License, Version 2.0 (the \"License\");\u001B[39;00m\n\u001B[32m   (...)\u001B[39m\u001B[32m     12\u001B[39m \u001B[38;5;66;03m# See the License for the specific language governing permissions and\u001B[39;00m\n\u001B[32m     13\u001B[39m \u001B[38;5;66;03m# limitations under the License.\u001B[39;00m\n\u001B[32m     15\u001B[39m __version__ = \u001B[33m\"\u001B[39m\u001B[33m3.4.0\u001B[39m\u001B[33m\"\u001B[39m\n\u001B[32m---> \u001B[39m\u001B[32m17\u001B[39m \u001B[38;5;28;01mfrom\u001B[39;00m\u001B[38;5;250m \u001B[39m\u001B[34;01m.\u001B[39;00m\u001B[34;01marrow_dataset\u001B[39;00m\u001B[38;5;250m \u001B[39m\u001B[38;5;28;01mimport\u001B[39;00m Dataset\n\u001B[32m     18\u001B[39m \u001B[38;5;28;01mfrom\u001B[39;00m\u001B[38;5;250m \u001B[39m\u001B[34;01m.\u001B[39;00m\u001B[34;01marrow_reader\u001B[39;00m\u001B[38;5;250m \u001B[39m\u001B[38;5;28;01mimport\u001B[39;00m ReadInstruction\n\u001B[32m     19\u001B[39m \u001B[38;5;28;01mfrom\u001B[39;00m\u001B[38;5;250m \u001B[39m\u001B[34;01m.\u001B[39;00m\u001B[34;01mbuilder\u001B[39;00m\u001B[38;5;250m \u001B[39m\u001B[38;5;28;01mimport\u001B[39;00m ArrowBasedBuilder, BuilderConfig, DatasetBuilder, GeneratorBasedBuilder\n",
      "\u001B[36mFile \u001B[39m\u001B[32m~/Projects/NexusLLM/.venv/lib/python3.12/site-packages/datasets/arrow_dataset.py:74\u001B[39m\n\u001B[32m     72\u001B[39m \u001B[38;5;28;01mfrom\u001B[39;00m\u001B[38;5;250m \u001B[39m\u001B[34;01m.\u001B[39;00m\u001B[38;5;250m \u001B[39m\u001B[38;5;28;01mimport\u001B[39;00m config\n\u001B[32m     73\u001B[39m \u001B[38;5;28;01mfrom\u001B[39;00m\u001B[38;5;250m \u001B[39m\u001B[34;01m.\u001B[39;00m\u001B[34;01marrow_reader\u001B[39;00m\u001B[38;5;250m \u001B[39m\u001B[38;5;28;01mimport\u001B[39;00m ArrowReader\n\u001B[32m---> \u001B[39m\u001B[32m74\u001B[39m \u001B[38;5;28;01mfrom\u001B[39;00m\u001B[38;5;250m \u001B[39m\u001B[34;01m.\u001B[39;00m\u001B[34;01marrow_writer\u001B[39;00m\u001B[38;5;250m \u001B[39m\u001B[38;5;28;01mimport\u001B[39;00m ArrowWriter, OptimizedTypedSequence\n\u001B[32m     75\u001B[39m \u001B[38;5;28;01mfrom\u001B[39;00m\u001B[38;5;250m \u001B[39m\u001B[34;01m.\u001B[39;00m\u001B[34;01mdata_files\u001B[39;00m\u001B[38;5;250m \u001B[39m\u001B[38;5;28;01mimport\u001B[39;00m sanitize_patterns\n\u001B[32m     76\u001B[39m \u001B[38;5;28;01mfrom\u001B[39;00m\u001B[38;5;250m \u001B[39m\u001B[34;01m.\u001B[39;00m\u001B[34;01mdownload\u001B[39;00m\u001B[34;01m.\u001B[39;00m\u001B[34;01mstreaming_download_manager\u001B[39;00m\u001B[38;5;250m \u001B[39m\u001B[38;5;28;01mimport\u001B[39;00m xgetsize\n",
      "\u001B[36mFile \u001B[39m\u001B[32m~/Projects/NexusLLM/.venv/lib/python3.12/site-packages/datasets/arrow_writer.py:28\u001B[39m\n\u001B[32m     25\u001B[39m \u001B[38;5;28;01mfrom\u001B[39;00m\u001B[38;5;250m \u001B[39m\u001B[34;01mfsspec\u001B[39;00m\u001B[34;01m.\u001B[39;00m\u001B[34;01mcore\u001B[39;00m\u001B[38;5;250m \u001B[39m\u001B[38;5;28;01mimport\u001B[39;00m url_to_fs\n\u001B[32m     27\u001B[39m \u001B[38;5;28;01mfrom\u001B[39;00m\u001B[38;5;250m \u001B[39m\u001B[34;01m.\u001B[39;00m\u001B[38;5;250m \u001B[39m\u001B[38;5;28;01mimport\u001B[39;00m config\n\u001B[32m---> \u001B[39m\u001B[32m28\u001B[39m \u001B[38;5;28;01mfrom\u001B[39;00m\u001B[38;5;250m \u001B[39m\u001B[34;01m.\u001B[39;00m\u001B[34;01mfeatures\u001B[39;00m\u001B[38;5;250m \u001B[39m\u001B[38;5;28;01mimport\u001B[39;00m Audio, Features, Image, Value, Video\n\u001B[32m     29\u001B[39m \u001B[38;5;28;01mfrom\u001B[39;00m\u001B[38;5;250m \u001B[39m\u001B[34;01m.\u001B[39;00m\u001B[34;01mfeatures\u001B[39;00m\u001B[34;01m.\u001B[39;00m\u001B[34;01mfeatures\u001B[39;00m\u001B[38;5;250m \u001B[39m\u001B[38;5;28;01mimport\u001B[39;00m (\n\u001B[32m     30\u001B[39m     FeatureType,\n\u001B[32m     31\u001B[39m     _ArrayXDExtensionType,\n\u001B[32m   (...)\u001B[39m\u001B[32m     38\u001B[39m     to_pyarrow_listarray,\n\u001B[32m     39\u001B[39m )\n\u001B[32m     40\u001B[39m \u001B[38;5;28;01mfrom\u001B[39;00m\u001B[38;5;250m \u001B[39m\u001B[34;01m.\u001B[39;00m\u001B[34;01mfilesystems\u001B[39;00m\u001B[38;5;250m \u001B[39m\u001B[38;5;28;01mimport\u001B[39;00m is_remote_filesystem\n",
      "\u001B[36mFile \u001B[39m\u001B[32m~/Projects/NexusLLM/.venv/lib/python3.12/site-packages/datasets/features/__init__.py:17\u001B[39m\n\u001B[32m      1\u001B[39m __all__ = [\n\u001B[32m      2\u001B[39m     \u001B[33m\"\u001B[39m\u001B[33mAudio\u001B[39m\u001B[33m\"\u001B[39m,\n\u001B[32m      3\u001B[39m     \u001B[33m\"\u001B[39m\u001B[33mArray2D\u001B[39m\u001B[33m\"\u001B[39m,\n\u001B[32m   (...)\u001B[39m\u001B[32m     15\u001B[39m     \u001B[33m\"\u001B[39m\u001B[33mVideo\u001B[39m\u001B[33m\"\u001B[39m,\n\u001B[32m     16\u001B[39m ]\n\u001B[32m---> \u001B[39m\u001B[32m17\u001B[39m \u001B[38;5;28;01mfrom\u001B[39;00m\u001B[38;5;250m \u001B[39m\u001B[34;01m.\u001B[39;00m\u001B[34;01maudio\u001B[39;00m\u001B[38;5;250m \u001B[39m\u001B[38;5;28;01mimport\u001B[39;00m Audio\n\u001B[32m     18\u001B[39m \u001B[38;5;28;01mfrom\u001B[39;00m\u001B[38;5;250m \u001B[39m\u001B[34;01m.\u001B[39;00m\u001B[34;01mfeatures\u001B[39;00m\u001B[38;5;250m \u001B[39m\u001B[38;5;28;01mimport\u001B[39;00m Array2D, Array3D, Array4D, Array5D, ClassLabel, Features, LargeList, Sequence, Value\n\u001B[32m     19\u001B[39m \u001B[38;5;28;01mfrom\u001B[39;00m\u001B[38;5;250m \u001B[39m\u001B[34;01m.\u001B[39;00m\u001B[34;01mimage\u001B[39;00m\u001B[38;5;250m \u001B[39m\u001B[38;5;28;01mimport\u001B[39;00m Image\n",
      "\u001B[36mFile \u001B[39m\u001B[32m~/Projects/NexusLLM/.venv/lib/python3.12/site-packages/datasets/features/audio.py:12\u001B[39m\n\u001B[32m     10\u001B[39m \u001B[38;5;28;01mfrom\u001B[39;00m\u001B[38;5;250m \u001B[39m\u001B[34;01m.\u001B[39;00m\u001B[34;01m.\u001B[39;00m\u001B[34;01mdownload\u001B[39;00m\u001B[34;01m.\u001B[39;00m\u001B[34;01mdownload_config\u001B[39;00m\u001B[38;5;250m \u001B[39m\u001B[38;5;28;01mimport\u001B[39;00m DownloadConfig\n\u001B[32m     11\u001B[39m \u001B[38;5;28;01mfrom\u001B[39;00m\u001B[38;5;250m \u001B[39m\u001B[34;01m.\u001B[39;00m\u001B[34;01m.\u001B[39;00m\u001B[34;01mtable\u001B[39;00m\u001B[38;5;250m \u001B[39m\u001B[38;5;28;01mimport\u001B[39;00m array_cast\n\u001B[32m---> \u001B[39m\u001B[32m12\u001B[39m \u001B[38;5;28;01mfrom\u001B[39;00m\u001B[38;5;250m \u001B[39m\u001B[34;01m.\u001B[39;00m\u001B[34;01m.\u001B[39;00m\u001B[34;01mutils\u001B[39;00m\u001B[34;01m.\u001B[39;00m\u001B[34;01mfile_utils\u001B[39;00m\u001B[38;5;250m \u001B[39m\u001B[38;5;28;01mimport\u001B[39;00m xopen, xsplitext\n\u001B[32m     13\u001B[39m \u001B[38;5;28;01mfrom\u001B[39;00m\u001B[38;5;250m \u001B[39m\u001B[34;01m.\u001B[39;00m\u001B[34;01m.\u001B[39;00m\u001B[34;01mutils\u001B[39;00m\u001B[34;01m.\u001B[39;00m\u001B[34;01mpy_utils\u001B[39;00m\u001B[38;5;250m \u001B[39m\u001B[38;5;28;01mimport\u001B[39;00m no_op_if_value_is_null, string_to_dict\n\u001B[32m     16\u001B[39m \u001B[38;5;28;01mif\u001B[39;00m TYPE_CHECKING:\n",
      "\u001B[36mFile \u001B[39m\u001B[32m~/Projects/NexusLLM/.venv/lib/python3.12/site-packages/datasets/utils/file_utils.py:46\u001B[39m\n\u001B[32m     44\u001B[39m \u001B[38;5;28;01mfrom\u001B[39;00m\u001B[38;5;250m \u001B[39m\u001B[34;01m.\u001B[39;00m\u001B[38;5;250m \u001B[39m\u001B[38;5;28;01mimport\u001B[39;00m _tqdm, logging\n\u001B[32m     45\u001B[39m \u001B[38;5;28;01mfrom\u001B[39;00m\u001B[38;5;250m \u001B[39m\u001B[34;01m.\u001B[39;00m\u001B[34;01m_filelock\u001B[39;00m\u001B[38;5;250m \u001B[39m\u001B[38;5;28;01mimport\u001B[39;00m FileLock\n\u001B[32m---> \u001B[39m\u001B[32m46\u001B[39m \u001B[38;5;28;01mfrom\u001B[39;00m\u001B[38;5;250m \u001B[39m\u001B[34;01m.\u001B[39;00m\u001B[34;01mextract\u001B[39;00m\u001B[38;5;250m \u001B[39m\u001B[38;5;28;01mimport\u001B[39;00m ExtractManager\n\u001B[32m     47\u001B[39m \u001B[38;5;28;01mfrom\u001B[39;00m\u001B[38;5;250m \u001B[39m\u001B[34;01m.\u001B[39;00m\u001B[34;01mtrack\u001B[39;00m\u001B[38;5;250m \u001B[39m\u001B[38;5;28;01mimport\u001B[39;00m TrackedIterableFromGenerator\n\u001B[32m     50\u001B[39m logger = logging.get_logger(\u001B[34m__name__\u001B[39m)  \u001B[38;5;66;03m# pylint: disable=invalid-name\u001B[39;00m\n",
      "\u001B[36mFile \u001B[39m\u001B[32m~/Projects/NexusLLM/.venv/lib/python3.12/site-packages/datasets/utils/extract.py:3\u001B[39m\n\u001B[32m      1\u001B[39m \u001B[38;5;28;01mimport\u001B[39;00m\u001B[38;5;250m \u001B[39m\u001B[34;01mbz2\u001B[39;00m\n\u001B[32m      2\u001B[39m \u001B[38;5;28;01mimport\u001B[39;00m\u001B[38;5;250m \u001B[39m\u001B[34;01mgzip\u001B[39;00m\n\u001B[32m----> \u001B[39m\u001B[32m3\u001B[39m \u001B[38;5;28;01mimport\u001B[39;00m\u001B[38;5;250m \u001B[39m\u001B[34;01mlzma\u001B[39;00m\n\u001B[32m      4\u001B[39m \u001B[38;5;28;01mimport\u001B[39;00m\u001B[38;5;250m \u001B[39m\u001B[34;01mos\u001B[39;00m\n\u001B[32m      5\u001B[39m \u001B[38;5;28;01mimport\u001B[39;00m\u001B[38;5;250m \u001B[39m\u001B[34;01mshutil\u001B[39;00m\n",
      "\u001B[36mFile \u001B[39m\u001B[32m~/.pyenv/versions/3.12.7/lib/python3.12/lzma.py:27\u001B[39m\n\u001B[32m     25\u001B[39m \u001B[38;5;28;01mimport\u001B[39;00m\u001B[38;5;250m \u001B[39m\u001B[34;01mio\u001B[39;00m\n\u001B[32m     26\u001B[39m \u001B[38;5;28;01mimport\u001B[39;00m\u001B[38;5;250m \u001B[39m\u001B[34;01mos\u001B[39;00m\n\u001B[32m---> \u001B[39m\u001B[32m27\u001B[39m \u001B[38;5;28;01mfrom\u001B[39;00m\u001B[38;5;250m \u001B[39m\u001B[34;01m_lzma\u001B[39;00m\u001B[38;5;250m \u001B[39m\u001B[38;5;28;01mimport\u001B[39;00m *\n\u001B[32m     28\u001B[39m \u001B[38;5;28;01mfrom\u001B[39;00m\u001B[38;5;250m \u001B[39m\u001B[34;01m_lzma\u001B[39;00m\u001B[38;5;250m \u001B[39m\u001B[38;5;28;01mimport\u001B[39;00m _encode_filter_properties, _decode_filter_properties\n\u001B[32m     29\u001B[39m \u001B[38;5;28;01mimport\u001B[39;00m\u001B[38;5;250m \u001B[39m\u001B[34;01m_compression\u001B[39;00m\n",
      "\u001B[31mModuleNotFoundError\u001B[39m: No module named '_lzma'"
     ]
    }
   ],
   "execution_count": 2
  },
  {
   "metadata": {},
   "cell_type": "markdown",
   "source": "# Experimentations",
   "id": "5ceb9e5fa5117be4"
  },
  {
   "metadata": {},
   "cell_type": "markdown",
   "source": "## AutoTokenizer with BERT",
   "id": "4e6a32d7fdd6deca"
  },
  {
   "metadata": {},
   "cell_type": "markdown",
   "source": "### Tokenization",
   "id": "171a69badf29040c"
  },
  {
   "metadata": {
    "ExecuteTime": {
     "end_time": "2025-04-16T13:50:00.078913Z",
     "start_time": "2025-04-16T13:49:59.392128Z"
    }
   },
   "cell_type": "code",
   "source": [
    "# Instance the Tokenizer\n",
    "tokenizer = AutoTokenizer.from_pretrained(\"bert-base-uncased\")"
   ],
   "id": "dff5546421045e3d",
   "outputs": [],
   "execution_count": 2
  },
  {
   "metadata": {},
   "cell_type": "markdown",
   "source": [
    "- The Tokenizer is used to converts raw text into tokens\n",
    "<br>\n",
    "\n",
    "**The Process:**\n",
    "1) The first step is WordPiece Tokenization (e.g., \"playing\" &rarr; [\"play\", \"##ing\"])\n",
    "2) The second step maps tokens into numerical IDs (based on BERT's vocabulary)\n",
    "3) Add special tokens (`[CLS]` and `[SEP]`)\n",
    "4) Pads and truncate text sequence to fix model's input\n",
    "5) Create attention mask"
   ],
   "id": "dac6706f4bb5e3bc"
  },
  {
   "metadata": {
    "ExecuteTime": {
     "end_time": "2025-04-16T13:53:09.014139Z",
     "start_time": "2025-04-16T13:53:09.009349Z"
    }
   },
   "cell_type": "code",
   "source": [
    "text = \"I love Data Science\"\n",
    "tokens = tokenizer(text, return_tensors=\"pt\")  # Convert to PyTorch tensors\n",
    "\n",
    "print('Token Object Shape:', len(tokens), \"- Token Keys:\", tokens.keys())\n",
    "print('Number of Tokens:', len(tokens.input_ids[0]), \"- Remember Special Tokens [101] and [102]\")\n",
    "print('Tokens:' , tokens.input_ids)\n",
    "print('Attention Mask:', tokens.attention_mask)"
   ],
   "id": "e3b5989ea404bd24",
   "outputs": [
    {
     "name": "stdout",
     "output_type": "stream",
     "text": [
      "Token Object Shape: 3 - Token Keys: dict_keys(['input_ids', 'token_type_ids', 'attention_mask'])\n",
      "Number of Tokens: 6 - Remember Special Tokens [101] and [102]\n",
      "Tokens: tensor([[ 101, 1045, 2293, 2951, 2671,  102]])\n",
      "Attention Mask: tensor([[1, 1, 1, 1, 1, 1]])\n"
     ]
    }
   ],
   "execution_count": 9
  },
  {
   "metadata": {},
   "cell_type": "markdown",
   "source": [
    "- [101] = [CLS] token (start of sentence)\n",
    "- 1045 = \"I\", 2293 = \"love\", 2951 = \"data\", 2671 = \"science\"\n",
    "- [102] = [SEP] token (end of sentence)"
   ],
   "id": "6ebc4c6f77f8369a"
  },
  {
   "metadata": {},
   "cell_type": "markdown",
   "source": [
    "### Embeddings\n",
    "\n",
    "The algorithm process an input tokenised sequence and represent it with another vector representation called \"Embeddings\", which has more contextual meaning among the different tokens of the input sequence.\n",
    "\n"
   ],
   "id": "2d704a22c9a1d21d"
  },
  {
   "metadata": {
    "ExecuteTime": {
     "end_time": "2025-04-16T13:54:02.407391Z",
     "start_time": "2025-04-16T13:54:01.896077Z"
    }
   },
   "cell_type": "code",
   "source": [
    "# Instance model\n",
    "model = AutoModel.from_pretrained(\"bert-base-uncased\")"
   ],
   "id": "77e5bf633f5d29dc",
   "outputs": [],
   "execution_count": 10
  },
  {
   "metadata": {
    "ExecuteTime": {
     "end_time": "2025-04-16T13:54:02.991953Z",
     "start_time": "2025-04-16T13:54:02.412367Z"
    }
   },
   "cell_type": "code",
   "source": [
    "# Pass token IDs into the Transformer model\n",
    "outputs = model(**tokens)\n",
    "\n",
    "# Extract last hidden state (word embeddings for each token)\n",
    "embeddings = outputs.last_hidden_state\n",
    "\n",
    "print(embeddings.shape)  # (batch_size, sequence_length, hidden_size)"
   ],
   "id": "420f52354aab79e6",
   "outputs": [
    {
     "name": "stdout",
     "output_type": "stream",
     "text": [
      "torch.Size([1, 6, 768])\n"
     ]
    }
   ],
   "execution_count": 11
  },
  {
   "metadata": {},
   "cell_type": "markdown",
   "source": "Each of our 6 tokens gets a 768-dimensional vector that captures its meaning in context.",
   "id": "ce6ac4a1b9e905ab"
  },
  {
   "metadata": {},
   "cell_type": "markdown",
   "source": "## Sentence Transformers - AutoTokenizer",
   "id": "fc41b549f95d5d1f"
  },
  {
   "metadata": {},
   "cell_type": "markdown",
   "source": "### Basic Usage",
   "id": "831e165727db729d"
  },
  {
   "metadata": {
    "ExecuteTime": {
     "end_time": "2025-03-17T08:37:30.309396Z",
     "start_time": "2025-03-17T08:37:30.306800Z"
    }
   },
   "cell_type": "code",
   "source": [
    "# Define the sentences\n",
    "sentences = [\n",
    "    \"I took my dog for a walk\",\n",
    "    \"Today is going to rain\",\n",
    "    \"I took my cat for a walk\"\n",
    "]"
   ],
   "id": "76cc52d46a261d1f",
   "outputs": [],
   "execution_count": 2
  },
  {
   "metadata": {
    "ExecuteTime": {
     "end_time": "2025-03-17T08:37:31.329892Z",
     "start_time": "2025-03-17T08:37:30.495088Z"
    }
   },
   "cell_type": "code",
   "source": [
    "# Define tokenizer and the model\n",
    "model_name = \"sentence-transformers/all-MiniLM-L6-v2\"\n",
    "tokenizer = AutoTokenizer.from_pretrained(model_name)\n",
    "model = AutoModel.from_pretrained(model_name)"
   ],
   "id": "43a52262f33ff675",
   "outputs": [],
   "execution_count": 3
  },
  {
   "metadata": {
    "ExecuteTime": {
     "end_time": "2025-03-17T08:37:31.334748Z",
     "start_time": "2025-03-17T08:37:31.332919Z"
    }
   },
   "cell_type": "code",
   "source": [
    "# Create tokens\n",
    "tokens = tokenizer(sentences, return_tensors=\"pt\", padding=True, truncation=True)"
   ],
   "id": "dd0c6fb1c765872a",
   "outputs": [],
   "execution_count": 4
  },
  {
   "metadata": {
    "ExecuteTime": {
     "end_time": "2025-03-17T08:37:31.354663Z",
     "start_time": "2025-03-17T08:37:31.342642Z"
    }
   },
   "cell_type": "code",
   "source": [
    "# Compute embeddings\n",
    "embeddings = model(**tokens).last_hidden_state"
   ],
   "id": "e65a1783fda8be33",
   "outputs": [],
   "execution_count": 5
  },
  {
   "metadata": {
    "ExecuteTime": {
     "end_time": "2025-03-17T08:37:31.364276Z",
     "start_time": "2025-03-17T08:37:31.361797Z"
    }
   },
   "cell_type": "code",
   "source": "print(embeddings.shape)",
   "id": "c3c2f326ee6e380d",
   "outputs": [
    {
     "name": "stdout",
     "output_type": "stream",
     "text": [
      "torch.Size([3, 9, 384])\n"
     ]
    }
   ],
   "execution_count": 6
  },
  {
   "metadata": {},
   "cell_type": "markdown",
   "source": [
    "- Shape is: number of sentences, number of tokens, embedding dimension\n",
    "- Therefore, each token in the input sequence has a dimension of 384"
   ],
   "id": "7edca7331db00d01"
  },
  {
   "metadata": {},
   "cell_type": "markdown",
   "source": [
    "### Mean Pooling\n",
    "\n",
    "Technique used to have one single embedding vector per sentence, and not per token"
   ],
   "id": "13929c1179649041"
  },
  {
   "metadata": {
    "ExecuteTime": {
     "end_time": "2025-03-17T08:37:35.714221Z",
     "start_time": "2025-03-17T08:37:35.711667Z"
    }
   },
   "cell_type": "code",
   "source": [
    "def mean_pooling(model_output, attention_mask):\n",
    "    \"\"\"Perform the mean pooling over the model output in order to reduce the embedding dimension\"\"\"\n",
    "    # Retrieve embeddings\n",
    "    token_embeddings = model_output.last_hidden_state\n",
    "\n",
    "    # Use the attention mask in order to not include the padding tokens into the mean pooling\n",
    "    input_mask_expanded = attention_mask.unsqueeze(-1).expand(token_embeddings.size()).float()\n",
    "\n",
    "    return torch.sum(token_embeddings * input_mask_expanded, 1) / torch.clamp(input_mask_expanded.sum(1), min=1e-9)"
   ],
   "id": "97220d00f2933eec",
   "outputs": [],
   "execution_count": 7
  },
  {
   "metadata": {},
   "cell_type": "markdown",
   "source": [
    "**Code Analysis**:\n",
    "\n",
    "```python\n",
    "# Use the attention mask in order to not include the padding tokens into the mean pooling\n",
    "input_mask_expanded = attention_mask.unsqueeze(-1).expand(token_embeddings.size()).float()\n",
    "```\n",
    "\n",
    "- The `attention_mask` is produced by the model to understand what tokens are actual words and what are paddings\n",
    "- Now the goal is to be able to apply the `attention_mask` to the `token_embeddings`, so that we can understand which are real tokens and which are padding tokens. In order to do this, we need to transform the `attention_mask` so that it has the same dimension as `token_embeddings`, in order to be able to do `token_embeddings * input_mask_expanded` later on\n",
    "- The `attention_mask` has a shape `(batch_size, sequence_length)` and `1` indicates a real token, while `0` is a padding token\n",
    "- The `unsqueeze(-1)` add an extra dimension to `attention_mask` &rarr; `(batch_size, sequence_length, 1)`\n",
    "- The `expand()` changes the shape of `attention_mask` to match the one of `token_embeddings`\n",
    "\n",
    "```python\n",
    "torch.sum(token_embeddings * input_mask_expanded, 1) / torch.clamp(input_mask_expanded.sum(1), min=1e-9)\n",
    "```\n",
    "\n",
    "- Both `token_embeddings` and `input_mask_expanded` have the same shape &rarr; `(batch_size, sequence_length, hidden_size)`\n",
    "- `token_embeddings * input_mask_expanded` &rarr; Mask out padding tokens by setting their embeddings to zero\n",
    "- `torch.sum(..., 1)` &rarr; sums along the `sequence_length` dimension (axis=1) &rarr; Compute the sum of embeddings only for the real tokens, while ignoring the padding tokens\n",
    "- `input_mask_expanded.sum(1)` &rarr; Sums the mask values along the `sequence_length` &rarr; It computes the number of real tokens\n",
    "- `torch.clamp(..., min=1e-9)` &rarr; If the whole sequence is padding, we would get a divide by zero error &rarr; This code prevents this by replacing zero with a very small number (`1e-9`)\n",
    "- The final division between the summed embeddings and the real number of tokens is the real **mean pooling of the embeddings** (Real average of only the real token embeddings, effectively ignoring the paddings)"
   ],
   "id": "3d2157012d38c1a0"
  },
  {
   "metadata": {
    "ExecuteTime": {
     "end_time": "2025-03-17T08:37:36.116363Z",
     "start_time": "2025-03-17T08:37:36.114219Z"
    }
   },
   "cell_type": "code",
   "source": [
    "# Define the sentences\n",
    "sentences = [\n",
    "    \"I took my dog for a walk\",\n",
    "    \"Today is going to rain\",\n",
    "    \"I took my cat for a walk\"\n",
    "]"
   ],
   "id": "f0032509a8734bc3",
   "outputs": [],
   "execution_count": 8
  },
  {
   "metadata": {
    "ExecuteTime": {
     "end_time": "2025-03-17T08:37:36.767131Z",
     "start_time": "2025-03-17T08:37:36.483468Z"
    }
   },
   "cell_type": "code",
   "source": [
    "# Define tokenizer and the model\n",
    "model_name = \"sentence-transformers/all-MiniLM-L6-v2\"\n",
    "tokenizer = AutoTokenizer.from_pretrained(model_name)\n",
    "model = AutoModel.from_pretrained(model_name)"
   ],
   "id": "f4084b5a7b1ea79b",
   "outputs": [],
   "execution_count": 9
  },
  {
   "metadata": {
    "ExecuteTime": {
     "end_time": "2025-03-17T08:37:36.946301Z",
     "start_time": "2025-03-17T08:37:36.930508Z"
    }
   },
   "cell_type": "code",
   "source": [
    "# Create tokens\n",
    "tokens = tokenizer(sentences, return_tensors=\"pt\", padding=True, truncation=True)\n",
    "\n",
    "# Compute model output\n",
    "output = model(**tokens)"
   ],
   "id": "70f7d627ead17e10",
   "outputs": [],
   "execution_count": 10
  },
  {
   "metadata": {
    "ExecuteTime": {
     "end_time": "2025-03-17T08:42:45.081829Z",
     "start_time": "2025-03-17T08:42:45.078728Z"
    }
   },
   "cell_type": "code",
   "source": [
    "# Apply mean pooling\n",
    "sentence_embeddings = mean_pooling(output, tokens.attention_mask)"
   ],
   "id": "3f81065f14733b24",
   "outputs": [],
   "execution_count": 16
  },
  {
   "metadata": {
    "ExecuteTime": {
     "end_time": "2025-03-17T08:37:38.418192Z",
     "start_time": "2025-03-17T08:37:38.415363Z"
    }
   },
   "cell_type": "code",
   "source": "print(sentence_embeddings.shape)",
   "id": "e55ea4b9652f7784",
   "outputs": [
    {
     "name": "stdout",
     "output_type": "stream",
     "text": [
      "torch.Size([3, 384])\n"
     ]
    }
   ],
   "execution_count": 12
  },
  {
   "metadata": {},
   "cell_type": "markdown",
   "source": "### Similarity",
   "id": "c4e4ad83717b8b2f"
  },
  {
   "metadata": {
    "ExecuteTime": {
     "end_time": "2025-03-17T08:42:59.349806Z",
     "start_time": "2025-03-17T08:42:59.345219Z"
    }
   },
   "cell_type": "code",
   "source": [
    "# Remove gradiant tracking\n",
    "sentence_embeddings = sentence_embeddings.detach().numpy()\n",
    "\n",
    "# Initialise the score matrix 3 x 3\n",
    "scores = np.zeros((sentence_embeddings.shape[0], sentence_embeddings.shape[0]))\n",
    "\n",
    "# Compute the scores\n",
    "for index in range(sentence_embeddings.shape[0]):\n",
    "    scores[index, :] = cosine_similarity([sentence_embeddings[index]], sentence_embeddings)[0]"
   ],
   "id": "53f2b145c4a1bc90",
   "outputs": [],
   "execution_count": 17
  },
  {
   "metadata": {
    "ExecuteTime": {
     "end_time": "2025-03-17T08:43:01.613050Z",
     "start_time": "2025-03-17T08:43:01.609004Z"
    }
   },
   "cell_type": "code",
   "source": "scores",
   "id": "68acba6b22738c1f",
   "outputs": [
    {
     "data": {
      "text/plain": [
       "array([[1.        , 0.17021172, 0.82909292],\n",
       "       [0.17021172, 1.00000012, 0.17396861],\n",
       "       [0.82909292, 0.17396861, 1.        ]])"
      ]
     },
     "execution_count": 18,
     "metadata": {},
     "output_type": "execute_result"
    }
   ],
   "execution_count": 18
  },
  {
   "metadata": {},
   "cell_type": "markdown",
   "source": "- As expected, `I took my dog for a walk` and `I took my cat for a walk` are very much similar between each other",
   "id": "ba1656d0811a4692"
  },
  {
   "metadata": {},
   "cell_type": "markdown",
   "source": "## Sentence Transformers - SDK",
   "id": "ef4221634829ca2e"
  },
  {
   "metadata": {},
   "cell_type": "code",
   "outputs": [],
   "execution_count": null,
   "source": "",
   "id": "62d178d78d15dc19"
  }
 ],
 "metadata": {
  "kernelspec": {
   "display_name": "nexusllm",
   "language": "python",
   "name": "nexusllm"
  },
  "language_info": {
   "codemirror_mode": {
    "name": "ipython",
    "version": 2
   },
   "file_extension": ".py",
   "mimetype": "text/x-python",
   "name": "python",
   "nbconvert_exporter": "python",
   "pygments_lexer": "ipython2",
   "version": "2.7.6"
  }
 },
 "nbformat": 4,
 "nbformat_minor": 5
}
