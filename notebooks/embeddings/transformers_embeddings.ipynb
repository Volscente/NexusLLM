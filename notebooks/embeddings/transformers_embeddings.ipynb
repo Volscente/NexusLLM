{
 "cells": [
  {
   "metadata": {},
   "cell_type": "markdown",
   "source": [
    "# Transformers - Embeddings\n",
    "\n",
    "This notebook includes experimentation with the Embeddings through the usage of the Transformers."
   ],
   "id": "d376cbbbb1aa2535"
  },
  {
   "metadata": {},
   "cell_type": "markdown",
   "source": "# Setup Notebook",
   "id": "5d6cb2bf6c3b3634"
  },
  {
   "metadata": {},
   "cell_type": "markdown",
   "source": "## Imports",
   "id": "f2f0ab6053a9fe4a"
  },
  {
   "metadata": {
    "ExecuteTime": {
     "end_time": "2025-03-17T08:39:22.533129Z",
     "start_time": "2025-03-17T08:39:22.530704Z"
    }
   },
   "cell_type": "code",
   "source": [
    "# Import Standard Libraries\n",
    "import numpy as np\n",
    "import json\n",
    "from transformers import AutoTokenizer, AutoModel\n",
    "from sklearn.metrics.pairwise import cosine_similarity\n",
    "import torch\n",
    "import torch.nn.functional as F"
   ],
   "id": "b72cd9efd6f46013",
   "outputs": [],
   "execution_count": 13
  },
  {
   "metadata": {},
   "cell_type": "markdown",
   "source": "# Experimentations",
   "id": "5ceb9e5fa5117be4"
  },
  {
   "metadata": {},
   "cell_type": "markdown",
   "source": "## AutoTokenizer with BERT",
   "id": "4e6a32d7fdd6deca"
  },
  {
   "metadata": {},
   "cell_type": "markdown",
   "source": "### Tokenization",
   "id": "171a69badf29040c"
  },
  {
   "metadata": {
    "ExecuteTime": {
     "end_time": "2025-03-02T21:53:58.037564Z",
     "start_time": "2025-03-02T21:53:54.153233Z"
    }
   },
   "cell_type": "code",
   "source": [
    "# Instance the Tokenizer\n",
    "tokenizer = AutoTokenizer.from_pretrained(\"bert-base-uncased\")"
   ],
   "id": "dff5546421045e3d",
   "outputs": [],
   "execution_count": 3
  },
  {
   "metadata": {},
   "cell_type": "markdown",
   "source": [
    "-\n",
    "-\n",
    "- The Tokenizer is used to converts raw text into tokens\n",
    "<br>\n",
    "\n",
    "**The Process:**\n",
    "1) The first step is WordPiece Tokenization (e.g., \"playing\" &rarr; [\"play\", \"##ing\"])\n",
    "2) The second step maps tokens into numerical IDs (based on BERT's vocabulary)\n",
    "3) Add special tokens (`[CLS]` and `[SEP]`)\n",
    "4) Pads and truncate text sequence to fix model's input\n",
    "5) Create attention mask"
   ],
   "id": "dac6706f4bb5e3bc"
  },
  {
   "metadata": {
    "ExecuteTime": {
     "end_time": "2025-03-02T21:53:58.059222Z",
     "start_time": "2025-03-02T21:53:58.045229Z"
    }
   },
   "cell_type": "code",
   "source": [
    "text = \"I love Data Science\"\n",
    "tokens = tokenizer(text, return_tensors=\"pt\")  # Convert to PyTorch tensors\n",
    "\n",
    "print('Tokens:' , tokens.input_ids)\n",
    "print('Attention Mask:', tokens.attention_mask)"
   ],
   "id": "e3b5989ea404bd24",
   "outputs": [
    {
     "name": "stdout",
     "output_type": "stream",
     "text": [
      "Tokens: tensor([[ 101, 1045, 2293, 2951, 2671,  102]])\n",
      "Attention Mask: tensor([[1, 1, 1, 1, 1, 1]])\n"
     ]
    }
   ],
   "execution_count": 4
  },
  {
   "metadata": {},
   "cell_type": "markdown",
   "source": [
    "- [101] = [CLS] token (start of sentence)\n",
    "- 1045 = \"I\", 2293 = \"love\", 2951 = \"data\", 2671 = \"science\"\n",
    "- [102] = [SEP] token (end of sentence)"
   ],
   "id": "6ebc4c6f77f8369a"
  },
  {
   "metadata": {},
   "cell_type": "markdown",
   "source": [
    "### Embeddings\n",
    "\n",
    "The algorithm process an input tokenised sequence and compressed them into a lower dimensional representation called \"Embeddings\".\n",
    "\n"
   ],
   "id": "2d704a22c9a1d21d"
  },
  {
   "metadata": {
    "ExecuteTime": {
     "end_time": "2025-03-02T21:54:06.785495Z",
     "start_time": "2025-03-02T21:53:58.120373Z"
    }
   },
   "cell_type": "code",
   "source": [
    "# Instance model\n",
    "model = AutoModel.from_pretrained(\"bert-base-uncased\")"
   ],
   "id": "77e5bf633f5d29dc",
   "outputs": [
    {
     "name": "stderr",
     "output_type": "stream",
     "text": [
      "huggingface/tokenizers: The current process just got forked, after parallelism has already been used. Disabling parallelism to avoid deadlocks...\n",
      "To disable this warning, you can either:\n",
      "\t- Avoid using `tokenizers` before the fork if possible\n",
      "\t- Explicitly set the environment variable TOKENIZERS_PARALLELISM=(true | false)\n"
     ]
    },
    {
     "data": {
      "text/plain": [
       "model.safetensors:   0%|          | 0.00/440M [00:00<?, ?B/s]"
      ],
      "application/vnd.jupyter.widget-view+json": {
       "version_major": 2,
       "version_minor": 0,
       "model_id": "48c7ce327af0463bb69141760623c686"
      }
     },
     "metadata": {},
     "output_type": "display_data"
    }
   ],
   "execution_count": 5
  },
  {
   "metadata": {
    "ExecuteTime": {
     "end_time": "2025-03-02T21:54:19.926183Z",
     "start_time": "2025-03-02T21:54:19.723115Z"
    }
   },
   "cell_type": "code",
   "source": [
    "# Pass tokenized input into the model\n",
    "outputs = model(**tokens)\n",
    "\n",
    "# Extract last hidden state (word embeddings for each token)\n",
    "embeddings = outputs.last_hidden_state\n",
    "\n",
    "print(embeddings.shape)  # (batch_size, sequence_length, hidden_size)"
   ],
   "id": "420f52354aab79e6",
   "outputs": [
    {
     "name": "stdout",
     "output_type": "stream",
     "text": [
      "torch.Size([1, 6, 768])\n"
     ]
    }
   ],
   "execution_count": 6
  },
  {
   "metadata": {},
   "cell_type": "markdown",
   "source": "Each token (word or subword) gets a 768-dimensional vector that captures its meaning in context.",
   "id": "ce6ac4a1b9e905ab"
  },
  {
   "metadata": {},
   "cell_type": "markdown",
   "source": "## Sentence Transformers",
   "id": "fc41b549f95d5d1f"
  },
  {
   "metadata": {},
   "cell_type": "markdown",
   "source": "### Basic Usage",
   "id": "831e165727db729d"
  },
  {
   "metadata": {
    "ExecuteTime": {
     "end_time": "2025-03-17T08:37:30.309396Z",
     "start_time": "2025-03-17T08:37:30.306800Z"
    }
   },
   "cell_type": "code",
   "source": [
    "# Define the sentences\n",
    "sentences = [\n",
    "    \"I took my dog for a walk\",\n",
    "    \"Today is going to rain\",\n",
    "    \"I took my cat for a walk\"\n",
    "]"
   ],
   "id": "76cc52d46a261d1f",
   "outputs": [],
   "execution_count": 2
  },
  {
   "metadata": {
    "ExecuteTime": {
     "end_time": "2025-03-17T08:37:31.329892Z",
     "start_time": "2025-03-17T08:37:30.495088Z"
    }
   },
   "cell_type": "code",
   "source": [
    "# Define tokenizer and the model\n",
    "model_name = \"sentence-transformers/all-MiniLM-L6-v2\"\n",
    "tokenizer = AutoTokenizer.from_pretrained(model_name)\n",
    "model = AutoModel.from_pretrained(model_name)"
   ],
   "id": "43a52262f33ff675",
   "outputs": [],
   "execution_count": 3
  },
  {
   "metadata": {
    "ExecuteTime": {
     "end_time": "2025-03-17T08:37:31.334748Z",
     "start_time": "2025-03-17T08:37:31.332919Z"
    }
   },
   "cell_type": "code",
   "source": [
    "# Create tokens\n",
    "tokens = tokenizer(sentences, return_tensors=\"pt\", padding=True, truncation=True)"
   ],
   "id": "dd0c6fb1c765872a",
   "outputs": [],
   "execution_count": 4
  },
  {
   "metadata": {
    "ExecuteTime": {
     "end_time": "2025-03-17T08:37:31.354663Z",
     "start_time": "2025-03-17T08:37:31.342642Z"
    }
   },
   "cell_type": "code",
   "source": [
    "# Compute embeddings\n",
    "embeddings = model(**tokens).last_hidden_state"
   ],
   "id": "e65a1783fda8be33",
   "outputs": [],
   "execution_count": 5
  },
  {
   "metadata": {
    "ExecuteTime": {
     "end_time": "2025-03-17T08:37:31.364276Z",
     "start_time": "2025-03-17T08:37:31.361797Z"
    }
   },
   "cell_type": "code",
   "source": "print(embeddings.shape)",
   "id": "c3c2f326ee6e380d",
   "outputs": [
    {
     "name": "stdout",
     "output_type": "stream",
     "text": [
      "torch.Size([3, 9, 384])\n"
     ]
    }
   ],
   "execution_count": 6
  },
  {
   "metadata": {},
   "cell_type": "markdown",
   "source": [
    "- Shape is: number of sentences, number of tokens, embedding dimension\n",
    "- Therefore, each token in the input sequence has a dimension of 384"
   ],
   "id": "7edca7331db00d01"
  },
  {
   "metadata": {},
   "cell_type": "markdown",
   "source": [
    "### Mean Pooling\n",
    "\n",
    "Technique used to have one single embedding vector per sentence, and not per token"
   ],
   "id": "13929c1179649041"
  },
  {
   "metadata": {
    "ExecuteTime": {
     "end_time": "2025-03-17T08:37:35.714221Z",
     "start_time": "2025-03-17T08:37:35.711667Z"
    }
   },
   "cell_type": "code",
   "source": [
    "def mean_pooling(model_output, attention_mask):\n",
    "    \"\"\"Perform the mean pooling over the model output in order to reduce the embedding dimension\"\"\"\n",
    "    # Retrieve embeddings\n",
    "    token_embeddings = model_output.last_hidden_state\n",
    "\n",
    "    # Use the attention mask in order to not include the padding tokens into the mean pooling\n",
    "    input_mask_expanded = attention_mask.unsqueeze(-1).expand(token_embeddings.size()).float()\n",
    "\n",
    "    return torch.sum(token_embeddings * input_mask_expanded, 1) / torch.clamp(input_mask_expanded.sum(1), min=1e-9)"
   ],
   "id": "97220d00f2933eec",
   "outputs": [],
   "execution_count": 7
  },
  {
   "metadata": {},
   "cell_type": "markdown",
   "source": [
    "**Code Analysis**:\n",
    "\n",
    "```python\n",
    "# Use the attention mask in order to not include the padding tokens into the mean pooling\n",
    "input_mask_expanded = attention_mask.unsqueeze(-1).expand(token_embeddings.size()).float()\n",
    "```\n",
    "\n",
    "- The `attention_mask` is produced by the model to understand what tokens are actual words and what are paddings\n",
    "- Now the goal is to be able to apply the `attention_mask` to the `token_embeddings`, so that we can understand which are real tokens and which are padding tokens. In order to do this, we need to transform the `attention_mask` so that it has the same dimension as `token_embeddings`, in order to be able to do `token_embeddings * input_mask_expanded` later on\n",
    "- The `attention_mask` has a shape `(batch_size, sequence_length)` and `1` indicates a real token, while `0` is a padding token\n",
    "- The `unsqueeze(-1)` add an extra dimension to `attention_mask` &rarr; `(batch_size, sequence_length, 1)`\n",
    "- The `expand()` changes the shape of `attention_mask` to match the one of `token_embeddings`\n",
    "\n",
    "```python\n",
    "torch.sum(token_embeddings * input_mask_expanded, 1) / torch.clamp(input_mask_expanded.sum(1), min=1e-9)\n",
    "```\n",
    "\n",
    "- Both `token_embeddings` and `input_mask_expanded` have the same shape &rarr; `(batch_size, sequence_length, hidden_size)`\n",
    "- `token_embeddings * input_mask_expanded` &rarr; Mask out padding tokens by setting their embeddings to zero\n",
    "- `torch.sum(..., 1)` &rarr; sums along the `sequence_length` dimension (axis=1) &rarr; Compute the sum of embeddings only for the real tokens, while ignoring the padding tokens\n",
    "- `input_mask_expanded.sum(1)` &rarr; Sums the mask values along the `sequence_length` &rarr; It computes the number of real tokens\n",
    "- `torch.clamp(..., min=1e-9)` &rarr; If the whole sequence is padding, we would get a divide by zero error &rarr; This code prevents this by replacing zero with a very small number (`1e-9`)\n",
    "- The final division between the summed embeddings and the real number of tokens is the real **mean pooling of the embeddings** (Real average of only the real token embeddings, effectively ignoring the paddings)"
   ],
   "id": "3d2157012d38c1a0"
  },
  {
   "metadata": {
    "ExecuteTime": {
     "end_time": "2025-03-17T08:37:36.116363Z",
     "start_time": "2025-03-17T08:37:36.114219Z"
    }
   },
   "cell_type": "code",
   "source": [
    "# Define the sentences\n",
    "sentences = [\n",
    "    \"I took my dog for a walk\",\n",
    "    \"Today is going to rain\",\n",
    "    \"I took my cat for a walk\"\n",
    "]"
   ],
   "id": "f0032509a8734bc3",
   "outputs": [],
   "execution_count": 8
  },
  {
   "metadata": {
    "ExecuteTime": {
     "end_time": "2025-03-17T08:37:36.767131Z",
     "start_time": "2025-03-17T08:37:36.483468Z"
    }
   },
   "cell_type": "code",
   "source": [
    "# Define tokenizer and the model\n",
    "model_name = \"sentence-transformers/all-MiniLM-L6-v2\"\n",
    "tokenizer = AutoTokenizer.from_pretrained(model_name)\n",
    "model = AutoModel.from_pretrained(model_name)"
   ],
   "id": "f4084b5a7b1ea79b",
   "outputs": [],
   "execution_count": 9
  },
  {
   "metadata": {
    "ExecuteTime": {
     "end_time": "2025-03-17T08:37:36.946301Z",
     "start_time": "2025-03-17T08:37:36.930508Z"
    }
   },
   "cell_type": "code",
   "source": [
    "# Create tokens\n",
    "tokens = tokenizer(sentences, return_tensors=\"pt\", padding=True, truncation=True)\n",
    "\n",
    "# Compute model output\n",
    "output = model(**tokens)"
   ],
   "id": "70f7d627ead17e10",
   "outputs": [],
   "execution_count": 10
  },
  {
   "metadata": {
    "ExecuteTime": {
     "end_time": "2025-03-17T08:42:45.081829Z",
     "start_time": "2025-03-17T08:42:45.078728Z"
    }
   },
   "cell_type": "code",
   "source": [
    "# Apply mean pooling\n",
    "sentence_embeddings = mean_pooling(output, tokens.attention_mask)"
   ],
   "id": "3f81065f14733b24",
   "outputs": [],
   "execution_count": 16
  },
  {
   "metadata": {
    "ExecuteTime": {
     "end_time": "2025-03-17T08:37:38.418192Z",
     "start_time": "2025-03-17T08:37:38.415363Z"
    }
   },
   "cell_type": "code",
   "source": "print(sentence_embeddings.shape)",
   "id": "e55ea4b9652f7784",
   "outputs": [
    {
     "name": "stdout",
     "output_type": "stream",
     "text": [
      "torch.Size([3, 384])\n"
     ]
    }
   ],
   "execution_count": 12
  },
  {
   "metadata": {},
   "cell_type": "markdown",
   "source": "### Similarity",
   "id": "c4e4ad83717b8b2f"
  },
  {
   "metadata": {
    "ExecuteTime": {
     "end_time": "2025-03-17T08:42:59.349806Z",
     "start_time": "2025-03-17T08:42:59.345219Z"
    }
   },
   "cell_type": "code",
   "source": [
    "# Remove gradiant tracking\n",
    "sentence_embeddings = sentence_embeddings.detach().numpy()\n",
    "\n",
    "# Initialise the score matrix 3 x 3\n",
    "scores = np.zeros((sentence_embeddings.shape[0], sentence_embeddings.shape[0]))\n",
    "\n",
    "# Compute the scores\n",
    "for index in range(sentence_embeddings.shape[0]):\n",
    "    scores[index, :] = cosine_similarity([sentence_embeddings[index]], sentence_embeddings)[0]"
   ],
   "id": "53f2b145c4a1bc90",
   "outputs": [],
   "execution_count": 17
  },
  {
   "metadata": {
    "ExecuteTime": {
     "end_time": "2025-03-17T08:43:01.613050Z",
     "start_time": "2025-03-17T08:43:01.609004Z"
    }
   },
   "cell_type": "code",
   "source": "scores",
   "id": "68acba6b22738c1f",
   "outputs": [
    {
     "data": {
      "text/plain": [
       "array([[1.        , 0.17021172, 0.82909292],\n",
       "       [0.17021172, 1.00000012, 0.17396861],\n",
       "       [0.82909292, 0.17396861, 1.        ]])"
      ]
     },
     "execution_count": 18,
     "metadata": {},
     "output_type": "execute_result"
    }
   ],
   "execution_count": 18
  },
  {
   "metadata": {},
   "cell_type": "markdown",
   "source": "- As expected, `I took my dog for a walk` and `I took my cat for a walk` are very much similar between each other",
   "id": "ba1656d0811a4692"
  },
  {
   "metadata": {},
   "cell_type": "code",
   "outputs": [],
   "execution_count": null,
   "source": "",
   "id": "62d178d78d15dc19"
  }
 ],
 "metadata": {
  "kernelspec": {
   "display_name": "nexusllm",
   "language": "python",
   "name": "nexusllm"
  },
  "language_info": {
   "codemirror_mode": {
    "name": "ipython",
    "version": 2
   },
   "file_extension": ".py",
   "mimetype": "text/x-python",
   "name": "python",
   "nbconvert_exporter": "python",
   "pygments_lexer": "ipython2",
   "version": "2.7.6"
  }
 },
 "nbformat": 4,
 "nbformat_minor": 5
}
