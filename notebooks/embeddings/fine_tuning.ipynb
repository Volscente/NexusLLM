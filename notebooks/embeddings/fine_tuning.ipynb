{
 "cells": [
  {
   "metadata": {},
   "cell_type": "markdown",
   "source": [
    "# Embeddings - Fine Tuning Models\n",
    "\n",
    "The goal is to research different techniques on how to fine-tune embedding models.\n",
    "\n",
    "**Resources**\n",
    "- [Sentence Transformer - Loss Functions](https://sbert.net/docs/sentence_transformer/loss_overview.html#custom-loss-functions)"
   ],
   "id": "c616ee408a76b58d"
  },
  {
   "metadata": {},
   "cell_type": "markdown",
   "source": "# Notebook Setup",
   "id": "caca82b7528d4b8e"
  },
  {
   "metadata": {},
   "cell_type": "markdown",
   "source": "## Imports",
   "id": "2e36bec4d703d96e"
  },
  {
   "metadata": {
    "ExecuteTime": {
     "end_time": "2025-04-27T18:56:03.718818Z",
     "start_time": "2025-04-27T18:56:03.716355Z"
    }
   },
   "cell_type": "code",
   "source": [
    "# Import Standard Libraries\n",
    "from datasets import load_dataset\n",
    "from sentence_transformers import (\n",
    "    SentenceTransformer,\n",
    "    SentenceTransformerTrainer,\n",
    "    SentenceTransformerTrainingArguments,\n",
    "    SentenceTransformerModelCardData,\n",
    ")\n",
    "from sentence_transformers.losses import MultipleNegativesRankingLoss\n",
    "from sentence_transformers.training_args import BatchSamplers\n",
    "from sentence_transformers.evaluation import TripletEvaluator"
   ],
   "id": "d458ead545074057",
   "outputs": [],
   "execution_count": 2
  },
  {
   "metadata": {},
   "cell_type": "markdown",
   "source": "# Read Data",
   "id": "caad35376609fdd5"
  },
  {
   "metadata": {},
   "cell_type": "markdown",
   "source": "## All NLI - Pair Class",
   "id": "139a2340c7d303a"
  },
  {
   "metadata": {
    "ExecuteTime": {
     "end_time": "2025-04-26T18:46:23.432644Z",
     "start_time": "2025-04-26T18:46:17.997556Z"
    }
   },
   "cell_type": "code",
   "source": [
    "# Read data the All NLI \"Pair Class\" datasets for SentenceTransformerTrainer\n",
    "all_nli_pair_class_train = load_dataset(\"sentence-transformers/all-nli\", \"pair-class\", split=\"train\")\n",
    "all_nli_pair_class_test = load_dataset(\"sentence-transformers/all-nli\", \"pair-class\", split=\"dev\")"
   ],
   "id": "50c4d76af1b7f514",
   "outputs": [],
   "execution_count": 2
  },
  {
   "metadata": {
    "ExecuteTime": {
     "end_time": "2025-04-25T10:13:34.343093Z",
     "start_time": "2025-04-25T10:13:34.337366Z"
    }
   },
   "cell_type": "code",
   "source": "all_nli_pair_class_train[5]",
   "id": "561ceb0ce3c5ddd9",
   "outputs": [
    {
     "data": {
      "text/plain": [
       "{'premise': 'Children smiling and waving at camera',\n",
       " 'hypothesis': 'The kids are frowning',\n",
       " 'label': 2}"
      ]
     },
     "execution_count": 4,
     "metadata": {},
     "output_type": "execute_result"
    }
   ],
   "execution_count": 4
  },
  {
   "metadata": {},
   "cell_type": "markdown",
   "source": "The `label` is `{\"0\": \"entailment\", \"1\": \"neutral\", \"2\", \"contradiction\"}`.",
   "id": "758903e4336acf63"
  },
  {
   "metadata": {},
   "cell_type": "markdown",
   "source": "## All NLI - Triplets",
   "id": "4f83286d390a6eea"
  },
  {
   "metadata": {
    "ExecuteTime": {
     "end_time": "2025-04-27T19:02:41.296736Z",
     "start_time": "2025-04-27T19:02:29.827071Z"
    }
   },
   "cell_type": "code",
   "source": [
    "# Read data the All NLI \"Triplets\" datasets for SentenceTransformerTrainer\n",
    "all_nli_triplets_dataset = load_dataset(\"sentence-transformers/all-nli\", \"triplet\")\n",
    "all_nli_triplets_train = all_nli_triplets_dataset[\"train\"].select(range(100_000))\n",
    "all_nli_triplets_eval = all_nli_triplets_dataset[\"dev\"]\n",
    "all_nli_triplets_test = all_nli_triplets_dataset[\"test\"]"
   ],
   "id": "84c042bf6faa8c42",
   "outputs": [
    {
     "data": {
      "text/plain": [
       "triplet/train-00000-of-00001.parquet:   0%|          | 0.00/38.4M [00:00<?, ?B/s]"
      ],
      "application/vnd.jupyter.widget-view+json": {
       "version_major": 2,
       "version_minor": 0,
       "model_id": "07140cc03dda437385896c00671b0a31"
      }
     },
     "metadata": {},
     "output_type": "display_data"
    },
    {
     "data": {
      "text/plain": [
       "triplet/dev-00000-of-00001.parquet:   0%|          | 0.00/782k [00:00<?, ?B/s]"
      ],
      "application/vnd.jupyter.widget-view+json": {
       "version_major": 2,
       "version_minor": 0,
       "model_id": "157a90117d5141d2b204bace2dd83b9c"
      }
     },
     "metadata": {},
     "output_type": "display_data"
    },
    {
     "data": {
      "text/plain": [
       "triplet/test-00000-of-00001.parquet:   0%|          | 0.00/810k [00:00<?, ?B/s]"
      ],
      "application/vnd.jupyter.widget-view+json": {
       "version_major": 2,
       "version_minor": 0,
       "model_id": "cc07ccdc5dcb460e9c72303d863f2d37"
      }
     },
     "metadata": {},
     "output_type": "display_data"
    },
    {
     "data": {
      "text/plain": [
       "Generating train split:   0%|          | 0/557850 [00:00<?, ? examples/s]"
      ],
      "application/vnd.jupyter.widget-view+json": {
       "version_major": 2,
       "version_minor": 0,
       "model_id": "a74ec1d6117e4ba8b4e8c635f47895fe"
      }
     },
     "metadata": {},
     "output_type": "display_data"
    },
    {
     "data": {
      "text/plain": [
       "Generating dev split:   0%|          | 0/6584 [00:00<?, ? examples/s]"
      ],
      "application/vnd.jupyter.widget-view+json": {
       "version_major": 2,
       "version_minor": 0,
       "model_id": "2a412c9481fc41af9cbd0aaf31190ecc"
      }
     },
     "metadata": {},
     "output_type": "display_data"
    },
    {
     "data": {
      "text/plain": [
       "Generating test split:   0%|          | 0/6609 [00:00<?, ? examples/s]"
      ],
      "application/vnd.jupyter.widget-view+json": {
       "version_major": 2,
       "version_minor": 0,
       "model_id": "6dc0af54cc5f4bbfb1c7fd60e86482b7"
      }
     },
     "metadata": {},
     "output_type": "display_data"
    }
   ],
   "execution_count": 3
  },
  {
   "metadata": {
    "ExecuteTime": {
     "end_time": "2025-04-27T19:02:53.520271Z",
     "start_time": "2025-04-27T19:02:53.514644Z"
    }
   },
   "cell_type": "code",
   "source": "all_nli_triplets_train[5]",
   "id": "3a6ec44616693c2a",
   "outputs": [
    {
     "data": {
      "text/plain": [
       "{'anchor': 'An older man is drinking orange juice at a restaurant.',\n",
       " 'positive': 'A man is drinking juice.',\n",
       " 'negative': 'Two women are at a restaurant drinking wine.'}"
      ]
     },
     "execution_count": 4,
     "metadata": {},
     "output_type": "execute_result"
    }
   ],
   "execution_count": 4
  },
  {
   "metadata": {},
   "cell_type": "markdown",
   "source": [
    "# Data Preparation\n",
    "\n",
    "It is important to prepare the dataset in order to repsect a certain format expected by the Loss Function.\n",
    "\n",
    "- **Sentence Transformer** - The Loss Function expected format is reported in the [Loss Table](https://sbert.net/docs/sentence_transformer/loss_overview.html) and *label* column is generally indicated as `label` or `score`"
   ],
   "id": "5d583d769069fcfb"
  },
  {
   "metadata": {},
   "cell_type": "markdown",
   "source": [
    "## Dataset - from_dict\n",
    "\n",
    "In case your data needs to be prepared, you can use the `Dataset.from_dict` and construct the list of values to insert into your dataset."
   ],
   "id": "ec9f4a81fda0da48"
  },
  {
   "metadata": {
    "ExecuteTime": {
     "end_time": "2025-04-25T12:11:25.224470Z",
     "start_time": "2025-04-25T12:11:25.214498Z"
    }
   },
   "cell_type": "code",
   "source": [
    "# Initialise the data\n",
    "anchors = []\n",
    "positives = []\n",
    "\n",
    "# Open a file, perform preprocessing, filtering, cleaning, etc.\n",
    "# and append to the lists\n",
    "\n",
    "dataset = Dataset.from_dict({\n",
    "    \"anchor\": anchors,\n",
    "    \"positive\": positives,\n",
    "})"
   ],
   "id": "508840c42702c719",
   "outputs": [],
   "execution_count": 6
  },
  {
   "metadata": {},
   "cell_type": "markdown",
   "source": [
    "# SentenceTransformerTrainer\n",
    "\n",
    "This library uses `datasets.Dataset ` ([Reference](https://huggingface.co/docs/datasets/main/en/package_reference/main_classes#datasets.Dataset)) or `datasets.DatasetDict` ([Reference](https://huggingface.co/docs/datasets/main/en/package_reference/main_classes#datasets.DatasetDict)) instances for both training and evaluation.\n",
    "\n",
    "They accept CSV, JSON, Parquet, Arrow or SQL.\n",
    "\n",
    "Such datasets are marked with `setnence-transformers` in the HuggingFace Datasets Hub."
   ],
   "id": "1712b9df63c323d9"
  },
  {
   "metadata": {},
   "cell_type": "markdown",
   "source": "## Loss Functions - Cosine Sentence Similarity",
   "id": "29219b6158706107"
  },
  {
   "metadata": {
    "ExecuteTime": {
     "end_time": "2025-04-25T12:42:41.841380Z",
     "start_time": "2025-04-25T12:42:33.175610Z"
    }
   },
   "cell_type": "code",
   "source": [
    "# Instance model\n",
    "model = SentenceTransformer(\"microsoft/mpnet-base\")\n",
    "\n",
    "# Fine-tuning dataset with 2 samples\n",
    "# Data point: {text_1, text_2, expected_similarity}\n",
    "dataset = Dataset.from_dict({\n",
    "    \"sentence1\": [\"It's nice weather outside today.\", \"He drove to work.\"],\n",
    "    \"sentence2\": [\"It's so sunny.\", \"She walked to the store.\"],\n",
    "    \"score\": [1.0, 0.3]\n",
    "})\n",
    "\n",
    "# Cosine Sentence Loss -> Text 1, Text 2, Expected Similarity\n",
    "loss_function = CoSENTLoss(model)\n",
    "\n",
    "# Fine-tune\n",
    "trainer = SentenceTransformerTrainer(\n",
    "    model=model,\n",
    "    train_dataset=dataset,\n",
    "    loss=loss_function\n",
    ")\n",
    "trainer.train()"
   ],
   "id": "6e2f9a630597a9b6",
   "outputs": [
    {
     "name": "stderr",
     "output_type": "stream",
     "text": [
      "No sentence-transformers model found with name microsoft/mpnet-base. Creating a new one with mean pooling.\n",
      "Some weights of MPNetModel were not initialized from the model checkpoint at microsoft/mpnet-base and are newly initialized: ['pooler.dense.bias', 'pooler.dense.weight']\n",
      "You should probably TRAIN this model on a down-stream task to be able to use it for predictions and inference.\n",
      "huggingface/tokenizers: The current process just got forked, after parallelism has already been used. Disabling parallelism to avoid deadlocks...\n",
      "To disable this warning, you can either:\n",
      "\t- Avoid using `tokenizers` before the fork if possible\n",
      "\t- Explicitly set the environment variable TOKENIZERS_PARALLELISM=(true | false)\n"
     ]
    },
    {
     "data": {
      "text/plain": [
       "Computing widget examples:   0%|          | 0/1 [00:00<?, ?example/s]"
      ],
      "application/vnd.jupyter.widget-view+json": {
       "version_major": 2,
       "version_minor": 0,
       "model_id": "4b230d4986b44bc5b519c62fdefe909d"
      }
     },
     "metadata": {},
     "output_type": "display_data"
    },
    {
     "data": {
      "text/plain": [
       "<IPython.core.display.HTML object>"
      ],
      "text/html": [
       "\n",
       "    <div>\n",
       "      \n",
       "      <progress value='3' max='3' style='width:300px; height:20px; vertical-align: middle;'></progress>\n",
       "      [3/3 00:01, Epoch 3/3]\n",
       "    </div>\n",
       "    <table border=\"1\" class=\"dataframe\">\n",
       "  <thead>\n",
       " <tr style=\"text-align: left;\">\n",
       "      <th>Step</th>\n",
       "      <th>Training Loss</th>\n",
       "    </tr>\n",
       "  </thead>\n",
       "  <tbody>\n",
       "  </tbody>\n",
       "</table><p>"
      ]
     },
     "metadata": {},
     "output_type": "display_data"
    },
    {
     "data": {
      "text/plain": [
       "TrainOutput(global_step=3, training_loss=0.3688153823216756, metrics={'train_runtime': 6.7357, 'train_samples_per_second': 0.891, 'train_steps_per_second': 0.445, 'total_flos': 0.0, 'train_loss': 0.3688153823216756, 'epoch': 3.0})"
      ]
     },
     "execution_count": 2,
     "metadata": {},
     "output_type": "execute_result"
    }
   ],
   "execution_count": 2
  },
  {
   "metadata": {},
   "cell_type": "markdown",
   "source": "## Fine-Tune",
   "id": "3fc6b50657b06989"
  },
  {
   "metadata": {
    "ExecuteTime": {
     "end_time": "2025-04-26T18:46:37.254405Z",
     "start_time": "2025-04-26T18:46:23.531588Z"
    }
   },
   "cell_type": "code",
   "source": [
    "# Load the model to fine-tune\n",
    "model = SentenceTransformer(\n",
    "    \"microsoft/mpnet-base\",\n",
    "    model_card_data=SentenceTransformerModelCardData(\n",
    "        language=\"en\",\n",
    "        license=\"apache-2.0\",\n",
    "        model_name=\"MPNet base trained on AllNLI triplets\",\n",
    "    )\n",
    ")\n",
    "\n",
    "# Define the loss function\n",
    "loss = MultipleNegativesRankingLoss(model)"
   ],
   "id": "5c220fbee1d9c73b",
   "outputs": [
    {
     "name": "stderr",
     "output_type": "stream",
     "text": [
      "No sentence-transformers model found with name FacebookAI/xlm-roberta-base. Creating a new one with mean pooling.\n"
     ]
    },
    {
     "data": {
      "text/plain": [
       "config.json:   0%|          | 0.00/615 [00:00<?, ?B/s]"
      ],
      "application/vnd.jupyter.widget-view+json": {
       "version_major": 2,
       "version_minor": 0,
       "model_id": "12285419ba4b458da32246d40426f3f8"
      }
     },
     "metadata": {},
     "output_type": "display_data"
    },
    {
     "data": {
      "text/plain": [
       "model.safetensors:   0%|          | 0.00/1.12G [00:00<?, ?B/s]"
      ],
      "application/vnd.jupyter.widget-view+json": {
       "version_major": 2,
       "version_minor": 0,
       "model_id": "182430afa4a041d9a85b196daff384f2"
      }
     },
     "metadata": {},
     "output_type": "display_data"
    },
    {
     "data": {
      "text/plain": [
       "tokenizer_config.json:   0%|          | 0.00/25.0 [00:00<?, ?B/s]"
      ],
      "application/vnd.jupyter.widget-view+json": {
       "version_major": 2,
       "version_minor": 0,
       "model_id": "5b65c017fb4b4a9892d581aee3cea3e1"
      }
     },
     "metadata": {},
     "output_type": "display_data"
    },
    {
     "data": {
      "text/plain": [
       "sentencepiece.bpe.model:   0%|          | 0.00/5.07M [00:00<?, ?B/s]"
      ],
      "application/vnd.jupyter.widget-view+json": {
       "version_major": 2,
       "version_minor": 0,
       "model_id": "f86c72f6346f4875b36f7c626041cf4a"
      }
     },
     "metadata": {},
     "output_type": "display_data"
    },
    {
     "data": {
      "text/plain": [
       "tokenizer.json:   0%|          | 0.00/9.10M [00:00<?, ?B/s]"
      ],
      "application/vnd.jupyter.widget-view+json": {
       "version_major": 2,
       "version_minor": 0,
       "model_id": "a17371169ead4f8f81315b1aae819431"
      }
     },
     "metadata": {},
     "output_type": "display_data"
    }
   ],
   "execution_count": 3
  },
  {
   "metadata": {
    "ExecuteTime": {
     "end_time": "2025-04-26T18:49:15.982422Z",
     "start_time": "2025-04-26T18:49:15.975071Z"
    }
   },
   "cell_type": "code",
   "source": [
    "# Define the training arguments\n",
    "train_args = SentenceTransformerTrainingArguments(\n",
    "    # Required parameter:\n",
    "    output_dir=\"models/all-nli-pair-class\",\n",
    "    # Optional training parameters:\n",
    "    num_train_epochs=1,\n",
    "    per_device_train_batch_size=16,\n",
    "    per_device_eval_batch_size=16,\n",
    "    warmup_ratio=0.1,\n",
    "    fp16=True,  # GPU's specific\n",
    "    bf16=False,  # GPU's specific\n",
    "    # Optional tracking/debugging parameters:\n",
    "    eval_strategy=\"steps\",\n",
    "    eval_steps=100,\n",
    "    save_strategy=\"steps\",\n",
    "    save_steps=100,\n",
    "    save_total_limit=2,\n",
    "    logging_steps=100,\n",
    "    run_name=\"all-nli-pair-class\",\n",
    ")"
   ],
   "id": "b52b129ef6a892d5",
   "outputs": [],
   "execution_count": 5
  },
  {
   "metadata": {},
   "cell_type": "code",
   "outputs": [],
   "execution_count": null,
   "source": "",
   "id": "1291dfbf0310292f"
  }
 ],
 "metadata": {
  "kernelspec": {
   "display_name": "Python 3",
   "language": "python",
   "name": "python3"
  },
  "language_info": {
   "codemirror_mode": {
    "name": "ipython",
    "version": 2
   },
   "file_extension": ".py",
   "mimetype": "text/x-python",
   "name": "python",
   "nbconvert_exporter": "python",
   "pygments_lexer": "ipython2",
   "version": "2.7.6"
  }
 },
 "nbformat": 4,
 "nbformat_minor": 5
}
