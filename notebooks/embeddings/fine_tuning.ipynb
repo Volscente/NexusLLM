{
 "cells": [
  {
   "metadata": {},
   "cell_type": "markdown",
   "source": [
    "# Embeddings - Fine Tuning Models\n",
    "\n",
    "The goal is to research different techniques on how to fine-tune embedding models."
   ],
   "id": "c616ee408a76b58d"
  },
  {
   "metadata": {},
   "cell_type": "markdown",
   "source": "# Notebook Setup",
   "id": "caca82b7528d4b8e"
  },
  {
   "metadata": {},
   "cell_type": "markdown",
   "source": "## Imports",
   "id": "2e36bec4d703d96e"
  },
  {
   "metadata": {
    "ExecuteTime": {
     "end_time": "2025-04-25T12:11:22.550681Z",
     "start_time": "2025-04-25T12:11:22.546835Z"
    }
   },
   "cell_type": "code",
   "source": [
    "# Import Standard Libraries\n",
    "from datasets import load_dataset\n",
    "from datasets import Dataset"
   ],
   "id": "d458ead545074057",
   "outputs": [],
   "execution_count": 5
  },
  {
   "metadata": {},
   "cell_type": "markdown",
   "source": "# Read Data",
   "id": "caad35376609fdd5"
  },
  {
   "metadata": {},
   "cell_type": "markdown",
   "source": "## All NLI - Pair Class",
   "id": "139a2340c7d303a"
  },
  {
   "metadata": {
    "ExecuteTime": {
     "end_time": "2025-04-25T10:13:05.607656Z",
     "start_time": "2025-04-25T10:13:00.053391Z"
    }
   },
   "cell_type": "code",
   "source": [
    "# Read data the All NLI \"Pair Class\" datasets for SentenceTransformerTrainer\n",
    "all_nli_pair_class_train = load_dataset(\"sentence-transformers/all-nli\", \"pair-class\", split=\"train\")\n",
    "all_nli_pair_class_test = load_dataset(\"sentence-transformers/all-nli\", \"pair-class\", split=\"dev\")"
   ],
   "id": "50c4d76af1b7f514",
   "outputs": [],
   "execution_count": 2
  },
  {
   "metadata": {
    "ExecuteTime": {
     "end_time": "2025-04-25T10:13:34.343093Z",
     "start_time": "2025-04-25T10:13:34.337366Z"
    }
   },
   "cell_type": "code",
   "source": "all_nli_pair_class_train[5]",
   "id": "561ceb0ce3c5ddd9",
   "outputs": [
    {
     "data": {
      "text/plain": [
       "{'premise': 'Children smiling and waving at camera',\n",
       " 'hypothesis': 'The kids are frowning',\n",
       " 'label': 2}"
      ]
     },
     "execution_count": 4,
     "metadata": {},
     "output_type": "execute_result"
    }
   ],
   "execution_count": 4
  },
  {
   "metadata": {},
   "cell_type": "markdown",
   "source": "The `label` is `{\"0\": \"entailment\", \"1\": \"neutral\", \"2\", \"contradiction\"}`.",
   "id": "758903e4336acf63"
  },
  {
   "metadata": {},
   "cell_type": "markdown",
   "source": [
    "# Data Preparation\n",
    "\n",
    "It is important to prepare the dataset in order to repsect a certain format expected by the Loss Function.\n",
    "\n",
    "- **Sentence Transformer** - The Loss Function expected format is reported in the [Loss Table](https://sbert.net/docs/sentence_transformer/loss_overview.html) and *label* column is generally indicated as `label` or `score`"
   ],
   "id": "5d583d769069fcfb"
  },
  {
   "metadata": {},
   "cell_type": "markdown",
   "source": [
    "## Dataset - from_dict\n",
    "\n",
    "In case your data needs to be prepared, you can use the `Dataset.from_dict` and construct the list of values to insert into your dataset."
   ],
   "id": "ec9f4a81fda0da48"
  },
  {
   "metadata": {
    "ExecuteTime": {
     "end_time": "2025-04-25T12:11:25.224470Z",
     "start_time": "2025-04-25T12:11:25.214498Z"
    }
   },
   "cell_type": "code",
   "source": [
    "# Initialise the data\n",
    "anchors = []\n",
    "positives = []\n",
    "\n",
    "# Open a file, perform preprocessing, filtering, cleaning, etc.\n",
    "# and append to the lists\n",
    "\n",
    "dataset = Dataset.from_dict({\n",
    "    \"anchor\": anchors,\n",
    "    \"positive\": positives,\n",
    "})"
   ],
   "id": "508840c42702c719",
   "outputs": [],
   "execution_count": 6
  },
  {
   "metadata": {},
   "cell_type": "markdown",
   "source": [
    "# SentenceTransformerTrainer\n",
    "\n",
    "This library uses `datasets.Dataset ` ([Reference](https://huggingface.co/docs/datasets/main/en/package_reference/main_classes#datasets.Dataset)) or `datasets.DatasetDict` ([Reference](https://huggingface.co/docs/datasets/main/en/package_reference/main_classes#datasets.DatasetDict)) instances for both training and evaluation.\n",
    "\n",
    "They accept CSV, JSON, Parquet, Arrow or SQL.\n",
    "\n",
    "Such datasets are marked with `setnence-transformers` in the HuggingFace Datasets Hub."
   ],
   "id": "1712b9df63c323d9"
  },
  {
   "metadata": {},
   "cell_type": "code",
   "outputs": [],
   "execution_count": null,
   "source": "",
   "id": "5c220fbee1d9c73b"
  }
 ],
 "metadata": {
  "kernelspec": {
   "display_name": "Python 3",
   "language": "python",
   "name": "python3"
  },
  "language_info": {
   "codemirror_mode": {
    "name": "ipython",
    "version": 2
   },
   "file_extension": ".py",
   "mimetype": "text/x-python",
   "name": "python",
   "nbconvert_exporter": "python",
   "pygments_lexer": "ipython2",
   "version": "2.7.6"
  }
 },
 "nbformat": 4,
 "nbformat_minor": 5
}
