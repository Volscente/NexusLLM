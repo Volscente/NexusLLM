{
 "cells": [
  {
   "metadata": {},
   "cell_type": "markdown",
   "source": [
    "# Embeddings Experimentation\n",
    "\n",
    "Experiment with different embeddings technologies and techniques."
   ],
   "id": "a70c8e2d045cc5c9"
  },
  {
   "metadata": {},
   "cell_type": "markdown",
   "source": "# Setup Notebook",
   "id": "fc8b2c80432e8ffa"
  },
  {
   "metadata": {},
   "cell_type": "markdown",
   "source": "## Imports",
   "id": "8373b25f974ccb30"
  },
  {
   "metadata": {
    "ExecuteTime": {
     "end_time": "2024-11-12T18:44:40.265828Z",
     "start_time": "2024-11-12T18:44:40.072657Z"
    }
   },
   "cell_type": "code",
   "source": "from tensorflow.keras.preprocessing.text import Tokenizer",
   "id": "26375a7da2ac6a6b",
   "outputs": [
    {
     "ename": "ModuleNotFoundError",
     "evalue": "No module named 'tensorflow'",
     "output_type": "error",
     "traceback": [
      "\u001B[0;31m---------------------------------------------------------------------------\u001B[0m",
      "\u001B[0;31mModuleNotFoundError\u001B[0m                       Traceback (most recent call last)",
      "Cell \u001B[0;32mIn[1], line 1\u001B[0m\n\u001B[0;32m----> 1\u001B[0m \u001B[38;5;28;01mfrom\u001B[39;00m \u001B[38;5;21;01mtensorflow\u001B[39;00m\u001B[38;5;21;01m.\u001B[39;00m\u001B[38;5;21;01mkeras\u001B[39;00m\u001B[38;5;21;01m.\u001B[39;00m\u001B[38;5;21;01mpreprocessing\u001B[39;00m\u001B[38;5;21;01m.\u001B[39;00m\u001B[38;5;21;01mtext\u001B[39;00m \u001B[38;5;28;01mimport\u001B[39;00m Tokenizer\n",
      "\u001B[0;31mModuleNotFoundError\u001B[0m: No module named 'tensorflow'"
     ]
    }
   ],
   "execution_count": 1
  },
  {
   "metadata": {},
   "cell_type": "markdown",
   "source": "# Tokeniser",
   "id": "2d3c955a0b907f2e"
  },
  {
   "metadata": {},
   "cell_type": "markdown",
   "source": "## Simple Usage",
   "id": "39d8a3e1ae4e1325"
  },
  {
   "metadata": {
    "ExecuteTime": {
     "end_time": "2024-11-12T18:46:56.481033Z",
     "start_time": "2024-11-12T18:46:56.461354Z"
    }
   },
   "cell_type": "code",
   "source": [
    "# Define the data\n",
    "data = [\n",
    "\"The earth is spherical.\",\n",
    "\"The earth is a planet.\",\n",
    "\"I like to eat at a restaurant.\"]\n",
    "\n",
    "# Filter the punctuations, tokenize the words and index them to integers\n",
    "tokenizer = Tokenizer(num_words=15, filters=\"!\\\"#$%&()*+,-./:;<=>?[\\\\]^_'{|}~\\t\\n\", lower=True, split=' ')\n",
    "\n",
    "# Fit the tokeniser\n",
    "tokenizer.fit_on_texts(data)\n",
    "\n",
    "# Translate each sentence into its word-level IDs, and then one-hot encode those IDs\n",
    "ID_sequences = tokenizer.texts_to_sequences(data)\n",
    "binary_sequences = tokenizer.sequences_to_matrix(ID_sequences)\n",
    "\n",
    "print(\"ID dictionary:\\n\", tokenizer.word_index)\n",
    "print(\"\\nID sequences:\\n\", ID_sequences)\n",
    "print(\"\\n One-hot encoded sequences:\\n\", binary_sequences )"
   ],
   "id": "902280d823bbd2a5",
   "outputs": [
    {
     "ename": "NameError",
     "evalue": "name 'Tokenizer' is not defined",
     "output_type": "error",
     "traceback": [
      "\u001B[0;31m---------------------------------------------------------------------------\u001B[0m",
      "\u001B[0;31mNameError\u001B[0m                                 Traceback (most recent call last)",
      "Cell \u001B[0;32mIn[2], line 8\u001B[0m\n\u001B[1;32m      2\u001B[0m data \u001B[38;5;241m=\u001B[39m [\n\u001B[1;32m      3\u001B[0m \u001B[38;5;124m\"\u001B[39m\u001B[38;5;124mThe earth is spherical.\u001B[39m\u001B[38;5;124m\"\u001B[39m,\n\u001B[1;32m      4\u001B[0m \u001B[38;5;124m\"\u001B[39m\u001B[38;5;124mThe earth is a planet.\u001B[39m\u001B[38;5;124m\"\u001B[39m,\n\u001B[1;32m      5\u001B[0m \u001B[38;5;124m\"\u001B[39m\u001B[38;5;124mI like to eat at a restaurant.\u001B[39m\u001B[38;5;124m\"\u001B[39m]\n\u001B[1;32m      7\u001B[0m \u001B[38;5;66;03m# Filter the punctations, tokenize the words and index them to integers\u001B[39;00m\n\u001B[0;32m----> 8\u001B[0m tokenizer \u001B[38;5;241m=\u001B[39m \u001B[43mTokenizer\u001B[49m(num_words\u001B[38;5;241m=\u001B[39m\u001B[38;5;241m15\u001B[39m, filters\u001B[38;5;241m=\u001B[39m\u001B[38;5;124m\"\u001B[39m\u001B[38;5;124m!\u001B[39m\u001B[38;5;130;01m\\\"\u001B[39;00m\u001B[38;5;124m#$\u001B[39m\u001B[38;5;124m%\u001B[39m\u001B[38;5;124m&()*+,-./:;<=>?[\u001B[39m\u001B[38;5;130;01m\\\\\u001B[39;00m\u001B[38;5;124m]^_\u001B[39m\u001B[38;5;124m'\u001B[39m\u001B[38;5;124m{\u001B[39m\u001B[38;5;124m|}~\u001B[39m\u001B[38;5;130;01m\\t\u001B[39;00m\u001B[38;5;130;01m\\n\u001B[39;00m\u001B[38;5;124m\"\u001B[39m, lower\u001B[38;5;241m=\u001B[39m\u001B[38;5;28;01mTrue\u001B[39;00m, split\u001B[38;5;241m=\u001B[39m\u001B[38;5;124m'\u001B[39m\u001B[38;5;124m \u001B[39m\u001B[38;5;124m'\u001B[39m)\n\u001B[1;32m     11\u001B[0m tokenizer\u001B[38;5;241m.\u001B[39mfit_on_texts(data)\n\u001B[1;32m     12\u001B[0m \u001B[38;5;66;03m# Translate each sentence into its word-level IDs, and then one-hot encode those IDs\u001B[39;00m\n",
      "\u001B[0;31mNameError\u001B[0m: name 'Tokenizer' is not defined"
     ]
    }
   ],
   "execution_count": 2
  },
  {
   "metadata": {},
   "cell_type": "code",
   "outputs": [],
   "execution_count": null,
   "source": "",
   "id": "6fbc47bd1779b4c1"
  }
 ],
 "metadata": {
  "kernelspec": {
   "display_name": "Python 3",
   "language": "python",
   "name": "python3"
  },
  "language_info": {
   "codemirror_mode": {
    "name": "ipython",
    "version": 2
   },
   "file_extension": ".py",
   "mimetype": "text/x-python",
   "name": "python",
   "nbconvert_exporter": "python",
   "pygments_lexer": "ipython2",
   "version": "2.7.6"
  }
 },
 "nbformat": 4,
 "nbformat_minor": 5
}
