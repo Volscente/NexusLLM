{
 "cells": [
  {
   "metadata": {},
   "cell_type": "markdown",
   "source": [
    "# Embeddings Experimentation\n",
    "\n",
    "Experiment with different embeddings technologies and techniques."
   ],
   "id": "a70c8e2d045cc5c9"
  },
  {
   "metadata": {},
   "cell_type": "markdown",
   "source": "# Setup Notebook",
   "id": "fc8b2c80432e8ffa"
  },
  {
   "metadata": {},
   "cell_type": "markdown",
   "source": "## Imports",
   "id": "8373b25f974ccb30"
  },
  {
   "metadata": {
    "ExecuteTime": {
     "end_time": "2024-11-12T20:10:53.494401Z",
     "start_time": "2024-11-12T20:10:53.490474Z"
    }
   },
   "cell_type": "code",
   "source": [
    "# Import Standard Libraries\n",
    "import chromadb\n",
    "import os\n",
    "import google.generativeai as genai\n",
    "from chromadb import Documents, EmbeddingFunction, Embeddings\n",
    "from dotenv import load_dotenv\n",
    "from IPython.display import Markdown\n",
    "from google.api_core import retry"
   ],
   "id": "c4f429af7df861e9",
   "outputs": [],
   "execution_count": 14
  },
  {
   "metadata": {
    "ExecuteTime": {
     "end_time": "2024-11-12T18:55:57.716191Z",
     "start_time": "2024-11-12T18:55:57.693109Z"
    }
   },
   "cell_type": "code",
   "source": [
    "# Import Standard Libraries\n",
    "from gensim.test.utils import common_texts\n",
    "from gensim.models.Doc2Vec import Doc2Vec, TaggedDocument\n",
    "from gensim.test.utils import get_tmpfile"
   ],
   "id": "b2ebca9a7fc709a3",
   "outputs": [
    {
     "ename": "ModuleNotFoundError",
     "evalue": "No module named 'gensim.models.Doc2Vec'",
     "output_type": "error",
     "traceback": [
      "\u001B[0;31m---------------------------------------------------------------------------\u001B[0m",
      "\u001B[0;31mModuleNotFoundError\u001B[0m                       Traceback (most recent call last)",
      "Cell \u001B[0;32mIn[3], line 3\u001B[0m\n\u001B[1;32m      1\u001B[0m \u001B[38;5;66;03m# Import Standard Libraries\u001B[39;00m\n\u001B[1;32m      2\u001B[0m \u001B[38;5;28;01mfrom\u001B[39;00m \u001B[38;5;21;01mgensim\u001B[39;00m\u001B[38;5;21;01m.\u001B[39;00m\u001B[38;5;21;01mtest\u001B[39;00m\u001B[38;5;21;01m.\u001B[39;00m\u001B[38;5;21;01mutils\u001B[39;00m \u001B[38;5;28;01mimport\u001B[39;00m common_texts\n\u001B[0;32m----> 3\u001B[0m \u001B[38;5;28;01mfrom\u001B[39;00m \u001B[38;5;21;01mgensim\u001B[39;00m\u001B[38;5;21;01m.\u001B[39;00m\u001B[38;5;21;01mmodels\u001B[39;00m\u001B[38;5;21;01m.\u001B[39;00m\u001B[38;5;21;01mDoc2Vec\u001B[39;00m \u001B[38;5;28;01mimport\u001B[39;00m Doc2Vec, TaggedDocument\n\u001B[1;32m      4\u001B[0m \u001B[38;5;28;01mfrom\u001B[39;00m \u001B[38;5;21;01mgensim\u001B[39;00m\u001B[38;5;21;01m.\u001B[39;00m\u001B[38;5;21;01mtest\u001B[39;00m\u001B[38;5;21;01m.\u001B[39;00m\u001B[38;5;21;01mutils\u001B[39;00m \u001B[38;5;28;01mimport\u001B[39;00m get_tmpfile\n",
      "\u001B[0;31mModuleNotFoundError\u001B[0m: No module named 'gensim.models.Doc2Vec'"
     ]
    }
   ],
   "execution_count": 3
  },
  {
   "metadata": {
    "ExecuteTime": {
     "end_time": "2024-11-12T18:44:40.265828Z",
     "start_time": "2024-11-12T18:44:40.072657Z"
    }
   },
   "cell_type": "code",
   "source": [
    "# Import Standard Libraries\n",
    "from tensorflow.keras.preprocessing.text import Tokenizer"
   ],
   "id": "26375a7da2ac6a6b",
   "outputs": [
    {
     "ename": "ModuleNotFoundError",
     "evalue": "No module named 'tensorflow'",
     "output_type": "error",
     "traceback": [
      "\u001B[0;31m---------------------------------------------------------------------------\u001B[0m",
      "\u001B[0;31mModuleNotFoundError\u001B[0m                       Traceback (most recent call last)",
      "Cell \u001B[0;32mIn[1], line 1\u001B[0m\n\u001B[0;32m----> 1\u001B[0m \u001B[38;5;28;01mfrom\u001B[39;00m \u001B[38;5;21;01mtensorflow\u001B[39;00m\u001B[38;5;21;01m.\u001B[39;00m\u001B[38;5;21;01mkeras\u001B[39;00m\u001B[38;5;21;01m.\u001B[39;00m\u001B[38;5;21;01mpreprocessing\u001B[39;00m\u001B[38;5;21;01m.\u001B[39;00m\u001B[38;5;21;01mtext\u001B[39;00m \u001B[38;5;28;01mimport\u001B[39;00m Tokenizer\n",
      "\u001B[0;31mModuleNotFoundError\u001B[0m: No module named 'tensorflow'"
     ]
    }
   ],
   "execution_count": 1
  },
  {
   "metadata": {},
   "cell_type": "markdown",
   "source": "## Load Environment Variables",
   "id": "5905cc21b983f71b"
  },
  {
   "metadata": {
    "ExecuteTime": {
     "end_time": "2024-11-12T20:07:23.634716Z",
     "start_time": "2024-11-12T20:07:23.627007Z"
    }
   },
   "cell_type": "code",
   "source": [
    "# Load environment variables\n",
    "load_dotenv('./../../.env')"
   ],
   "id": "31478d5008850172",
   "outputs": [
    {
     "data": {
      "text/plain": [
       "True"
      ]
     },
     "execution_count": 7,
     "metadata": {},
     "output_type": "execute_result"
    }
   ],
   "execution_count": 7
  },
  {
   "metadata": {
    "ExecuteTime": {
     "end_time": "2024-11-12T20:08:01.542166Z",
     "start_time": "2024-11-12T20:08:01.536482Z"
    }
   },
   "cell_type": "code",
   "source": [
    "# Read environment variables\n",
    "google_api_key = os.getenv('GOOGLE_API_KEY')"
   ],
   "id": "a6ca5a4518870def",
   "outputs": [],
   "execution_count": 11
  },
  {
   "metadata": {},
   "cell_type": "markdown",
   "source": "## Configure Authentication",
   "id": "acbe7de2185e2b59"
  },
  {
   "metadata": {
    "ExecuteTime": {
     "end_time": "2024-11-12T20:08:21.141414Z",
     "start_time": "2024-11-12T20:08:21.137106Z"
    }
   },
   "cell_type": "code",
   "source": [
    "# Set the Google AI Studio API Key for genai SDK\n",
    "genai.configure(api_key=google_api_key)"
   ],
   "id": "71f35c6837f887e8",
   "outputs": [],
   "execution_count": 12
  },
  {
   "metadata": {},
   "cell_type": "markdown",
   "source": "# Read Data",
   "id": "60d47dcd0ac530c6"
  },
  {
   "metadata": {
    "ExecuteTime": {
     "end_time": "2024-11-12T20:11:35.646929Z",
     "start_time": "2024-11-12T20:11:35.637248Z"
    }
   },
   "cell_type": "code",
   "source": [
    "# Define few documents\n",
    "document_1 = \"Operating the Climate Control System  Your Googlecar has a climate control system that allows you to adjust the temperature and airflow in the car. To operate the climate control system, use the buttons and knobs located on the center console.  Temperature: The temperature knob controls the temperature inside the car. Turn the knob clockwise to increase the temperature or counterclockwise to decrease the temperature. Airflow: The airflow knob controls the amount of airflow inside the car. Turn the knob clockwise to increase the airflow or counterclockwise to decrease the airflow. Fan speed: The fan speed knob controls the speed of the fan. Turn the knob clockwise to increase the fan speed or counterclockwise to decrease the fan speed. Mode: The mode button allows you to select the desired mode. The available modes are: Auto: The car will automatically adjust the temperature and airflow to maintain a comfortable level. Cool: The car will blow cool air into the car. Heat: The car will blow warm air into the car. Defrost: The car will blow warm air onto the windshield to defrost it.\"\n",
    "document_2 = 'Your Googlecar has a large touchscreen display that provides access to a variety of features, including navigation, entertainment, and climate control. To use the touchscreen display, simply touch the desired icon.  For example, you can touch the \"Navigation\" icon to get directions to your destination or touch the \"Music\" icon to play your favorite songs.'\n",
    "document_3 = \"Shifting Gears Your Googlecar has an automatic transmission. To shift gears, simply move the shift lever to the desired position.  Park: This position is used when you are parked. The wheels are locked and the car cannot move. Reverse: This position is used to back up. Neutral: This position is used when you are stopped at a light or in traffic. The car is not in gear and will not move unless you press the gas pedal. Drive: This position is used to drive forward. Low: This position is used for driving in snow or other slippery conditions.\"\n",
    "\n",
    "documents = [document_1, document_2, document_3]"
   ],
   "id": "805c5eca93c69bea",
   "outputs": [],
   "execution_count": 16
  },
  {
   "metadata": {
    "ExecuteTime": {
     "end_time": "2024-11-12T20:20:41.161127Z",
     "start_time": "2024-11-12T20:20:41.157017Z"
    }
   },
   "cell_type": "code",
   "source": [
    "# Define some text to embed\n",
    "texts = [\n",
    "    'The quick brown fox jumps over the lazy dog.',\n",
    "    'The quick rbown fox jumps over the lazy dog.',\n",
    "    'teh fast fox jumps over the slow woofer.',\n",
    "    'a quick brown fox jmps over lazy dog.',\n",
    "    'brown fox jumping over dog',\n",
    "    'fox > dog',\n",
    "    'The five boxing wizards jump quickly.',\n",
    "    'Lorem ipsum dolor sit amet, consectetur adipiscing elit. Vivamus et hendrerit massa. Sed pulvinar, nisi a lobortis sagittis, neque risus gravida dolor, in porta dui odio vel purus.',\n",
    "]"
   ],
   "id": "89395c80226e7680",
   "outputs": [],
   "execution_count": 22
  },
  {
   "metadata": {},
   "cell_type": "markdown",
   "source": "# Tokeniser",
   "id": "2d3c955a0b907f2e"
  },
  {
   "metadata": {},
   "cell_type": "markdown",
   "source": "## Simple Usage",
   "id": "39d8a3e1ae4e1325"
  },
  {
   "metadata": {
    "ExecuteTime": {
     "end_time": "2024-11-12T18:46:56.481033Z",
     "start_time": "2024-11-12T18:46:56.461354Z"
    }
   },
   "cell_type": "code",
   "source": [
    "# Define the data\n",
    "data = [\n",
    "\"The earth is spherical.\",\n",
    "\"The earth is a planet.\",\n",
    "\"I like to eat at a restaurant.\"]\n",
    "\n",
    "# Filter the punctuations, tokenize the words and index them to integers\n",
    "tokenizer = Tokenizer(num_words=15, filters=\"!\\\"#$%&()*+,-./:;<=>?[\\\\]^_'{|}~\\t\\n\", lower=True, split=' ')\n",
    "\n",
    "# Fit the tokeniser\n",
    "tokenizer.fit_on_texts(data)\n",
    "\n",
    "# Translate each sentence into its word-level IDs, and then one-hot encode those IDs\n",
    "ID_sequences = tokenizer.texts_to_sequences(data)\n",
    "binary_sequences = tokenizer.sequences_to_matrix(ID_sequences)\n",
    "\n",
    "print(\"ID dictionary:\\n\", tokenizer.word_index)\n",
    "print(\"\\nID sequences:\\n\", ID_sequences)\n",
    "print(\"\\n One-hot encoded sequences:\\n\", binary_sequences )"
   ],
   "id": "902280d823bbd2a5",
   "outputs": [
    {
     "ename": "NameError",
     "evalue": "name 'Tokenizer' is not defined",
     "output_type": "error",
     "traceback": [
      "\u001B[0;31m---------------------------------------------------------------------------\u001B[0m",
      "\u001B[0;31mNameError\u001B[0m                                 Traceback (most recent call last)",
      "Cell \u001B[0;32mIn[2], line 8\u001B[0m\n\u001B[1;32m      2\u001B[0m data \u001B[38;5;241m=\u001B[39m [\n\u001B[1;32m      3\u001B[0m \u001B[38;5;124m\"\u001B[39m\u001B[38;5;124mThe earth is spherical.\u001B[39m\u001B[38;5;124m\"\u001B[39m,\n\u001B[1;32m      4\u001B[0m \u001B[38;5;124m\"\u001B[39m\u001B[38;5;124mThe earth is a planet.\u001B[39m\u001B[38;5;124m\"\u001B[39m,\n\u001B[1;32m      5\u001B[0m \u001B[38;5;124m\"\u001B[39m\u001B[38;5;124mI like to eat at a restaurant.\u001B[39m\u001B[38;5;124m\"\u001B[39m]\n\u001B[1;32m      7\u001B[0m \u001B[38;5;66;03m# Filter the punctations, tokenize the words and index them to integers\u001B[39;00m\n\u001B[0;32m----> 8\u001B[0m tokenizer \u001B[38;5;241m=\u001B[39m \u001B[43mTokenizer\u001B[49m(num_words\u001B[38;5;241m=\u001B[39m\u001B[38;5;241m15\u001B[39m, filters\u001B[38;5;241m=\u001B[39m\u001B[38;5;124m\"\u001B[39m\u001B[38;5;124m!\u001B[39m\u001B[38;5;130;01m\\\"\u001B[39;00m\u001B[38;5;124m#$\u001B[39m\u001B[38;5;124m%\u001B[39m\u001B[38;5;124m&()*+,-./:;<=>?[\u001B[39m\u001B[38;5;130;01m\\\\\u001B[39;00m\u001B[38;5;124m]^_\u001B[39m\u001B[38;5;124m'\u001B[39m\u001B[38;5;124m{\u001B[39m\u001B[38;5;124m|}~\u001B[39m\u001B[38;5;130;01m\\t\u001B[39;00m\u001B[38;5;130;01m\\n\u001B[39;00m\u001B[38;5;124m\"\u001B[39m, lower\u001B[38;5;241m=\u001B[39m\u001B[38;5;28;01mTrue\u001B[39;00m, split\u001B[38;5;241m=\u001B[39m\u001B[38;5;124m'\u001B[39m\u001B[38;5;124m \u001B[39m\u001B[38;5;124m'\u001B[39m)\n\u001B[1;32m     11\u001B[0m tokenizer\u001B[38;5;241m.\u001B[39mfit_on_texts(data)\n\u001B[1;32m     12\u001B[0m \u001B[38;5;66;03m# Translate each sentence into its word-level IDs, and then one-hot encode those IDs\u001B[39;00m\n",
      "\u001B[0;31mNameError\u001B[0m: name 'Tokenizer' is not defined"
     ]
    }
   ],
   "execution_count": 2
  },
  {
   "metadata": {},
   "cell_type": "markdown",
   "source": "# Text Embeddings",
   "id": "3ec8ab3e0c4fcb89"
  },
  {
   "metadata": {},
   "cell_type": "markdown",
   "source": "## Gemini",
   "id": "1df13406d47459a3"
  },
  {
   "metadata": {
    "ExecuteTime": {
     "end_time": "2024-11-12T20:22:11.668531Z",
     "start_time": "2024-11-12T20:22:11.130574Z"
    }
   },
   "cell_type": "code",
   "source": [
    "# Use Gemini\n",
    "response = genai.embed_content(model='models/text-embedding-004',\n",
    "                               content=texts,\n",
    "                               task_type='semantic_similarity')\n",
    "\n",
    "print(response['embedding'][0])"
   ],
   "id": "5c3d3ed6b68ff988",
   "outputs": [
    {
     "name": "stdout",
     "output_type": "stream",
     "text": [
      "[-0.0922682, 0.012113783, -0.0063794684, 0.0369048, 0.02203019, 0.048805293, 0.0133289965, 0.021541007, 0.02705553, -0.0043925485, -0.011962657, 0.069833845, 0.010891116, 0.06149802, 0.049922608, 0.022119658, 0.0178632, 0.050096616, 0.0029887455, -0.008278692, 0.005999019, -0.0040636063, 0.015202278, -0.021813663, -0.02274539, -0.032121718, -0.00033075613, -0.022031343, 0.028694874, -0.04976425, 0.025347114, 0.07245508, 0.003248612, -0.002201165, 0.059787363, -0.0057624904, -0.02634191, -0.003782781, 0.048398733, 0.0066004205, -0.05704449, -0.022870814, -0.058460187, 0.013212032, 0.01834201, -0.076267265, -0.02015255, 0.014425502, 0.0024263572, -0.011807308, 0.056245767, -0.0031448188, 0.0013501083, -0.009426735, -0.020425193, 0.0015862642, 0.0039356016, 0.0071027516, -0.032657158, -0.0345763, -0.009775383, -0.032960888, 0.006124403, -0.003723441, 0.046425253, -0.03982145, -0.046581678, -0.027215622, 0.03325059, 0.013590055, -0.026209503, 0.050803315, -0.06645644, 0.041311942, -0.048123073, -0.11094722, -0.0038641396, -0.015851587, 0.011200247, -0.027227176, -0.015469129, -0.042032424, 0.055671595, 0.06231041, 0.0034255825, 0.011763523, 0.01621358, -0.013940747, -0.045262743, 0.0016344847, 0.014209164, -0.008122905, 0.018512122, -7.59293e-05, 0.074593194, 0.018492972, 0.00111509, -0.044390086, 0.04560642, 0.0036264064, 0.0077751568, -0.018745417, 0.03646557, -0.04813685, 0.029099878, -0.01822599, -0.053521235, -0.050988864, -0.003966616, -0.017587908, -0.033216186, 0.023547765, 0.011647275, -0.028811138, -0.024621043, 0.034764025, 0.025732059, 0.044361897, -0.025042737, -0.01906498, 0.0014878849, 0.020244464, -0.023378562, 0.03239164, 0.020667473, 0.046303008, 0.033895306, 0.039343715, -0.030106355, -0.027000658, 0.016134933, -0.08299956, 0.020225972, 0.07053881, -0.012928375, -0.05481056, -0.033054214, -0.014955235, -0.008552485, 0.017945629, -0.012824133, -0.007489804, 0.057970233, 0.028241945, 0.017734515, -0.004173878, 0.030518105, -0.044254012, 0.058043007, 0.033720534, -0.027885208, -0.026722621, -0.08806284, -0.0058014207, -0.033580422, -0.018803049, -0.036067728, 0.0015631652, 0.055536333, -0.01698085, -0.0065259915, -0.0132036805, 0.00947909, 0.024617486, -0.02671265, -0.042306475, -0.017954255, 0.025977666, -0.011082076, -0.018350953, 0.050336223, 0.027229838, -0.07560146, -0.03517108, 0.004510263, 0.0685511, 0.005992063, 0.022958193, -0.030721076, 0.015972054, 0.023111947, -0.014890648, -0.036849834, -0.031707007, 0.04718754, 0.019358454, -0.04781832, 0.033835817, -0.017605923, 0.0005209497, -0.008033874, -0.009180875, 0.0930994, -0.0327438, 0.040911715, -0.0002874439, 0.041329082, 0.02204146, -0.049914993, 0.029193057, 0.015850386, 0.007908602, 0.022481935, -0.0048360266, -0.030720081, 0.018456997, -0.03212781, -0.024271734, -0.02596934, 0.043235645, -0.030701688, -0.029438302, 0.024344044, 0.049774937, -0.0077285343, -0.0041217753, 0.02741763, -0.03581774, 0.034937013, -0.03400469, 0.025331307, -0.012706071, 0.02711172, 0.022171361, 0.0022840903, -0.06963671, -0.018559134, 0.031091744, 0.03786059, -0.08291894, -0.028590355, 0.044495605, 0.014177735, -0.0041962704, 0.004349261, 0.023054931, -0.029590152, -0.051460464, -0.02890546, 0.014785463, -0.039893113, -0.018847669, 0.057346858, -0.032131076, 0.012445878, 0.01149912, -0.04042587, 0.04838385, -0.026555203, 0.021660438, -0.03620332, -0.010110527, -0.06261416, 0.027804106, -0.06526207, 0.051709004, 0.026257217, -0.0036334067, -0.032902185, -0.0001577809, 0.024117313, 0.011299615, 0.010639942, 0.017610488, -0.02693034, -0.09604684, 0.016922938, 0.045738403, -0.024483528, -0.014365559, -0.016187659, 0.03603359, -0.043634947, 0.015334466, 0.03476998, 0.021206632, 0.026045159, 0.003911255, -0.06171219, -0.017558828, -0.009184282, 0.0107011115, 0.024438344, -0.011384715, 0.004768284, 0.01791553, -0.019144833, -0.043750536, -0.074191235, 0.055076744, 0.005095869, 0.04500255, 0.0061644637, -0.07724053, 0.040976174, 0.023260329, 0.0022443212, 0.08275691, 0.017166622, -0.030286415, 0.00945757, -0.025202665, -0.021293245, 0.040018998, -0.012893616, 0.031841926, -0.048342373, -0.025249684, 0.022925563, 0.108610295, 0.036428243, 0.022877857, -0.024251426, -0.018430712, -0.026101416, -0.032217856, -0.06391118, 0.01644416, 0.026901692, 0.0374166, 0.03997132, -0.04242114, -0.013044451, -0.03842045, 0.061011087, -0.036440786, 0.024334911, -0.029668296, -0.056648094, 0.022690296, -0.024841975, -0.029309466, -0.028435262, 0.0002602355, -0.03883883, -0.029755773, -0.06863931, 0.022581974, 0.034336507, -0.061592422, 0.07207123, 0.026420977, 0.063580334, 0.060976427, 0.03709963, -0.0057444796, -0.02701827, -0.0047786385, 0.017402217, -0.0022654023, 0.016395628, 0.058007818, 0.022046356, -0.043148164, -0.014513135, 0.0060309176, 0.023023445, -0.017907588, -0.0407961, -0.018279782, 0.026564274, 0.020519257, -0.046795543, 0.09657788, 0.034184102, 0.0019581197, 0.028746614, -0.010918798, -0.038493086, 0.02749728, 0.0068127736, 0.091667995, -0.037709042, -0.026980441, 0.008902308, -0.031483762, 0.025136854, 0.07252148, 0.009087592, 0.017262008, -0.07481686, -0.018183747, -0.048127256, -0.012117579, -0.047973193, -0.0070257657, -0.010837309, 0.016055314, -0.031343896, 0.05695953, -0.09791824, 0.019580694, -0.02953882, -0.016665908, 0.028508151, -0.0048975386, 0.033115555, 0.057268266, -0.0027306806, 0.0027296573, -0.025023978, -0.04152059, 0.0043722703, -0.017900096, 0.020482797, -0.042945724, 0.05080353, -0.007200524, -0.008775023, -0.03501812, -0.035231657, 0.023104774, -0.012995427, 0.051393386, 0.031777594, 0.025277063, 0.046324555, 0.01987751, -0.027838586, 0.0062768077, 0.0132891275, 0.016276816, -0.006804482, -0.012248012, 0.02167013, 0.0143739795, -0.03798781, 0.007479567, -0.024720905, 0.0066867894, -0.019352093, 0.010498828, 0.04222078, 0.022198524, 0.029901102, -0.0005789616, 0.025832852, 0.013522987, -0.030276785, 0.046727967, -0.001372113, -0.044440337, -0.013115313, -0.04550862, 0.022401333, 0.0017630899, 0.013173997, 0.012500143, -0.04563493, -0.02090297, 0.005447116, -0.022364264, -0.04775331, 0.0025871217, -0.093568705, -0.03157065, 0.040128402, 0.015513029, -0.012672995, 0.027929584, -0.060822472, 0.019216757, 0.043005344, 0.027783943, 0.0044614077, 0.010425782, 0.022221867, 0.022315318, 0.033514928, -0.0022361747, 0.022073202, -0.00528071, 0.02877639, 0.026042933, 0.011236663, -0.0299009, 0.021918464, -0.035845295, -0.013819459, -0.021455888, 0.006755176, 0.033895336, -0.06105802, -0.046748005, 0.053010993, 0.02767134, 0.04049022, 0.052816037, -0.022325268, 0.007041482, -0.016505394, 0.011093179, -0.007184572, -0.051193804, 0.021831835, -0.0076999348, 0.009885912, -0.008665312, -0.023642475, 0.040753778, 0.03032737, 0.03737741, 0.042071644, -0.045569137, -0.032300454, -0.0014446668, -0.027937228, -0.0028538266, -0.002612081, -0.03820993, 0.034070436, -0.047775615, 0.05850519, -0.020907525, -0.018448915, -0.041932635, -0.017825043, 0.008363159, -0.012956596, 0.041865565, 0.009573449, -0.04739285, 0.06953397, -0.078112066, -0.014134957, 0.021565842, -0.015174451, -0.041656114, -0.015021284, -0.066025816, -0.018537972, 0.08060619, 0.08599009, 0.07596708, 0.0044446224, 0.061612375, 0.00600822, 0.018797696, 0.03057841, 0.021570232, 0.001980629, 0.06389711, 0.013113221, 0.012515263, 0.032351304, -0.015059057, 0.02857808, 0.050898094, -0.013252123, -0.013772752, 0.022101458, -0.036756072, -0.060911972, -0.023864469, -0.03442566, 0.0045860363, 0.0077737556, -0.07683687, -0.061940048, -0.0005030114, 0.038045306, -0.005205641, 0.00987835, 0.009460285, -0.041202523, -0.062040932, -0.04024084, 0.00044624627, -0.023880567, -0.047674857, -0.06051753, 0.067389816, -0.027354155, -0.008095299, 0.02350751, 0.027985917, -0.053490307, 0.021766346, 0.0096874405, -0.027277326, 0.031015687, 0.0024500205, -0.0074724127, 0.044645317, -0.03716417, -0.05037334, -0.024207609, 0.00021373088, 0.0796403, -0.028676834, 0.008380877, 0.0033848155, -0.034901313, -0.024233367, -0.03746499, -0.010053601, -0.08826703, 6.701573e-05, 0.025592694, -0.0152250165, -0.007266676, -0.09381609, 0.009117258, 0.06341761, -0.03409713, -0.09363789, -0.041669596, -0.03063344, 0.012942854, 0.049082864, -0.054328293, 0.05343036, 0.0019286333, -0.0076355333, -0.080524534, 0.033665642, -0.00218719, -0.025008742, -0.03522647, 0.021884736, 0.05187269, -0.00073224504, -0.034595836, -0.059873328, 0.028614938, -0.008067237, 0.054756507, 0.023662003, 0.08588404, 0.011597431, -0.015190855, 0.01077417, 0.059308123, -0.02314926, 0.0018608151, -0.001119026, -0.007640507, -0.006158319, -0.00915512, 0.00012580733, -0.05781898, -0.005632249, 0.06140569, -0.017749317, -0.06329286, 0.06463075, -0.014448748, 0.029524142, -0.0104380995, 0.022223344, 0.0060679056, 0.016898703, 0.050107405, 3.4608856e-05, -0.09332798, -0.0102481665, -0.035233676, -0.020063499, -0.024103206, 0.03548694, -0.06858121, -0.0032733178, 0.0034729599, 0.038426004, -0.04234939, -0.027103327, -0.03499894, -0.021468757, -0.011083008, -0.049804095, -0.012754829, -0.00941899, 0.017485969, 0.030899262, -0.06017352, 0.061820816, 0.011491276, 0.016385648, -0.0074486514, 0.027601551, 0.002620684, -0.01176181, 0.033553448, 0.02721438, -0.010207353, 0.036721185, -0.024709094, -0.021805799, -0.045126498, 0.0071122954, 0.042422272, -0.010409978, 0.003231752, 0.012060218, -0.010516995, 0.03408371, -0.024808267, -0.035477705, -0.03152632, -0.0018249911, -0.02506275, -0.06769305, -0.0079390565, -0.009332485, -0.004168305, -0.045617726, -0.0570462, -0.03807074, 0.0023002357, 0.02046746, -0.055301618, 0.017495286, 0.05141477, 0.03364361, -0.03185125, 0.05333736, -0.021410573, 0.057372145, -0.028042106, 0.027686562, 0.011287041, -0.064478815, 0.026773963, 0.00030629666, 0.030997617, 0.0029223824, -0.04854879, 0.02412194, 0.04986989, 0.042414706, 0.028974395, 0.017459339, -0.06479719, 0.06085877, -0.05961035, -0.0022204549, -0.020301482, -0.017437194, 0.008303044, 0.0069371616, 0.02773731, -0.0022967826, -0.047616106, -0.05259433, 0.015191533, 0.026991362, -0.029645404, -0.095857546, 0.013315598, 0.005800819, 0.01633318, 0.06144394, -0.028994085, 0.046469424, -0.027015116, 0.0065319887, 0.059221014, -0.036405623, 0.06578499, 0.07802489, 0.00556228, 0.06647375, -0.004463192, 0.01715552, 0.0134262135, -0.04500458, 0.02061157, -0.07356266]\n"
     ]
    }
   ],
   "execution_count": 27
  },
  {
   "metadata": {},
   "cell_type": "markdown",
   "source": "# Document Embeddings",
   "id": "160ac608729b4197"
  },
  {
   "metadata": {},
   "cell_type": "markdown",
   "source": "## Gensim",
   "id": "57688f536a982121"
  },
  {
   "metadata": {},
   "cell_type": "code",
   "outputs": [],
   "execution_count": null,
   "source": [
    "#train model on a sequence of documents tagged with their IDs\n",
    "documents = [TaggedDocument(doc, [i]) for i, doc in enumerate(common_texts)]\n",
    "model = Doc2Vec(documents, vector_size=8, window=3, min_count=1, workers=6)\n",
    "\n",
    "# persist model to disk, and load it to infer on new documents\n",
    "model_file = get_tmpfile(\"Doc2Vec_v1\")\n",
    "model.save(model_file)\n",
    "model = Doc2Vec.load(model_file)\n",
    "model.infer_vector([\"human\", \"interface\"])"
   ],
   "id": "ccdbc881e12424d4"
  },
  {
   "metadata": {},
   "cell_type": "markdown",
   "source": "# Embedding Database",
   "id": "947fed8eed23635c"
  },
  {
   "metadata": {},
   "cell_type": "markdown",
   "source": "## RAG with ChromaDB",
   "id": "c5f6b39f1ae9b568"
  },
  {
   "metadata": {
    "ExecuteTime": {
     "end_time": "2024-11-12T20:10:36.667105Z",
     "start_time": "2024-11-12T20:10:36.661651Z"
    }
   },
   "cell_type": "code",
   "source": [
    "class GeminiEmbeddingFunction(EmbeddingFunction):\n",
    "    \"\"\"\n",
    "    Function that generates embeddings through Gemini\n",
    "    \"\"\"\n",
    "    # Specify whether to generate embeddings for documents, or queries\n",
    "    document_mode = True\n",
    "\n",
    "    def __call__(self, input: Documents) -> Embeddings:\n",
    "        \n",
    "        # Switch between embedding documents or query\n",
    "        if self.document_mode:\n",
    "            embedding_task = \"retrieval_document\"\n",
    "        else:\n",
    "            embedding_task = \"retrieval_query\"\n",
    "\n",
    "        retry_policy = {\"retry\": retry.Retry(predicate=retry.if_transient_error)}\n",
    "\n",
    "        response = genai.embed_content(\n",
    "            model=\"models/text-embedding-004\",\n",
    "            content=input,\n",
    "            task_type=embedding_task,\n",
    "            request_options=retry_policy,\n",
    "        )\n",
    "        return response[\"embedding\"]"
   ],
   "id": "350f54810e0c7c9a",
   "outputs": [],
   "execution_count": 13
  },
  {
   "metadata": {
    "ExecuteTime": {
     "end_time": "2024-11-12T20:11:43.154063Z",
     "start_time": "2024-11-12T20:11:42.608321Z"
    }
   },
   "cell_type": "code",
   "source": [
    "# Create a ChromaDB and populate it with the embeddings from documents\n",
    "DB_NAME = \"googlecardb\"\n",
    "embed_fn = GeminiEmbeddingFunction()\n",
    "embed_fn.document_mode = True\n",
    "\n",
    "chroma_client = chromadb.Client()\n",
    "db = chroma_client.get_or_create_collection(name=DB_NAME, embedding_function=embed_fn)\n",
    "\n",
    "db.add(documents=documents, ids=[str(i) for i in range(len(documents))])"
   ],
   "id": "130fa2adad44d9ca",
   "outputs": [],
   "execution_count": 17
  },
  {
   "metadata": {
    "ExecuteTime": {
     "end_time": "2024-11-12T20:11:51.577135Z",
     "start_time": "2024-11-12T20:11:51.569937Z"
    }
   },
   "cell_type": "code",
   "source": "db.count()",
   "id": "c8ab17c7179205d7",
   "outputs": [
    {
     "data": {
      "text/plain": [
       "3"
      ]
     },
     "execution_count": 18,
     "metadata": {},
     "output_type": "execute_result"
    }
   ],
   "execution_count": 18
  },
  {
   "metadata": {
    "ExecuteTime": {
     "end_time": "2024-11-12T20:12:21.402402Z",
     "start_time": "2024-11-12T20:12:20.990775Z"
    }
   },
   "cell_type": "code",
   "source": [
    "# Use the query method to search in the ChromaDB\n",
    "# Switch to query mode when generating embeddings.\n",
    "embed_fn.document_mode = False\n",
    "\n",
    "# Search the Chroma DB using the specified query.\n",
    "query = \"How do you use the touchscreen to play music?\"\n",
    "\n",
    "result = db.query(query_texts=[query], n_results=1)\n",
    "[[passage]] = result[\"documents\"]\n",
    "\n",
    "Markdown(passage)"
   ],
   "id": "84e6a641851038d2",
   "outputs": [
    {
     "data": {
      "text/plain": [
       "<IPython.core.display.Markdown object>"
      ],
      "text/markdown": "Your Googlecar has a large touchscreen display that provides access to a variety of features, including navigation, entertainment, and climate control. To use the touchscreen display, simply touch the desired icon.  For example, you can touch the \"Navigation\" icon to get directions to your destination or touch the \"Music\" icon to play your favorite songs."
     },
     "execution_count": 19,
     "metadata": {},
     "output_type": "execute_result"
    }
   ],
   "execution_count": 19
  },
  {
   "metadata": {},
   "cell_type": "markdown",
   "source": "Now create a RAG system through the document found to enrich the pompt",
   "id": "c877a53e37769582"
  },
  {
   "metadata": {
    "ExecuteTime": {
     "end_time": "2024-11-12T20:14:59.174010Z",
     "start_time": "2024-11-12T20:14:59.166509Z"
    }
   },
   "cell_type": "code",
   "source": [
    "# Parse the strings\n",
    "passage_oneline = passage.replace(\"\\n\", \" \")\n",
    "query_oneline = query.replace(\"\\n\", \" \")\n",
    "\n",
    "# This prompt is where you can specify any guidance on tone, or what topics the model should stick to, or avoid.\n",
    "prompt = f\"\"\"You are a helpful and informative bot that answers questions using text from the reference passage included below. \n",
    "Be sure to respond in a complete sentence, being comprehensive, including all relevant background information. \n",
    "However, you are talking to a non-technical audience, so be sure to break down complicated concepts and \n",
    "strike a friendly and converstional tone. If the passage is irrelevant to the answer, you may ignore it.\n",
    "\n",
    "QUESTION: {query_oneline}\n",
    "PASSAGE: {passage_oneline}\n",
    "\"\"\"\n",
    "print(prompt)"
   ],
   "id": "b7b9b79393edde05",
   "outputs": [
    {
     "name": "stdout",
     "output_type": "stream",
     "text": [
      "You are a helpful and informative bot that answers questions using text from the reference passage included below. \n",
      "Be sure to respond in a complete sentence, being comprehensive, including all relevant background information. \n",
      "However, you are talking to a non-technical audience, so be sure to break down complicated concepts and \n",
      "strike a friendly and converstional tone. If the passage is irrelevant to the answer, you may ignore it.\n",
      "\n",
      "QUESTION: How do you use the touchscreen to play music?\n",
      "PASSAGE: Your Googlecar has a large touchscreen display that provides access to a variety of features, including navigation, entertainment, and climate control. To use the touchscreen display, simply touch the desired icon.  For example, you can touch the \"Navigation\" icon to get directions to your destination or touch the \"Music\" icon to play your favorite songs.\n",
      "\n"
     ]
    }
   ],
   "execution_count": 20
  },
  {
   "metadata": {
    "ExecuteTime": {
     "end_time": "2024-11-12T20:15:06.210278Z",
     "start_time": "2024-11-12T20:15:05.605090Z"
    }
   },
   "cell_type": "code",
   "source": [
    "# Prompt the LLM\n",
    "model = genai.GenerativeModel(\"gemini-1.5-flash-latest\")\n",
    "answer = model.generate_content(prompt)\n",
    "Markdown(answer.text)"
   ],
   "id": "cf742957a37229f8",
   "outputs": [
    {
     "data": {
      "text/plain": [
       "<IPython.core.display.Markdown object>"
      ],
      "text/markdown": "You can easily play music on your Googlecar by tapping the \"Music\" icon on the touchscreen display! \n"
     },
     "execution_count": 21,
     "metadata": {},
     "output_type": "execute_result"
    }
   ],
   "execution_count": 21
  },
  {
   "metadata": {},
   "cell_type": "code",
   "outputs": [],
   "execution_count": null,
   "source": "",
   "id": "3790f2482a3a9ecb"
  }
 ],
 "metadata": {
  "kernelspec": {
   "display_name": "nexusllm",
   "language": "python",
   "name": "nexusllm"
  },
  "language_info": {
   "codemirror_mode": {
    "name": "ipython",
    "version": 2
   },
   "file_extension": ".py",
   "mimetype": "text/x-python",
   "name": "python",
   "nbconvert_exporter": "python",
   "pygments_lexer": "ipython2",
   "version": "2.7.6"
  }
 },
 "nbformat": 4,
 "nbformat_minor": 5
}
