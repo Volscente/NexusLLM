{
 "cells": [
  {
   "metadata": {},
   "cell_type": "markdown",
   "source": [
    "# Embeddings Applications\n",
    "\n",
    "Explore possible applications of embeddings."
   ],
   "id": "a282a4cfad0634bd"
  },
  {
   "metadata": {},
   "cell_type": "markdown",
   "source": "# Setup Notebook",
   "id": "2665f610ad299c49"
  },
  {
   "metadata": {},
   "cell_type": "markdown",
   "source": "## Imports",
   "id": "25b4d58c5ac8b90f"
  },
  {
   "metadata": {
    "jupyter": {
     "is_executing": true
    }
   },
   "cell_type": "code",
   "source": [
    "# Import Standard Libraries\n",
    "from sentence_transformers.util import semantic_search"
   ],
   "id": "c52cf38d992f1bb8",
   "outputs": [],
   "execution_count": null
  },
  {
   "metadata": {},
   "cell_type": "markdown",
   "source": "## Data",
   "id": "902896f2cef4d69d"
  },
  {
   "metadata": {},
   "cell_type": "code",
   "source": [
    "# List of sentences\n",
    "sentences = [\n",
    "    \"Python is a great programming language for Machine Learning projects.\",\n",
    "    \"Java is a programming language mainly used for backend applications.\"\n",
    "    \"HTML and CSS are used to develop web applications.\",\n",
    "]"
   ],
   "id": "81c82961b7e7af88",
   "outputs": [],
   "execution_count": null
  },
  {
   "metadata": {},
   "cell_type": "markdown",
   "source": "# Semantic Search",
   "id": "9ba5e2d693f3018f"
  },
  {
   "metadata": {},
   "cell_type": "code",
   "outputs": [],
   "execution_count": null,
   "source": "",
   "id": "c20d9bfbd4cd0f05"
  }
 ],
 "metadata": {
  "kernelspec": {
   "display_name": "nexusllm",
   "language": "python",
   "name": "nexusllm"
  },
  "language_info": {
   "codemirror_mode": {
    "name": "ipython",
    "version": 2
   },
   "file_extension": ".py",
   "mimetype": "text/x-python",
   "name": "python",
   "nbconvert_exporter": "python",
   "pygments_lexer": "ipython2",
   "version": "2.7.6"
  }
 },
 "nbformat": 4,
 "nbformat_minor": 5
}
