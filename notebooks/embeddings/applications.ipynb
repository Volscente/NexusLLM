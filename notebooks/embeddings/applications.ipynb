{
 "cells": [
  {
   "metadata": {},
   "cell_type": "markdown",
   "source": [
    "# Embeddings Applications\n",
    "\n",
    "Explore possible applications of embeddings."
   ],
   "id": "a282a4cfad0634bd"
  },
  {
   "metadata": {},
   "cell_type": "markdown",
   "source": "# Setup Notebook",
   "id": "2665f610ad299c49"
  },
  {
   "metadata": {},
   "cell_type": "markdown",
   "source": "## Imports",
   "id": "25b4d58c5ac8b90f"
  },
  {
   "metadata": {
    "ExecuteTime": {
     "end_time": "2025-04-21T14:04:24.896647Z",
     "start_time": "2025-04-21T14:04:24.893912Z"
    }
   },
   "cell_type": "code",
   "source": [
    "# Import Standard Libraries\n",
    "from transformers import AutoTokenizer, AutoModel\n",
    "from sentence_transformers.util import semantic_search"
   ],
   "id": "c52cf38d992f1bb8",
   "outputs": [],
   "execution_count": 2
  },
  {
   "metadata": {},
   "cell_type": "markdown",
   "source": "## Data",
   "id": "902896f2cef4d69d"
  },
  {
   "metadata": {
    "ExecuteTime": {
     "end_time": "2025-04-21T14:04:24.911388Z",
     "start_time": "2025-04-21T14:04:24.909185Z"
    }
   },
   "cell_type": "code",
   "source": [
    "# List of sentences\n",
    "sentences = [\n",
    "    \"Python is a great programming language for Machine Learning projects.\",\n",
    "    \"Java is a programming language mainly used for backend applications.\",\n",
    "    \"HTML and CSS are used to develop web applications.\",\n",
    "]"
   ],
   "id": "81c82961b7e7af88",
   "outputs": [],
   "execution_count": 3
  },
  {
   "metadata": {},
   "cell_type": "markdown",
   "source": "# Semantic Search",
   "id": "9ba5e2d693f3018f"
  },
  {
   "metadata": {},
   "cell_type": "markdown",
   "source": "## Sentence Transformers",
   "id": "a81b787df00b1ab9"
  },
  {
   "metadata": {
    "ExecuteTime": {
     "end_time": "2025-04-21T14:04:25.234391Z",
     "start_time": "2025-04-21T14:04:24.921744Z"
    }
   },
   "cell_type": "code",
   "source": [
    "# Tokenise\n",
    "tokeniser = AutoTokenizer.from_pretrained(\"bert-base-uncased\")\n",
    "tokens = tokeniser(sentences, return_tensors=\"pt\", padding=True)"
   ],
   "id": "c20d9bfbd4cd0f05",
   "outputs": [],
   "execution_count": 4
  },
  {
   "metadata": {
    "ExecuteTime": {
     "end_time": "2025-04-21T14:04:25.673624Z",
     "start_time": "2025-04-21T14:04:25.250067Z"
    }
   },
   "cell_type": "code",
   "source": [
    "# Create embeddings\n",
    "transformer = AutoModel.from_pretrained(\"bert-base-uncased\")\n",
    "embeddings = transformer(**tokens).last_hidden_state"
   ],
   "id": "2b8332446f816d6f",
   "outputs": [],
   "execution_count": 5
  },
  {
   "metadata": {
    "ExecuteTime": {
     "end_time": "2025-04-21T14:04:25.718528Z",
     "start_time": "2025-04-21T14:04:25.682400Z"
    }
   },
   "cell_type": "code",
   "source": [
    "# Define the query\n",
    "query = \"What is Python language suited for?\"\n",
    "query_tokens = tokeniser(query,\n",
    "                         return_tensors=\"pt\",\n",
    "                         padding='max_length',\n",
    "                         max_length=len(tokens.input_ids[0]))\n",
    "query_embeddings = transformer(**query_tokens).last_hidden_state"
   ],
   "id": "ed2675873b6bf21d",
   "outputs": [],
   "execution_count": 6
  },
  {
   "metadata": {
    "ExecuteTime": {
     "end_time": "2025-04-21T14:20:36.283459Z",
     "start_time": "2025-04-21T14:20:36.280262Z"
    }
   },
   "cell_type": "code",
   "source": [
    "# Mean pooling the tokens' embeddings\n",
    "embeddings = embeddings.mean(dim=1)\n",
    "query_embeddings = query_embeddings.mean(dim=1)"
   ],
   "id": "62d1e7c38f052d11",
   "outputs": [],
   "execution_count": 11
  },
  {
   "metadata": {
    "ExecuteTime": {
     "end_time": "2025-04-21T14:20:38.245650Z",
     "start_time": "2025-04-21T14:20:38.241478Z"
    }
   },
   "cell_type": "code",
   "source": [
    "# Fine the most relevant sentences\n",
    "search_results = semantic_search(query_embeddings, embeddings, top_k=3)"
   ],
   "id": "6c0af457f24ff71b",
   "outputs": [],
   "execution_count": 12
  },
  {
   "metadata": {
    "ExecuteTime": {
     "end_time": "2025-04-21T14:20:55.958350Z",
     "start_time": "2025-04-21T14:20:55.954806Z"
    }
   },
   "cell_type": "code",
   "source": "search_results",
   "id": "66c6563d174c1025",
   "outputs": [
    {
     "data": {
      "text/plain": [
       "[[{'corpus_id': 0, 'score': 0.7585159540176392},\n",
       "  {'corpus_id': 1, 'score': 0.6306092739105225},\n",
       "  {'corpus_id': 2, 'score': 0.610126793384552}]]"
      ]
     },
     "execution_count": 13,
     "metadata": {},
     "output_type": "execute_result"
    }
   ],
   "execution_count": 13
  }
 ],
 "metadata": {
  "kernelspec": {
   "display_name": "nexusllm",
   "language": "python",
   "name": "nexusllm"
  },
  "language_info": {
   "codemirror_mode": {
    "name": "ipython",
    "version": 2
   },
   "file_extension": ".py",
   "mimetype": "text/x-python",
   "name": "python",
   "nbconvert_exporter": "python",
   "pygments_lexer": "ipython2",
   "version": "2.7.6"
  }
 },
 "nbformat": 4,
 "nbformat_minor": 5
}
