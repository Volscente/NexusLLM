{
 "cells": [
  {
   "metadata": {},
   "cell_type": "markdown",
   "source": [
    "# Embeddings - AutoTokenizer\n",
    "\n",
    "This notebook includes experimentation with the Embeddings through the usage of the AutoTokenizer."
   ],
   "id": "d376cbbbb1aa2535"
  },
  {
   "metadata": {},
   "cell_type": "markdown",
   "source": "# Setup Notebook",
   "id": "5d6cb2bf6c3b3634"
  },
  {
   "metadata": {},
   "cell_type": "markdown",
   "source": "## Imports",
   "id": "f2f0ab6053a9fe4a"
  },
  {
   "metadata": {
    "ExecuteTime": {
     "end_time": "2025-03-02T21:53:54.145674Z",
     "start_time": "2025-03-02T21:53:52.838485Z"
    }
   },
   "cell_type": "code",
   "source": [
    "# Import Standard Libraries\n",
    "import json\n",
    "from transformers import AutoTokenizer, AutoModel\n",
    "import torch"
   ],
   "id": "f89a5fd0b835de4e",
   "outputs": [],
   "execution_count": 2
  },
  {
   "metadata": {},
   "cell_type": "markdown",
   "source": "# Experimentations",
   "id": "5ceb9e5fa5117be4"
  },
  {
   "metadata": {},
   "cell_type": "markdown",
   "source": "## BERT",
   "id": "4e6a32d7fdd6deca"
  },
  {
   "metadata": {},
   "cell_type": "markdown",
   "source": "### Tokenization",
   "id": "171a69badf29040c"
  },
  {
   "metadata": {
    "ExecuteTime": {
     "end_time": "2025-03-02T21:53:58.037564Z",
     "start_time": "2025-03-02T21:53:54.153233Z"
    }
   },
   "cell_type": "code",
   "source": [
    "# Instance the Tokenizer\n",
    "tokenizer = AutoTokenizer.from_pretrained(\"bert-base-uncased\")"
   ],
   "id": "dff5546421045e3d",
   "outputs": [],
   "execution_count": 3
  },
  {
   "metadata": {},
   "cell_type": "markdown",
   "source": [
    "- The Tokenizer is used to converts raw text into tokens\n",
    "<br>\n",
    "\n",
    "**The Process:**\n",
    "1) The first step is WordPiece Tokenization (e.g., \"playing\" &rarr; [\"play\", \"##ing\"])\n",
    "2) The second step maps tokens into numerical IDs (based on BERT's vocabulary)\n",
    "3) Add special tokens (`[CLS]` and `[SEP]`)\n",
    "4) Pads and truncate text sequence to fix model's input\n",
    "5) Create attention mask"
   ],
   "id": "dac6706f4bb5e3bc"
  },
  {
   "metadata": {
    "ExecuteTime": {
     "end_time": "2025-03-02T21:53:58.059222Z",
     "start_time": "2025-03-02T21:53:58.045229Z"
    }
   },
   "cell_type": "code",
   "source": [
    "text = \"I love Data Science\"\n",
    "tokens = tokenizer(text, return_tensors=\"pt\")  # Convert to PyTorch tensors\n",
    "\n",
    "print('Tokens:' , tokens.input_ids)\n",
    "print('Attention Mask:', tokens.attention_mask)"
   ],
   "id": "e3b5989ea404bd24",
   "outputs": [
    {
     "name": "stdout",
     "output_type": "stream",
     "text": [
      "Tokens: tensor([[ 101, 1045, 2293, 2951, 2671,  102]])\n",
      "Attention Mask: tensor([[1, 1, 1, 1, 1, 1]])\n"
     ]
    }
   ],
   "execution_count": 4
  },
  {
   "metadata": {},
   "cell_type": "markdown",
   "source": [
    "- [101] = [CLS] token (start of sentence)\n",
    "- 1045 = \"I\", 2293 = \"love\", 2951 = \"data\", 2671 = \"science\"\n",
    "- [102] = [SEP] token (end of sentence)"
   ],
   "id": "6ebc4c6f77f8369a"
  },
  {
   "metadata": {},
   "cell_type": "markdown",
   "source": [
    "### Embeddings\n",
    "\n",
    "The algorithm process an input tokenised sequence and compressed them into a lower dimensional representation called \"Embeddings\".\n",
    "\n"
   ],
   "id": "2d704a22c9a1d21d"
  },
  {
   "metadata": {
    "ExecuteTime": {
     "end_time": "2025-03-02T21:54:06.785495Z",
     "start_time": "2025-03-02T21:53:58.120373Z"
    }
   },
   "cell_type": "code",
   "source": [
    "# Instance model\n",
    "model = AutoModel.from_pretrained(\"bert-base-uncased\")"
   ],
   "id": "77e5bf633f5d29dc",
   "outputs": [
    {
     "name": "stderr",
     "output_type": "stream",
     "text": [
      "huggingface/tokenizers: The current process just got forked, after parallelism has already been used. Disabling parallelism to avoid deadlocks...\n",
      "To disable this warning, you can either:\n",
      "\t- Avoid using `tokenizers` before the fork if possible\n",
      "\t- Explicitly set the environment variable TOKENIZERS_PARALLELISM=(true | false)\n"
     ]
    },
    {
     "data": {
      "text/plain": [
       "model.safetensors:   0%|          | 0.00/440M [00:00<?, ?B/s]"
      ],
      "application/vnd.jupyter.widget-view+json": {
       "version_major": 2,
       "version_minor": 0,
       "model_id": "48c7ce327af0463bb69141760623c686"
      }
     },
     "metadata": {},
     "output_type": "display_data"
    }
   ],
   "execution_count": 5
  },
  {
   "metadata": {
    "ExecuteTime": {
     "end_time": "2025-03-02T21:54:19.926183Z",
     "start_time": "2025-03-02T21:54:19.723115Z"
    }
   },
   "cell_type": "code",
   "source": [
    "# Pass tokenized input into the model\n",
    "outputs = model(**tokens)\n",
    "\n",
    "# Extract last hidden state (word embeddings for each token)\n",
    "embeddings = outputs.last_hidden_state\n",
    "\n",
    "print(embeddings.shape)  # (batch_size, sequence_length, hidden_size)"
   ],
   "id": "420f52354aab79e6",
   "outputs": [
    {
     "name": "stdout",
     "output_type": "stream",
     "text": [
      "torch.Size([1, 6, 768])\n"
     ]
    }
   ],
   "execution_count": 6
  },
  {
   "metadata": {
    "ExecuteTime": {
     "end_time": "2025-03-02T21:54:53.890911Z",
     "start_time": "2025-03-02T21:54:53.887789Z"
    }
   },
   "cell_type": "code",
   "source": "sentence_embedding = embeddings[:, 0, :].detach().numpy()",
   "id": "dff279080ce166fa",
   "outputs": [],
   "execution_count": 7
  },
  {
   "metadata": {},
   "cell_type": "code",
   "outputs": [],
   "execution_count": null,
   "source": "",
   "id": "d61bd04c9065375e"
  }
 ],
 "metadata": {
  "kernelspec": {
   "display_name": "Python 3",
   "language": "python",
   "name": "python3"
  },
  "language_info": {
   "codemirror_mode": {
    "name": "ipython",
    "version": 2
   },
   "file_extension": ".py",
   "mimetype": "text/x-python",
   "name": "python",
   "nbconvert_exporter": "python",
   "pygments_lexer": "ipython2",
   "version": "2.7.6"
  }
 },
 "nbformat": 4,
 "nbformat_minor": 5
}
