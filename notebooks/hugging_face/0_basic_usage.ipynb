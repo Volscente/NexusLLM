{
 "cells": [
  {
   "metadata": {},
   "cell_type": "markdown",
   "source": [
    "# HuggingFace - Basic Usage\n",
    "\n",
    "The notebook includes basic usage of the HuggingFace library, including simple use cases and applications of it."
   ],
   "id": "64a83a6bde4da69a"
  },
  {
   "metadata": {},
   "cell_type": "markdown",
   "source": "# Notebook Setup",
   "id": "6d3fc6d0979233fa"
  },
  {
   "metadata": {},
   "cell_type": "markdown",
   "source": "## Imports",
   "id": "1aba36b61aceef96"
  },
  {
   "metadata": {
    "ExecuteTime": {
     "end_time": "2025-04-16T13:18:40.010126Z",
     "start_time": "2025-04-16T13:18:31.008754Z"
    }
   },
   "cell_type": "code",
   "source": [
    "# Import Standard Libraries\n",
    "from transformers import pipeline\n",
    "from transformers.utils.import_utils import candidates"
   ],
   "id": "17442cbf7e847d05",
   "outputs": [],
   "execution_count": 1
  },
  {
   "metadata": {},
   "cell_type": "markdown",
   "source": "# Usage",
   "id": "c79c740a1b907aef"
  },
  {
   "metadata": {},
   "cell_type": "markdown",
   "source": "## Pipeline",
   "id": "c10bfe8fe8baca25"
  },
  {
   "metadata": {},
   "cell_type": "markdown",
   "source": "### Sentiment Analysis",
   "id": "390000be8f29d2a2"
  },
  {
   "metadata": {
    "ExecuteTime": {
     "end_time": "2025-04-16T13:19:59.907364Z",
     "start_time": "2025-04-16T13:19:59.521666Z"
    }
   },
   "cell_type": "code",
   "source": [
    "# Instance the pipeline\n",
    "sentiment_classifier = pipeline(\"sentiment-analysis\")\n",
    "\n",
    "# Inference\n",
    "sentiment_result = sentiment_classifier(\"I've been waiting for a HuggingFace course for long time! I'm so happy to start it!\")\n",
    "\n",
    "print(sentiment_result)"
   ],
   "id": "e273f8ee20faf3b1",
   "outputs": [
    {
     "name": "stderr",
     "output_type": "stream",
     "text": [
      "No model was supplied, defaulted to distilbert/distilbert-base-uncased-finetuned-sst-2-english and revision 714eb0f (https://huggingface.co/distilbert/distilbert-base-uncased-finetuned-sst-2-english).\n",
      "Using a pipeline without specifying a model name and revision in production is not recommended.\n",
      "Device set to use mps:0\n"
     ]
    },
    {
     "name": "stdout",
     "output_type": "stream",
     "text": [
      "[{'label': 'POSITIVE', 'score': 0.9998413324356079}]\n"
     ]
    }
   ],
   "execution_count": 3
  },
  {
   "metadata": {},
   "cell_type": "markdown",
   "source": "### Text Generation",
   "id": "2845032b3bba88ba"
  },
  {
   "metadata": {
    "ExecuteTime": {
     "end_time": "2025-04-16T13:22:47.307330Z",
     "start_time": "2025-04-16T13:22:31.276909Z"
    }
   },
   "cell_type": "code",
   "source": [
    "# Instance the pipeline\n",
    "text_generator = pipeline(\"text-generation\", model=\"distilgpt2\")\n",
    "\n",
    "# Inference\n",
    "generation_result = text_generator(\n",
    "    \"In this course we will teach you how to\",\n",
    "    max_length=30,\n",
    "    num_return_sequences=2) # Two possible sequences to choose from\n",
    "\n",
    "print(generation_result)"
   ],
   "id": "68f3fedaff2a088b",
   "outputs": [
    {
     "data": {
      "text/plain": [
       "config.json:   0%|          | 0.00/762 [00:00<?, ?B/s]"
      ],
      "application/vnd.jupyter.widget-view+json": {
       "version_major": 2,
       "version_minor": 0,
       "model_id": "8242acf551be440eafc4b4ce23b11a67"
      }
     },
     "metadata": {},
     "output_type": "display_data"
    },
    {
     "data": {
      "text/plain": [
       "model.safetensors:   0%|          | 0.00/353M [00:00<?, ?B/s]"
      ],
      "application/vnd.jupyter.widget-view+json": {
       "version_major": 2,
       "version_minor": 0,
       "model_id": "860cc1375bdf410f8b85dcd0c0a23ffd"
      }
     },
     "metadata": {},
     "output_type": "display_data"
    },
    {
     "data": {
      "text/plain": [
       "generation_config.json:   0%|          | 0.00/124 [00:00<?, ?B/s]"
      ],
      "application/vnd.jupyter.widget-view+json": {
       "version_major": 2,
       "version_minor": 0,
       "model_id": "aae7eaa3d6b74be3ad647b1ceaa7f946"
      }
     },
     "metadata": {},
     "output_type": "display_data"
    },
    {
     "data": {
      "text/plain": [
       "tokenizer_config.json:   0%|          | 0.00/26.0 [00:00<?, ?B/s]"
      ],
      "application/vnd.jupyter.widget-view+json": {
       "version_major": 2,
       "version_minor": 0,
       "model_id": "27c88ab7b0de42feab38b387f3efeda0"
      }
     },
     "metadata": {},
     "output_type": "display_data"
    },
    {
     "data": {
      "text/plain": [
       "vocab.json:   0%|          | 0.00/1.04M [00:00<?, ?B/s]"
      ],
      "application/vnd.jupyter.widget-view+json": {
       "version_major": 2,
       "version_minor": 0,
       "model_id": "e6873579c6544ef48949ba0967ac8746"
      }
     },
     "metadata": {},
     "output_type": "display_data"
    },
    {
     "data": {
      "text/plain": [
       "merges.txt:   0%|          | 0.00/456k [00:00<?, ?B/s]"
      ],
      "application/vnd.jupyter.widget-view+json": {
       "version_major": 2,
       "version_minor": 0,
       "model_id": "1a08c8b78ec943498727c1572470e86a"
      }
     },
     "metadata": {},
     "output_type": "display_data"
    },
    {
     "data": {
      "text/plain": [
       "tokenizer.json:   0%|          | 0.00/1.36M [00:00<?, ?B/s]"
      ],
      "application/vnd.jupyter.widget-view+json": {
       "version_major": 2,
       "version_minor": 0,
       "model_id": "79f6f781a71f425e99678440844f8097"
      }
     },
     "metadata": {},
     "output_type": "display_data"
    },
    {
     "name": "stderr",
     "output_type": "stream",
     "text": [
      "Device set to use mps:0\n",
      "Truncation was not explicitly activated but `max_length` is provided a specific value, please use `truncation=True` to explicitly truncate examples to max length. Defaulting to 'longest_first' truncation strategy. If you encode pairs of sequences (GLUE-style) with the tokenizer you can select this strategy more precisely by providing a specific strategy to `truncation`.\n",
      "Setting `pad_token_id` to `eos_token_id`:50256 for open-end generation.\n"
     ]
    },
    {
     "name": "stdout",
     "output_type": "stream",
     "text": [
      "[{'generated_text': 'In this course we will teach you how to create a new language and to build a new language.'}, {'generated_text': 'In this course we will teach you how to solve and adapt to social change by helping you learn how to use the tools that bring you ideas in one'}]\n"
     ]
    }
   ],
   "execution_count": 4
  },
  {
   "metadata": {},
   "cell_type": "markdown",
   "source": "### Text Classification",
   "id": "ad9ed79d528219b1"
  },
  {
   "metadata": {
    "ExecuteTime": {
     "end_time": "2025-04-16T13:25:07.615605Z",
     "start_time": "2025-04-16T13:24:34.494248Z"
    }
   },
   "cell_type": "code",
   "source": [
    "# Instance the pipeline\n",
    "text_classifier = pipeline(\"zero-shot-classification\")\n",
    "\n",
    "# Inference\n",
    "text_classification_result = text_classifier(\n",
    "    \"This course is about Python list comprehension\",\n",
    "    candidate_labels=[\"education\", \"politics\", \"business\"])\n",
    "\n",
    "print(text_classification_result)"
   ],
   "id": "ff7b41c7c9624563",
   "outputs": [
    {
     "name": "stderr",
     "output_type": "stream",
     "text": [
      "No model was supplied, defaulted to facebook/bart-large-mnli and revision d7645e1 (https://huggingface.co/facebook/bart-large-mnli).\n",
      "Using a pipeline without specifying a model name and revision in production is not recommended.\n"
     ]
    },
    {
     "data": {
      "text/plain": [
       "config.json:   0%|          | 0.00/1.15k [00:00<?, ?B/s]"
      ],
      "application/vnd.jupyter.widget-view+json": {
       "version_major": 2,
       "version_minor": 0,
       "model_id": "3a75975133fb42a5bd55ed7965bcb6a8"
      }
     },
     "metadata": {},
     "output_type": "display_data"
    },
    {
     "data": {
      "text/plain": [
       "model.safetensors:   0%|          | 0.00/1.63G [00:00<?, ?B/s]"
      ],
      "application/vnd.jupyter.widget-view+json": {
       "version_major": 2,
       "version_minor": 0,
       "model_id": "4fb975c10ea341c4ba6a11f385cbd56d"
      }
     },
     "metadata": {},
     "output_type": "display_data"
    },
    {
     "data": {
      "text/plain": [
       "tokenizer_config.json:   0%|          | 0.00/26.0 [00:00<?, ?B/s]"
      ],
      "application/vnd.jupyter.widget-view+json": {
       "version_major": 2,
       "version_minor": 0,
       "model_id": "c5106d5024a5409088d8c7aa1d271afd"
      }
     },
     "metadata": {},
     "output_type": "display_data"
    },
    {
     "data": {
      "text/plain": [
       "vocab.json:   0%|          | 0.00/899k [00:00<?, ?B/s]"
      ],
      "application/vnd.jupyter.widget-view+json": {
       "version_major": 2,
       "version_minor": 0,
       "model_id": "c36fd84630054410b322bde7f825ad13"
      }
     },
     "metadata": {},
     "output_type": "display_data"
    },
    {
     "data": {
      "text/plain": [
       "merges.txt:   0%|          | 0.00/456k [00:00<?, ?B/s]"
      ],
      "application/vnd.jupyter.widget-view+json": {
       "version_major": 2,
       "version_minor": 0,
       "model_id": "3268bc98ebdd4c419de11aa8cf9595e4"
      }
     },
     "metadata": {},
     "output_type": "display_data"
    },
    {
     "data": {
      "text/plain": [
       "tokenizer.json:   0%|          | 0.00/1.36M [00:00<?, ?B/s]"
      ],
      "application/vnd.jupyter.widget-view+json": {
       "version_major": 2,
       "version_minor": 0,
       "model_id": "c3c2e5e1dccd46ad86f5dc1704d8a3aa"
      }
     },
     "metadata": {},
     "output_type": "display_data"
    },
    {
     "name": "stderr",
     "output_type": "stream",
     "text": [
      "Device set to use mps:0\n"
     ]
    },
    {
     "name": "stdout",
     "output_type": "stream",
     "text": [
      "{'sequence': 'This course is about Python list comprehension', 'labels': ['education', 'business', 'politics'], 'scores': [0.9043459892272949, 0.06733746081590652, 0.028316549956798553]}\n"
     ]
    }
   ],
   "execution_count": 5
  },
  {
   "metadata": {},
   "cell_type": "code",
   "outputs": [],
   "execution_count": null,
   "source": "",
   "id": "4eccb32b1314ac25"
  }
 ],
 "metadata": {
  "kernelspec": {
   "display_name": "Python 3",
   "language": "python",
   "name": "python3"
  },
  "language_info": {
   "codemirror_mode": {
    "name": "ipython",
    "version": 2
   },
   "file_extension": ".py",
   "mimetype": "text/x-python",
   "name": "python",
   "nbconvert_exporter": "python",
   "pygments_lexer": "ipython2",
   "version": "2.7.6"
  }
 },
 "nbformat": 4,
 "nbformat_minor": 5
}
