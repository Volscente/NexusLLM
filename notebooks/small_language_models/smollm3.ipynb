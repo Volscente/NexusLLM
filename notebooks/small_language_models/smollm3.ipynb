{
 "cells": [
  {
   "metadata": {},
   "cell_type": "markdown",
   "source": [
    "# SmolLM3\n",
    "\n",
    "Experiment with SmolLM3, a 3B model trained on 11T Tokens and SoTA."
   ],
   "id": "4be94d9030c68aa3"
  },
  {
   "metadata": {},
   "cell_type": "markdown",
   "source": "# Notebook Setup",
   "id": "1c6aab4277e32477"
  },
  {
   "metadata": {},
   "cell_type": "markdown",
   "source": "## Imports",
   "id": "bf538a231b59510f"
  },
  {
   "cell_type": "code",
   "id": "initial_id",
   "metadata": {
    "collapsed": true,
    "ExecuteTime": {
     "end_time": "2025-07-29T18:36:02.106113Z",
     "start_time": "2025-07-29T18:36:02.094217Z"
    }
   },
   "source": [
    "# Import Standard Libraries\n",
    "import os\n",
    "from dotenv import load_dotenv\n",
    "from dynaconf import Dynaconf"
   ],
   "outputs": [],
   "execution_count": 3
  },
  {
   "metadata": {},
   "cell_type": "markdown",
   "source": "## Define Configurations",
   "id": "35e00435f468e572"
  },
  {
   "metadata": {
    "ExecuteTime": {
     "end_time": "2025-07-29T18:36:21.830881Z",
     "start_time": "2025-07-29T18:36:21.825792Z"
    }
   },
   "cell_type": "code",
   "source": [
    "# Read the .env file\n",
    "load_dotenv()\n",
    "\n",
    "# Retrieve the root path\n",
    "root_path = os.getenv('NEXUSLLM_ROOT_PATH')\n",
    "\n",
    "print(f\"🌳 Root path: {root_path}\")"
   ],
   "id": "e39ce16192b9e1d5",
   "outputs": [
    {
     "name": "stdout",
     "output_type": "stream",
     "text": [
      "🌳 Root path: /Users/simone.porreca/Projects/NexusLLM\n"
     ]
    }
   ],
   "execution_count": 4
  },
  {
   "metadata": {},
   "cell_type": "code",
   "outputs": [],
   "execution_count": null,
   "source": "",
   "id": "5a00323443b6078"
  }
 ],
 "metadata": {
  "kernelspec": {
   "display_name": "Python 3",
   "language": "python",
   "name": "python3"
  },
  "language_info": {
   "codemirror_mode": {
    "name": "ipython",
    "version": 2
   },
   "file_extension": ".py",
   "mimetype": "text/x-python",
   "name": "python",
   "nbconvert_exporter": "python",
   "pygments_lexer": "ipython2",
   "version": "2.7.6"
  }
 },
 "nbformat": 4,
 "nbformat_minor": 5
}
