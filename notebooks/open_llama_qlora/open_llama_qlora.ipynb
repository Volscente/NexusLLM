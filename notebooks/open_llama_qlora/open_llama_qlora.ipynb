{
 "cells": [
  {
   "cell_type": "markdown",
   "id": "3a10dc52-6eab-46fa-9695-1e2180df08a8",
   "metadata": {},
   "source": [
    "# Instruction-Tuning Open LLaMa through QLoRA on Dolly 15k Dataset"
   ]
  },
  {
   "cell_type": "code",
   "execution_count": null,
   "id": "43aefa5f-5f2f-48c0-b71e-d08abf713a3a",
   "metadata": {},
   "outputs": [],
   "source": []
  }
 ],
 "metadata": {
  "kernelspec": {
   "display_name": "Python 3 (ipykernel)",
   "language": "python",
   "name": "python3"
  },
  "language_info": {
   "codemirror_mode": {
    "name": "ipython",
    "version": 3
   },
   "file_extension": ".py",
   "mimetype": "text/x-python",
   "name": "python",
   "nbconvert_exporter": "python",
   "pygments_lexer": "ipython3",
   "version": "3.10.5"
  }
 },
 "nbformat": 4,
 "nbformat_minor": 5
}
