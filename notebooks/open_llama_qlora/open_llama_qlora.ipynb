{
 "cells": [
  {
   "cell_type": "markdown",
   "id": "3a10dc52-6eab-46fa-9695-1e2180df08a8",
   "metadata": {},
   "source": [
    "# Instruction-Tuning Open LLaMa through QLoRA on Dolly 15k Dataset\n",
    "\n",
    "**Resources:**\n",
    "- [Transformer Reinforcement Learning](https://github.com/lvwerra/trl)\n",
    "- [Bitsandbytes](https://github.com/TimDettmers/bitsandbytes)\n",
    "- [HuggingFace](https://github.com/huggingface)\n",
    "- [Dolly 15k](https://huggingface.co/datasets/databricks/databricks-dolly-15k)\n",
    "- [Source Repository](https://github.com/FourthBrain/Building-with-Instruction-Tuned-LLMs-A-Step-by-Step-Guide)"
   ]
  },
  {
   "cell_type": "code",
   "execution_count": 17,
   "id": "43aefa5f-5f2f-48c0-b71e-d08abf713a3a",
   "metadata": {
    "tags": []
   },
   "outputs": [],
   "source": [
    "# Import Standard Libraries\n",
    "import torch\n",
    "import transformers\n",
    "\n",
    "from peft import LoraConfig\n",
    "from transformers import AutoModelForCausalLM, BitsAndBytesConfig, AutoTokenizer\n",
    "from datasets import load_dataset\n",
    "\n",
    "import matplotlib.pyplot as plt\n",
    "import seaborn as sns"
   ]
  },
  {
   "cell_type": "code",
   "execution_count": 2,
   "id": "4a0668e4-86e0-435f-968f-76644e3417fe",
   "metadata": {
    "tags": []
   },
   "outputs": [],
   "source": [
    "# Define Seaborn theme parameters\n",
    "theme_parameters =  {\n",
    "    'axes.spines.right': False,\n",
    "    'axes.spines.top': False,\n",
    "    'grid.alpha':0.3,\n",
    "    'figure.figsize': (16, 6),\n",
    "    'font.family': 'Andale Mono',\n",
    "    'axes.titlesize': 24,\n",
    "    'figure.facecolor': '#E5E8E8',\n",
    "    'axes.facecolor': '#E5E8E8'\n",
    "}\n",
    "\n",
    "# Set the theme\n",
    "sns.set_theme(style='whitegrid',\n",
    "              palette=sns.color_palette('deep'), \n",
    "              rc=theme_parameters)"
   ]
  },
  {
   "cell_type": "markdown",
   "id": "5d530be4-12ea-4190-8386-5c34ddf10867",
   "metadata": {},
   "source": [
    "# Read Data"
   ]
  },
  {
   "cell_type": "code",
   "execution_count": 3,
   "id": "7c8600f6-959f-4f68-a5ff-57668d218ab9",
   "metadata": {
    "tags": []
   },
   "outputs": [
    {
     "name": "stderr",
     "output_type": "stream",
     "text": [
      "Found cached dataset json (/Users/s.porreca/.cache/huggingface/datasets/databricks___json/databricks--databricks-dolly-15k-6e0f9ea7eaa0ee08/0.0.0/e347ab1c932092252e717ff3f949105a4dd28b27e842dd53157d2f72e276c2e4)\n"
     ]
    },
    {
     "data": {
      "application/vnd.jupyter.widget-view+json": {
       "model_id": "29dcebf8c5b442ad8d8dedc7c006cebb",
       "version_major": 2,
       "version_minor": 0
      },
      "text/plain": [
       "  0%|          | 0/1 [00:00<?, ?it/s]"
      ]
     },
     "metadata": {},
     "output_type": "display_data"
    }
   ],
   "source": [
    "# Read data from HuggingFace Dolly 15k\n",
    "data = load_dataset('databricks/databricks-dolly-15k')"
   ]
  },
  {
   "cell_type": "code",
   "execution_count": 4,
   "id": "5487454a-7aed-45b4-8a11-0562a0ce2e50",
   "metadata": {
    "tags": []
   },
   "outputs": [
    {
     "data": {
      "text/plain": [
       "DatasetDict({\n",
       "    train: Dataset({\n",
       "        features: ['instruction', 'context', 'response', 'category'],\n",
       "        num_rows: 15011\n",
       "    })\n",
       "})"
      ]
     },
     "execution_count": 4,
     "metadata": {},
     "output_type": "execute_result"
    }
   ],
   "source": [
    "data"
   ]
  },
  {
   "cell_type": "markdown",
   "id": "76109b91-e570-4040-ac2d-8f66c6adcf2c",
   "metadata": {},
   "source": [
    "Each row is composed by:\n",
    "- Instruction\n",
    "- Context (optional)\n",
    "- Response\n",
    "- Category (e.g. Creative Writing, Close QA, etc.)"
   ]
  },
  {
   "cell_type": "markdown",
   "id": "f6718438-cf36-4010-899e-cdcbb425dad8",
   "metadata": {},
   "source": [
    "# Exploratory Data Analysis (EDA)"
   ]
  },
  {
   "cell_type": "markdown",
   "id": "0a3fd800-42e4-4d8a-a722-8eaa85e4991a",
   "metadata": {},
   "source": [
    "## Inspect Sequence Length"
   ]
  },
  {
   "cell_type": "code",
   "execution_count": 5,
   "id": "f70c8b5b-0ed1-4595-a073-f34636356212",
   "metadata": {
    "tags": []
   },
   "outputs": [],
   "source": [
    "# Define the max length for each sequence\n",
    "sequence_length_threshold = 2200"
   ]
  },
  {
   "cell_type": "code",
   "execution_count": 6,
   "id": "d4ba5633-c0ef-4e94-a6d8-0ad12e211414",
   "metadata": {
    "tags": []
   },
   "outputs": [],
   "source": [
    "# Initialise empty variables for length\n",
    "sequence_lengths, index_too_long_sequences = [], []\n",
    "\n",
    "# Retrieve the length of each sequence in the dataset\n",
    "for index, sequence in enumerate(data['train']):\n",
    "    \n",
    "    # Compute length\n",
    "    sequence_length = len(sequence['instruction']) + len(sequence['context']) + len(sequence['category'])\n",
    "    \n",
    "    # Append the length\n",
    "    sequence_lengths.append(sequence_length)\n",
    "    \n",
    "    # Add sequence to the list of too long ones\n",
    "    if sequence_length > sequence_length_threshold:\n",
    "        \n",
    "        index_too_long_sequences.append(index)"
   ]
  },
  {
   "cell_type": "markdown",
   "id": "f66fecb4-4e8d-4150-b23f-413fffe7d0cc",
   "metadata": {},
   "source": [
    "## Sequence Length Distribution"
   ]
  },
  {
   "cell_type": "code",
   "execution_count": 7,
   "id": "c876384c-7232-4e50-92ad-65bc031fa11a",
   "metadata": {
    "tags": []
   },
   "outputs": [
    {
     "data": {
      "image/png": "[encoded data removed]",
      "text/plain": [
       "<Figure size 900x600 with 1 Axes>"
      ]
     },
     "metadata": {},
     "output_type": "display_data"
    }
   ],
   "source": [
    "# Define figure and axes\n",
    "figure, ax = plt.subplots(1, 1, figsize=(9, 6))\n",
    "\n",
    "# Plot histogram\n",
    "sns.histplot(data=sequence_lengths, bins=30)\n",
    "\n",
    "# Set figure Title\n",
    "figure.suptitle('Sequence Length Distribution',\n",
    "                fontweight='bold',\n",
    "                fontsize=24)\n",
    "\n",
    "plt.tight_layout()"
   ]
  },
  {
   "cell_type": "markdown",
   "id": "dab890e2-c7e6-40a6-9fe3-6f6b311da046",
   "metadata": {},
   "source": [
    "Most of the sequence have a short length."
   ]
  },
  {
   "cell_type": "markdown",
   "id": "c046f91b-14bf-473e-aa4f-834354ebee5d",
   "metadata": {},
   "source": [
    "# Data Preparation"
   ]
  },
  {
   "cell_type": "markdown",
   "id": "9c97fafa-1b42-4043-bc91-a654cf5dbcd6",
   "metadata": {},
   "source": [
    "## Filter Data based on Sequence Length"
   ]
  },
  {
   "cell_type": "code",
   "execution_count": 8,
   "id": "8ef50045-ca28-4fe1-a9fe-2a815cfd0fb8",
   "metadata": {
    "tags": []
   },
   "outputs": [
    {
     "name": "stderr",
     "output_type": "stream",
     "text": [
      "Loading cached processed dataset at /Users/s.porreca/.cache/huggingface/datasets/databricks___json/databricks--databricks-dolly-15k-6e0f9ea7eaa0ee08/0.0.0/e347ab1c932092252e717ff3f949105a4dd28b27e842dd53157d2f72e276c2e4/cache-89ad7f2ae71bc24d.arrow\n"
     ]
    }
   ],
   "source": [
    "# Filter the data that are not too long\n",
    "filtered_data = data.filter(lambda row, index: index not in index_too_long_sequences, with_indices=True)"
   ]
  },
  {
   "cell_type": "code",
   "execution_count": 9,
   "id": "14e17a27-e677-4a61-a027-36f5bb475f7a",
   "metadata": {
    "tags": []
   },
   "outputs": [],
   "source": [
    "# Initialise empty list for sequence lengths\n",
    "sequence_lengths = []\n",
    "\n",
    "# Retrieve the length of each sequence in the filtered dataset\n",
    "for index, sequence in enumerate(filtered_data['train']):\n",
    "    \n",
    "    # Compute length\n",
    "    sequence_length = len(sequence['instruction']) + len(sequence['context']) + len(sequence['category'])\n",
    "    \n",
    "    # Append the length\n",
    "    sequence_lengths.append(sequence_length)"
   ]
  },
  {
   "cell_type": "code",
   "execution_count": 10,
   "id": "9306c686-d5a6-462f-b890-6afa881692de",
   "metadata": {
    "tags": []
   },
   "outputs": [
    {
     "data": {
      "image/png": "[encoded data removed]",
      "text/plain": [
       "<Figure size 900x600 with 1 Axes>"
      ]
     },
     "metadata": {},
     "output_type": "display_data"
    }
   ],
   "source": [
    "# Define figure and axes\n",
    "figure, ax = plt.subplots(1, 1, figsize=(9, 6))\n",
    "\n",
    "# Plot histogram\n",
    "sns.histplot(data=sequence_lengths, bins=50)\n",
    "\n",
    "# Set figure Title\n",
    "figure.suptitle('Sequence Length Distribution',\n",
    "                fontweight='bold',\n",
    "                fontsize=24)\n",
    "\n",
    "plt.tight_layout()"
   ]
  },
  {
   "cell_type": "markdown",
   "id": "b9077e41-4fed-424f-8055-fd8ae5409281",
   "metadata": {},
   "source": [
    "## Train & Test Split"
   ]
  },
  {
   "cell_type": "code",
   "execution_count": 11,
   "id": "659c855b-e077-4e39-915a-3c403773a9d0",
   "metadata": {
    "tags": []
   },
   "outputs": [],
   "source": [
    "# Split data into train and test\n",
    "prepared_data = filtered_data['train'].train_test_split(test_size=0.1)"
   ]
  },
  {
   "cell_type": "markdown",
   "id": "3cf067f6-14a1-43bd-8b0e-81a85b206fa6",
   "metadata": {},
   "source": [
    "## Format Samples"
   ]
  },
  {
   "cell_type": "code",
   "execution_count": 12,
   "id": "2aa8ce56-5e65-464b-bdfe-a5a9c2cb73c3",
   "metadata": {},
   "outputs": [],
   "source": [
    "def format_sample(sample):\n",
    "    \"\"\"\n",
    "    Format the sample in a proper string for the training phase\n",
    "    \"\"\"\n",
    "    \n",
    "    # Initialise empty prompt\n",
    "    prompt = []\n",
    "    \n",
    "    # Switch for samples with no context\n",
    "    if sample['context'] == '':\n",
    "        prompt.append('Below is an instruction that describes a task.')\n",
    "        prompt.append('Write a response that appropriately completes the request.\\n')\n",
    "        prompt.append('### Instruction:')\n",
    "        prompt.append(f\"{sample['instruction']}\\n\")\n",
    "        prompt.append('### Response:')\n",
    "        prompt.append(f\"{sample['response']}\")\n",
    "    else:\n",
    "        prompt.append('Below is an instruction that describes a task, paired with an input that provides further context.')\n",
    "        prompt.append('Write a response that appropriately completes the request.\\n')\n",
    "        prompt.append('### Instruction:')\n",
    "        prompt.append(f\"{sample['instruction']}\\n\")\n",
    "        prompt.append('### Context:')\n",
    "        prompt.append(f\"{sample['context']}\\n\")\n",
    "        prompt.append('### Response:')\n",
    "        prompt.append(f\"{sample['response']}\")\n",
    "        \n",
    "    return {'text': '\\n'.join(prompt)}"
   ]
  },
  {
   "cell_type": "code",
   "execution_count": 13,
   "id": "72d3a9be-7e02-4183-8626-2c4793ebf0a8",
   "metadata": {
    "tags": []
   },
   "outputs": [
    {
     "name": "stdout",
     "output_type": "stream",
     "text": [
      "Below is an instruction that describes a task.\n",
      "Write a response that appropriately completes the request.\n",
      "\n",
      "### Instruction:\n",
      "What NFL team was moved out of Ohio and became the Baltimore Ravens in 1996?\n",
      "\n",
      "### Response:\n",
      "The owner of the Cleveland Browns, Art Modell, decided to relocate the team from Cleveland to Baltimore. However, a settlement decided that the titles, history, and colors would stay in Cleveland and the personnel and team were moved to Baltimore. Cleveland was without a football team from 1996 until replacements were established in 1999.\n"
     ]
    }
   ],
   "source": [
    "print(format_sample(prepared_data['train'][0])['text'])"
   ]
  },
  {
   "cell_type": "code",
   "execution_count": 14,
   "id": "d12490a5-2e14-488a-9414-cc8bb0f2d0d1",
   "metadata": {},
   "outputs": [
    {
     "data": {
      "application/vnd.jupyter.widget-view+json": {
       "model_id": "",
       "version_major": 2,
       "version_minor": 0
      },
      "text/plain": [
       "Map:   0%|          | 0/13045 [00:00<?, ? examples/s]"
      ]
     },
     "metadata": {},
     "output_type": "display_data"
    },
    {
     "data": {
      "application/vnd.jupyter.widget-view+json": {
       "model_id": "",
       "version_major": 2,
       "version_minor": 0
      },
      "text/plain": [
       "Map:   0%|          | 0/1450 [00:00<?, ? examples/s]"
      ]
     },
     "metadata": {},
     "output_type": "display_data"
    }
   ],
   "source": [
    "# Format data\n",
    "formatted_data = prepared_data.map(format_sample)"
   ]
  },
  {
   "cell_type": "markdown",
   "id": "5da5aae0-571c-4d74-b5c0-f7b5394df808",
   "metadata": {},
   "source": [
    "# Load Model"
   ]
  },
  {
   "cell_type": "code",
   "execution_count": null,
   "id": "fd3a5945-7801-484d-a043-24e031096d78",
   "metadata": {},
   "outputs": [],
   "source": [
    "# Define the model checkpoint\n",
    "model_id = \"openlm-research/open_llama_7b_700bt_preview\""
   ]
  }
 ],
 "metadata": {
  "kernelspec": {
   "display_name": "Python 3 (ipykernel)",
   "language": "python",
   "name": "python3"
  },
  "language_info": {
   "codemirror_mode": {
    "name": "ipython",
    "version": 3
   },
   "file_extension": ".py",
   "mimetype": "text/x-python",
   "name": "python",
   "nbconvert_exporter": "python",
   "pygments_lexer": "ipython3",
   "version": "3.10.5"
  }
 },
 "nbformat": 4,
 "nbformat_minor": 5
}
